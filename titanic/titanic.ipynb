{
 "cells": [
  {
   "cell_type": "code",
   "execution_count": 2,
   "metadata": {},
   "outputs": [],
   "source": [
    "import pandas as pd\n",
    "import numpy as np\n",
    "import seaborn as sns\n",
    "import matplotlib.pyplot as plt\n",
    "import os\n",
    "import plotly.graph_objects as go\n",
    "import plotly.express as px\n",
    "\n"
   ]
  },
  {
   "cell_type": "code",
   "execution_count": 3,
   "metadata": {},
   "outputs": [
    {
     "data": {
      "text/html": [
       "<div>\n",
       "<style scoped>\n",
       "    .dataframe tbody tr th:only-of-type {\n",
       "        vertical-align: middle;\n",
       "    }\n",
       "\n",
       "    .dataframe tbody tr th {\n",
       "        vertical-align: top;\n",
       "    }\n",
       "\n",
       "    .dataframe thead th {\n",
       "        text-align: right;\n",
       "    }\n",
       "</style>\n",
       "<table border=\"1\" class=\"dataframe\">\n",
       "  <thead>\n",
       "    <tr style=\"text-align: right;\">\n",
       "      <th></th>\n",
       "      <th>PassengerId</th>\n",
       "      <th>Survived</th>\n",
       "      <th>Pclass</th>\n",
       "      <th>Name</th>\n",
       "      <th>Sex</th>\n",
       "      <th>Age</th>\n",
       "      <th>SibSp</th>\n",
       "      <th>Parch</th>\n",
       "      <th>Ticket</th>\n",
       "      <th>Fare</th>\n",
       "      <th>Cabin</th>\n",
       "      <th>Embarked</th>\n",
       "    </tr>\n",
       "  </thead>\n",
       "  <tbody>\n",
       "    <tr>\n",
       "      <th>0</th>\n",
       "      <td>1</td>\n",
       "      <td>0</td>\n",
       "      <td>3</td>\n",
       "      <td>Braund, Mr. Owen Harris</td>\n",
       "      <td>male</td>\n",
       "      <td>22.0</td>\n",
       "      <td>1</td>\n",
       "      <td>0</td>\n",
       "      <td>A/5 21171</td>\n",
       "      <td>7.2500</td>\n",
       "      <td>NaN</td>\n",
       "      <td>S</td>\n",
       "    </tr>\n",
       "    <tr>\n",
       "      <th>1</th>\n",
       "      <td>2</td>\n",
       "      <td>1</td>\n",
       "      <td>1</td>\n",
       "      <td>Cumings, Mrs. John Bradley (Florence Briggs Th...</td>\n",
       "      <td>female</td>\n",
       "      <td>38.0</td>\n",
       "      <td>1</td>\n",
       "      <td>0</td>\n",
       "      <td>PC 17599</td>\n",
       "      <td>71.2833</td>\n",
       "      <td>C85</td>\n",
       "      <td>C</td>\n",
       "    </tr>\n",
       "    <tr>\n",
       "      <th>2</th>\n",
       "      <td>3</td>\n",
       "      <td>1</td>\n",
       "      <td>3</td>\n",
       "      <td>Heikkinen, Miss. Laina</td>\n",
       "      <td>female</td>\n",
       "      <td>26.0</td>\n",
       "      <td>0</td>\n",
       "      <td>0</td>\n",
       "      <td>STON/O2. 3101282</td>\n",
       "      <td>7.9250</td>\n",
       "      <td>NaN</td>\n",
       "      <td>S</td>\n",
       "    </tr>\n",
       "    <tr>\n",
       "      <th>3</th>\n",
       "      <td>4</td>\n",
       "      <td>1</td>\n",
       "      <td>1</td>\n",
       "      <td>Futrelle, Mrs. Jacques Heath (Lily May Peel)</td>\n",
       "      <td>female</td>\n",
       "      <td>35.0</td>\n",
       "      <td>1</td>\n",
       "      <td>0</td>\n",
       "      <td>113803</td>\n",
       "      <td>53.1000</td>\n",
       "      <td>C123</td>\n",
       "      <td>S</td>\n",
       "    </tr>\n",
       "    <tr>\n",
       "      <th>4</th>\n",
       "      <td>5</td>\n",
       "      <td>0</td>\n",
       "      <td>3</td>\n",
       "      <td>Allen, Mr. William Henry</td>\n",
       "      <td>male</td>\n",
       "      <td>35.0</td>\n",
       "      <td>0</td>\n",
       "      <td>0</td>\n",
       "      <td>373450</td>\n",
       "      <td>8.0500</td>\n",
       "      <td>NaN</td>\n",
       "      <td>S</td>\n",
       "    </tr>\n",
       "    <tr>\n",
       "      <th>...</th>\n",
       "      <td>...</td>\n",
       "      <td>...</td>\n",
       "      <td>...</td>\n",
       "      <td>...</td>\n",
       "      <td>...</td>\n",
       "      <td>...</td>\n",
       "      <td>...</td>\n",
       "      <td>...</td>\n",
       "      <td>...</td>\n",
       "      <td>...</td>\n",
       "      <td>...</td>\n",
       "      <td>...</td>\n",
       "    </tr>\n",
       "    <tr>\n",
       "      <th>886</th>\n",
       "      <td>887</td>\n",
       "      <td>0</td>\n",
       "      <td>2</td>\n",
       "      <td>Montvila, Rev. Juozas</td>\n",
       "      <td>male</td>\n",
       "      <td>27.0</td>\n",
       "      <td>0</td>\n",
       "      <td>0</td>\n",
       "      <td>211536</td>\n",
       "      <td>13.0000</td>\n",
       "      <td>NaN</td>\n",
       "      <td>S</td>\n",
       "    </tr>\n",
       "    <tr>\n",
       "      <th>887</th>\n",
       "      <td>888</td>\n",
       "      <td>1</td>\n",
       "      <td>1</td>\n",
       "      <td>Graham, Miss. Margaret Edith</td>\n",
       "      <td>female</td>\n",
       "      <td>19.0</td>\n",
       "      <td>0</td>\n",
       "      <td>0</td>\n",
       "      <td>112053</td>\n",
       "      <td>30.0000</td>\n",
       "      <td>B42</td>\n",
       "      <td>S</td>\n",
       "    </tr>\n",
       "    <tr>\n",
       "      <th>888</th>\n",
       "      <td>889</td>\n",
       "      <td>0</td>\n",
       "      <td>3</td>\n",
       "      <td>Johnston, Miss. Catherine Helen \"Carrie\"</td>\n",
       "      <td>female</td>\n",
       "      <td>NaN</td>\n",
       "      <td>1</td>\n",
       "      <td>2</td>\n",
       "      <td>W./C. 6607</td>\n",
       "      <td>23.4500</td>\n",
       "      <td>NaN</td>\n",
       "      <td>S</td>\n",
       "    </tr>\n",
       "    <tr>\n",
       "      <th>889</th>\n",
       "      <td>890</td>\n",
       "      <td>1</td>\n",
       "      <td>1</td>\n",
       "      <td>Behr, Mr. Karl Howell</td>\n",
       "      <td>male</td>\n",
       "      <td>26.0</td>\n",
       "      <td>0</td>\n",
       "      <td>0</td>\n",
       "      <td>111369</td>\n",
       "      <td>30.0000</td>\n",
       "      <td>C148</td>\n",
       "      <td>C</td>\n",
       "    </tr>\n",
       "    <tr>\n",
       "      <th>890</th>\n",
       "      <td>891</td>\n",
       "      <td>0</td>\n",
       "      <td>3</td>\n",
       "      <td>Dooley, Mr. Patrick</td>\n",
       "      <td>male</td>\n",
       "      <td>32.0</td>\n",
       "      <td>0</td>\n",
       "      <td>0</td>\n",
       "      <td>370376</td>\n",
       "      <td>7.7500</td>\n",
       "      <td>NaN</td>\n",
       "      <td>Q</td>\n",
       "    </tr>\n",
       "  </tbody>\n",
       "</table>\n",
       "<p>891 rows × 12 columns</p>\n",
       "</div>"
      ],
      "text/plain": [
       "     PassengerId  Survived  Pclass  \\\n",
       "0              1         0       3   \n",
       "1              2         1       1   \n",
       "2              3         1       3   \n",
       "3              4         1       1   \n",
       "4              5         0       3   \n",
       "..           ...       ...     ...   \n",
       "886          887         0       2   \n",
       "887          888         1       1   \n",
       "888          889         0       3   \n",
       "889          890         1       1   \n",
       "890          891         0       3   \n",
       "\n",
       "                                                  Name     Sex   Age  SibSp  \\\n",
       "0                              Braund, Mr. Owen Harris    male  22.0      1   \n",
       "1    Cumings, Mrs. John Bradley (Florence Briggs Th...  female  38.0      1   \n",
       "2                               Heikkinen, Miss. Laina  female  26.0      0   \n",
       "3         Futrelle, Mrs. Jacques Heath (Lily May Peel)  female  35.0      1   \n",
       "4                             Allen, Mr. William Henry    male  35.0      0   \n",
       "..                                                 ...     ...   ...    ...   \n",
       "886                              Montvila, Rev. Juozas    male  27.0      0   \n",
       "887                       Graham, Miss. Margaret Edith  female  19.0      0   \n",
       "888           Johnston, Miss. Catherine Helen \"Carrie\"  female   NaN      1   \n",
       "889                              Behr, Mr. Karl Howell    male  26.0      0   \n",
       "890                                Dooley, Mr. Patrick    male  32.0      0   \n",
       "\n",
       "     Parch            Ticket     Fare Cabin Embarked  \n",
       "0        0         A/5 21171   7.2500   NaN        S  \n",
       "1        0          PC 17599  71.2833   C85        C  \n",
       "2        0  STON/O2. 3101282   7.9250   NaN        S  \n",
       "3        0            113803  53.1000  C123        S  \n",
       "4        0            373450   8.0500   NaN        S  \n",
       "..     ...               ...      ...   ...      ...  \n",
       "886      0            211536  13.0000   NaN        S  \n",
       "887      0            112053  30.0000   B42        S  \n",
       "888      2        W./C. 6607  23.4500   NaN        S  \n",
       "889      0            111369  30.0000  C148        C  \n",
       "890      0            370376   7.7500   NaN        Q  \n",
       "\n",
       "[891 rows x 12 columns]"
      ]
     },
     "execution_count": 3,
     "metadata": {},
     "output_type": "execute_result"
    }
   ],
   "source": [
    "df = pd.read_csv('titanic.csv')\n",
    "\n",
    "df"
   ]
  },
  {
   "cell_type": "code",
   "execution_count": 4,
   "metadata": {},
   "outputs": [
    {
     "data": {
      "text/plain": [
       "Index(['PassengerId', 'Survived', 'Pclass', 'Name', 'Sex', 'Age', 'SibSp',\n",
       "       'Parch', 'Ticket', 'Fare', 'Cabin', 'Embarked'],\n",
       "      dtype='object')"
      ]
     },
     "execution_count": 4,
     "metadata": {},
     "output_type": "execute_result"
    }
   ],
   "source": [
    "# PassengerId: identificador único del pasajero.\n",
    "\n",
    "# Survived: si el pasajero sobrevivió al naufragio, codificada como 0 (no) y 1 (si). Esta es la variable respuesta que interesa predecir.\n",
    "\n",
    "# Pclass: clase a la que pertenecía el pasajero: 1, 2 o 3.\n",
    "\n",
    "# Name: nombre del pasajero.\n",
    "\n",
    "#Sex: sexo del pasajero.\n",
    "\n",
    "# Age: edad del pasajero.\n",
    "\n",
    "# SibSp: número de hermanos, hermanas, hermanastros o hermanastras en el barco.\n",
    "\n",
    "# Parch: número de padres e hijos en el barco.\n",
    "\n",
    "#Ticket: identificador del billete.\n",
    "\n",
    "# Fare: precio pagado por el billete.\n",
    "\n",
    "# Cabin: identificador del camarote asignado al pasajero.\n",
    "\n",
    "#Embarked: puerto en el que embarcó el pasajero.\n",
    "\n",
    "df.columns"
   ]
  },
  {
   "cell_type": "code",
   "execution_count": 5,
   "metadata": {},
   "outputs": [
    {
     "name": "stdout",
     "output_type": "stream",
     "text": [
      "<class 'pandas.core.frame.DataFrame'>\n",
      "RangeIndex: 891 entries, 0 to 890\n",
      "Data columns (total 12 columns):\n",
      " #   Column       Non-Null Count  Dtype  \n",
      "---  ------       --------------  -----  \n",
      " 0   PassengerId  891 non-null    int64  \n",
      " 1   Survived     891 non-null    int64  \n",
      " 2   Pclass       891 non-null    int64  \n",
      " 3   Name         891 non-null    object \n",
      " 4   Sex          891 non-null    object \n",
      " 5   Age          714 non-null    float64\n",
      " 6   SibSp        891 non-null    int64  \n",
      " 7   Parch        891 non-null    int64  \n",
      " 8   Ticket       891 non-null    object \n",
      " 9   Fare         891 non-null    float64\n",
      " 10  Cabin        204 non-null    object \n",
      " 11  Embarked     889 non-null    object \n",
      "dtypes: float64(2), int64(5), object(5)\n",
      "memory usage: 83.7+ KB\n"
     ]
    }
   ],
   "source": [
    "df.info()"
   ]
  },
  {
   "cell_type": "code",
   "execution_count": 6,
   "metadata": {},
   "outputs": [
    {
     "name": "stdout",
     "output_type": "stream",
     "text": [
      "891\n",
      "891\n"
     ]
    }
   ],
   "source": [
    "print(len(df))\n",
    "df.drop_duplicates(inplace=True)\n",
    "print(len(df))"
   ]
  },
  {
   "cell_type": "code",
   "execution_count": 7,
   "metadata": {},
   "outputs": [
    {
     "data": {
      "text/plain": [
       "PassengerId    891\n",
       "Survived         2\n",
       "Pclass           3\n",
       "Name           891\n",
       "Sex              2\n",
       "Age             88\n",
       "SibSp            7\n",
       "Parch            7\n",
       "Ticket         681\n",
       "Fare           248\n",
       "Cabin          147\n",
       "Embarked         3\n",
       "dtype: int64"
      ]
     },
     "execution_count": 7,
     "metadata": {},
     "output_type": "execute_result"
    }
   ],
   "source": [
    "# Parece que los valores únicos por cada columna son consistentes con la descripción de cada una y sus valores posibles\n",
    "\n",
    "df.nunique()"
   ]
  },
  {
   "cell_type": "code",
   "execution_count": 8,
   "metadata": {},
   "outputs": [
    {
     "data": {
      "text/plain": [
       "Pclass\n",
       "3    479\n",
       "2    168\n",
       "1     40\n",
       "dtype: int64"
      ]
     },
     "execution_count": 8,
     "metadata": {},
     "output_type": "execute_result"
    }
   ],
   "source": [
    "# Tenemos dos variables con Nan, Age y Cabin.\n",
    "# En Cabin vemos que la gran parte de Nan aparecen para gente que compró su billet en 3 clase, podría deberse a que en esa clase no se tenía camarote asignado, para nuestro análisis vamos a rellenar los NaN con los siguientes valores de su columna\n",
    "\n",
    "df[df['Cabin'].isna()== True ].value_counts('Pclass')"
   ]
  },
  {
   "cell_type": "code",
   "execution_count": 9,
   "metadata": {},
   "outputs": [
    {
     "data": {
      "text/plain": [
       "<AxesSubplot: xlabel='Pclass', ylabel='Count'>"
      ]
     },
     "execution_count": 9,
     "metadata": {},
     "output_type": "execute_result"
    },
    {
     "data": {
      "image/png": "[encoded data removed]",
      "text/plain": [
       "<Figure size 640x480 with 1 Axes>"
      ]
     },
     "metadata": {},
     "output_type": "display_data"
    }
   ],
   "source": [
    "sns.histplot(x='Pclass', data=df[df['Cabin'].isna()== True ])"
   ]
  },
  {
   "cell_type": "code",
   "execution_count": 10,
   "metadata": {},
   "outputs": [
    {
     "data": {
      "text/html": [
       "<div>\n",
       "<style scoped>\n",
       "    .dataframe tbody tr th:only-of-type {\n",
       "        vertical-align: middle;\n",
       "    }\n",
       "\n",
       "    .dataframe tbody tr th {\n",
       "        vertical-align: top;\n",
       "    }\n",
       "\n",
       "    .dataframe thead th {\n",
       "        text-align: right;\n",
       "    }\n",
       "</style>\n",
       "<table border=\"1\" class=\"dataframe\">\n",
       "  <thead>\n",
       "    <tr style=\"text-align: right;\">\n",
       "      <th></th>\n",
       "      <th>PassengerId</th>\n",
       "      <th>Survived</th>\n",
       "      <th>Pclass</th>\n",
       "      <th>Name</th>\n",
       "      <th>Sex</th>\n",
       "      <th>Age</th>\n",
       "      <th>SibSp</th>\n",
       "      <th>Parch</th>\n",
       "      <th>Ticket</th>\n",
       "      <th>Fare</th>\n",
       "      <th>Cabin</th>\n",
       "      <th>Embarked</th>\n",
       "    </tr>\n",
       "  </thead>\n",
       "  <tbody>\n",
       "    <tr>\n",
       "      <th>0</th>\n",
       "      <td>1</td>\n",
       "      <td>0</td>\n",
       "      <td>3</td>\n",
       "      <td>Braund, Mr. Owen Harris</td>\n",
       "      <td>male</td>\n",
       "      <td>22.0</td>\n",
       "      <td>1</td>\n",
       "      <td>0</td>\n",
       "      <td>A/5 21171</td>\n",
       "      <td>7.2500</td>\n",
       "      <td>NaN</td>\n",
       "      <td>S</td>\n",
       "    </tr>\n",
       "    <tr>\n",
       "      <th>1</th>\n",
       "      <td>2</td>\n",
       "      <td>1</td>\n",
       "      <td>1</td>\n",
       "      <td>Cumings, Mrs. John Bradley (Florence Briggs Th...</td>\n",
       "      <td>female</td>\n",
       "      <td>38.0</td>\n",
       "      <td>1</td>\n",
       "      <td>0</td>\n",
       "      <td>PC 17599</td>\n",
       "      <td>71.2833</td>\n",
       "      <td>C85</td>\n",
       "      <td>C</td>\n",
       "    </tr>\n",
       "    <tr>\n",
       "      <th>2</th>\n",
       "      <td>3</td>\n",
       "      <td>1</td>\n",
       "      <td>3</td>\n",
       "      <td>Heikkinen, Miss. Laina</td>\n",
       "      <td>female</td>\n",
       "      <td>26.0</td>\n",
       "      <td>0</td>\n",
       "      <td>0</td>\n",
       "      <td>STON/O2. 3101282</td>\n",
       "      <td>7.9250</td>\n",
       "      <td>NaN</td>\n",
       "      <td>S</td>\n",
       "    </tr>\n",
       "    <tr>\n",
       "      <th>3</th>\n",
       "      <td>4</td>\n",
       "      <td>1</td>\n",
       "      <td>1</td>\n",
       "      <td>Futrelle, Mrs. Jacques Heath (Lily May Peel)</td>\n",
       "      <td>female</td>\n",
       "      <td>35.0</td>\n",
       "      <td>1</td>\n",
       "      <td>0</td>\n",
       "      <td>113803</td>\n",
       "      <td>53.1000</td>\n",
       "      <td>C123</td>\n",
       "      <td>S</td>\n",
       "    </tr>\n",
       "    <tr>\n",
       "      <th>4</th>\n",
       "      <td>5</td>\n",
       "      <td>0</td>\n",
       "      <td>3</td>\n",
       "      <td>Allen, Mr. William Henry</td>\n",
       "      <td>male</td>\n",
       "      <td>35.0</td>\n",
       "      <td>0</td>\n",
       "      <td>0</td>\n",
       "      <td>373450</td>\n",
       "      <td>8.0500</td>\n",
       "      <td>NaN</td>\n",
       "      <td>S</td>\n",
       "    </tr>\n",
       "    <tr>\n",
       "      <th>...</th>\n",
       "      <td>...</td>\n",
       "      <td>...</td>\n",
       "      <td>...</td>\n",
       "      <td>...</td>\n",
       "      <td>...</td>\n",
       "      <td>...</td>\n",
       "      <td>...</td>\n",
       "      <td>...</td>\n",
       "      <td>...</td>\n",
       "      <td>...</td>\n",
       "      <td>...</td>\n",
       "      <td>...</td>\n",
       "    </tr>\n",
       "    <tr>\n",
       "      <th>886</th>\n",
       "      <td>887</td>\n",
       "      <td>0</td>\n",
       "      <td>2</td>\n",
       "      <td>Montvila, Rev. Juozas</td>\n",
       "      <td>male</td>\n",
       "      <td>27.0</td>\n",
       "      <td>0</td>\n",
       "      <td>0</td>\n",
       "      <td>211536</td>\n",
       "      <td>13.0000</td>\n",
       "      <td>NaN</td>\n",
       "      <td>S</td>\n",
       "    </tr>\n",
       "    <tr>\n",
       "      <th>887</th>\n",
       "      <td>888</td>\n",
       "      <td>1</td>\n",
       "      <td>1</td>\n",
       "      <td>Graham, Miss. Margaret Edith</td>\n",
       "      <td>female</td>\n",
       "      <td>19.0</td>\n",
       "      <td>0</td>\n",
       "      <td>0</td>\n",
       "      <td>112053</td>\n",
       "      <td>30.0000</td>\n",
       "      <td>B42</td>\n",
       "      <td>S</td>\n",
       "    </tr>\n",
       "    <tr>\n",
       "      <th>888</th>\n",
       "      <td>889</td>\n",
       "      <td>0</td>\n",
       "      <td>3</td>\n",
       "      <td>Johnston, Miss. Catherine Helen \"Carrie\"</td>\n",
       "      <td>female</td>\n",
       "      <td>NaN</td>\n",
       "      <td>1</td>\n",
       "      <td>2</td>\n",
       "      <td>W./C. 6607</td>\n",
       "      <td>23.4500</td>\n",
       "      <td>NaN</td>\n",
       "      <td>S</td>\n",
       "    </tr>\n",
       "    <tr>\n",
       "      <th>889</th>\n",
       "      <td>890</td>\n",
       "      <td>1</td>\n",
       "      <td>1</td>\n",
       "      <td>Behr, Mr. Karl Howell</td>\n",
       "      <td>male</td>\n",
       "      <td>26.0</td>\n",
       "      <td>0</td>\n",
       "      <td>0</td>\n",
       "      <td>111369</td>\n",
       "      <td>30.0000</td>\n",
       "      <td>C148</td>\n",
       "      <td>C</td>\n",
       "    </tr>\n",
       "    <tr>\n",
       "      <th>890</th>\n",
       "      <td>891</td>\n",
       "      <td>0</td>\n",
       "      <td>3</td>\n",
       "      <td>Dooley, Mr. Patrick</td>\n",
       "      <td>male</td>\n",
       "      <td>32.0</td>\n",
       "      <td>0</td>\n",
       "      <td>0</td>\n",
       "      <td>370376</td>\n",
       "      <td>7.7500</td>\n",
       "      <td>NaN</td>\n",
       "      <td>Q</td>\n",
       "    </tr>\n",
       "  </tbody>\n",
       "</table>\n",
       "<p>891 rows × 12 columns</p>\n",
       "</div>"
      ],
      "text/plain": [
       "     PassengerId  Survived  Pclass  \\\n",
       "0              1         0       3   \n",
       "1              2         1       1   \n",
       "2              3         1       3   \n",
       "3              4         1       1   \n",
       "4              5         0       3   \n",
       "..           ...       ...     ...   \n",
       "886          887         0       2   \n",
       "887          888         1       1   \n",
       "888          889         0       3   \n",
       "889          890         1       1   \n",
       "890          891         0       3   \n",
       "\n",
       "                                                  Name     Sex   Age  SibSp  \\\n",
       "0                              Braund, Mr. Owen Harris    male  22.0      1   \n",
       "1    Cumings, Mrs. John Bradley (Florence Briggs Th...  female  38.0      1   \n",
       "2                               Heikkinen, Miss. Laina  female  26.0      0   \n",
       "3         Futrelle, Mrs. Jacques Heath (Lily May Peel)  female  35.0      1   \n",
       "4                             Allen, Mr. William Henry    male  35.0      0   \n",
       "..                                                 ...     ...   ...    ...   \n",
       "886                              Montvila, Rev. Juozas    male  27.0      0   \n",
       "887                       Graham, Miss. Margaret Edith  female  19.0      0   \n",
       "888           Johnston, Miss. Catherine Helen \"Carrie\"  female   NaN      1   \n",
       "889                              Behr, Mr. Karl Howell    male  26.0      0   \n",
       "890                                Dooley, Mr. Patrick    male  32.0      0   \n",
       "\n",
       "     Parch            Ticket     Fare Cabin Embarked  \n",
       "0        0         A/5 21171   7.2500   NaN        S  \n",
       "1        0          PC 17599  71.2833   C85        C  \n",
       "2        0  STON/O2. 3101282   7.9250   NaN        S  \n",
       "3        0            113803  53.1000  C123        S  \n",
       "4        0            373450   8.0500   NaN        S  \n",
       "..     ...               ...      ...   ...      ...  \n",
       "886      0            211536  13.0000   NaN        S  \n",
       "887      0            112053  30.0000   B42        S  \n",
       "888      2        W./C. 6607  23.4500   NaN        S  \n",
       "889      0            111369  30.0000  C148        C  \n",
       "890      0            370376   7.7500   NaN        Q  \n",
       "\n",
       "[891 rows x 12 columns]"
      ]
     },
     "execution_count": 10,
     "metadata": {},
     "output_type": "execute_result"
    }
   ],
   "source": [
    "df"
   ]
  },
  {
   "cell_type": "code",
   "execution_count": 11,
   "metadata": {},
   "outputs": [],
   "source": [
    "df['Cabin'].fillna(method='bfill', inplace=True)"
   ]
  },
  {
   "cell_type": "code",
   "execution_count": 12,
   "metadata": {},
   "outputs": [],
   "source": [
    "df['Cabin'].fillna(method='ffill', inplace=True)"
   ]
  },
  {
   "cell_type": "code",
   "execution_count": 13,
   "metadata": {},
   "outputs": [
    {
     "data": {
      "text/plain": [
       "0"
      ]
     },
     "execution_count": 13,
     "metadata": {},
     "output_type": "execute_result"
    }
   ],
   "source": [
    "df['Cabin'].isna().sum()"
   ]
  },
  {
   "cell_type": "code",
   "execution_count": 14,
   "metadata": {},
   "outputs": [
    {
     "data": {
      "text/plain": [
       "0"
      ]
     },
     "execution_count": 14,
     "metadata": {},
     "output_type": "execute_result"
    }
   ],
   "source": [
    "# Para la coluna Age tenemos 177 Nan, vamos a substituirlos por la mediana\n",
    "\n",
    "df['Age'].fillna(df['Age'].median(), inplace=True)\n",
    "df['Age'].isna().sum()"
   ]
  },
  {
   "cell_type": "code",
   "execution_count": 15,
   "metadata": {},
   "outputs": [],
   "source": [
    "df.set_index('PassengerId', inplace=True)"
   ]
  },
  {
   "cell_type": "code",
   "execution_count": 16,
   "metadata": {},
   "outputs": [
    {
     "data": {
      "text/html": [
       "<div>\n",
       "<style scoped>\n",
       "    .dataframe tbody tr th:only-of-type {\n",
       "        vertical-align: middle;\n",
       "    }\n",
       "\n",
       "    .dataframe tbody tr th {\n",
       "        vertical-align: top;\n",
       "    }\n",
       "\n",
       "    .dataframe thead th {\n",
       "        text-align: right;\n",
       "    }\n",
       "</style>\n",
       "<table border=\"1\" class=\"dataframe\">\n",
       "  <thead>\n",
       "    <tr style=\"text-align: right;\">\n",
       "      <th></th>\n",
       "      <th>Survived</th>\n",
       "      <th>Pclass</th>\n",
       "      <th>Name</th>\n",
       "      <th>Sex</th>\n",
       "      <th>Age</th>\n",
       "      <th>SibSp</th>\n",
       "      <th>Parch</th>\n",
       "      <th>Ticket</th>\n",
       "      <th>Fare</th>\n",
       "      <th>Cabin</th>\n",
       "      <th>Embarked</th>\n",
       "    </tr>\n",
       "    <tr>\n",
       "      <th>PassengerId</th>\n",
       "      <th></th>\n",
       "      <th></th>\n",
       "      <th></th>\n",
       "      <th></th>\n",
       "      <th></th>\n",
       "      <th></th>\n",
       "      <th></th>\n",
       "      <th></th>\n",
       "      <th></th>\n",
       "      <th></th>\n",
       "      <th></th>\n",
       "    </tr>\n",
       "  </thead>\n",
       "  <tbody>\n",
       "    <tr>\n",
       "      <th>1</th>\n",
       "      <td>0</td>\n",
       "      <td>3</td>\n",
       "      <td>Braund, Mr. Owen Harris</td>\n",
       "      <td>male</td>\n",
       "      <td>22.0</td>\n",
       "      <td>1</td>\n",
       "      <td>0</td>\n",
       "      <td>A/5 21171</td>\n",
       "      <td>7.2500</td>\n",
       "      <td>C85</td>\n",
       "      <td>S</td>\n",
       "    </tr>\n",
       "    <tr>\n",
       "      <th>2</th>\n",
       "      <td>1</td>\n",
       "      <td>1</td>\n",
       "      <td>Cumings, Mrs. John Bradley (Florence Briggs Th...</td>\n",
       "      <td>female</td>\n",
       "      <td>38.0</td>\n",
       "      <td>1</td>\n",
       "      <td>0</td>\n",
       "      <td>PC 17599</td>\n",
       "      <td>71.2833</td>\n",
       "      <td>C85</td>\n",
       "      <td>C</td>\n",
       "    </tr>\n",
       "    <tr>\n",
       "      <th>3</th>\n",
       "      <td>1</td>\n",
       "      <td>3</td>\n",
       "      <td>Heikkinen, Miss. Laina</td>\n",
       "      <td>female</td>\n",
       "      <td>26.0</td>\n",
       "      <td>0</td>\n",
       "      <td>0</td>\n",
       "      <td>STON/O2. 3101282</td>\n",
       "      <td>7.9250</td>\n",
       "      <td>C123</td>\n",
       "      <td>S</td>\n",
       "    </tr>\n",
       "    <tr>\n",
       "      <th>4</th>\n",
       "      <td>1</td>\n",
       "      <td>1</td>\n",
       "      <td>Futrelle, Mrs. Jacques Heath (Lily May Peel)</td>\n",
       "      <td>female</td>\n",
       "      <td>35.0</td>\n",
       "      <td>1</td>\n",
       "      <td>0</td>\n",
       "      <td>113803</td>\n",
       "      <td>53.1000</td>\n",
       "      <td>C123</td>\n",
       "      <td>S</td>\n",
       "    </tr>\n",
       "    <tr>\n",
       "      <th>5</th>\n",
       "      <td>0</td>\n",
       "      <td>3</td>\n",
       "      <td>Allen, Mr. William Henry</td>\n",
       "      <td>male</td>\n",
       "      <td>35.0</td>\n",
       "      <td>0</td>\n",
       "      <td>0</td>\n",
       "      <td>373450</td>\n",
       "      <td>8.0500</td>\n",
       "      <td>E46</td>\n",
       "      <td>S</td>\n",
       "    </tr>\n",
       "    <tr>\n",
       "      <th>...</th>\n",
       "      <td>...</td>\n",
       "      <td>...</td>\n",
       "      <td>...</td>\n",
       "      <td>...</td>\n",
       "      <td>...</td>\n",
       "      <td>...</td>\n",
       "      <td>...</td>\n",
       "      <td>...</td>\n",
       "      <td>...</td>\n",
       "      <td>...</td>\n",
       "      <td>...</td>\n",
       "    </tr>\n",
       "    <tr>\n",
       "      <th>887</th>\n",
       "      <td>0</td>\n",
       "      <td>2</td>\n",
       "      <td>Montvila, Rev. Juozas</td>\n",
       "      <td>male</td>\n",
       "      <td>27.0</td>\n",
       "      <td>0</td>\n",
       "      <td>0</td>\n",
       "      <td>211536</td>\n",
       "      <td>13.0000</td>\n",
       "      <td>B42</td>\n",
       "      <td>S</td>\n",
       "    </tr>\n",
       "    <tr>\n",
       "      <th>888</th>\n",
       "      <td>1</td>\n",
       "      <td>1</td>\n",
       "      <td>Graham, Miss. Margaret Edith</td>\n",
       "      <td>female</td>\n",
       "      <td>19.0</td>\n",
       "      <td>0</td>\n",
       "      <td>0</td>\n",
       "      <td>112053</td>\n",
       "      <td>30.0000</td>\n",
       "      <td>B42</td>\n",
       "      <td>S</td>\n",
       "    </tr>\n",
       "    <tr>\n",
       "      <th>889</th>\n",
       "      <td>0</td>\n",
       "      <td>3</td>\n",
       "      <td>Johnston, Miss. Catherine Helen \"Carrie\"</td>\n",
       "      <td>female</td>\n",
       "      <td>28.0</td>\n",
       "      <td>1</td>\n",
       "      <td>2</td>\n",
       "      <td>W./C. 6607</td>\n",
       "      <td>23.4500</td>\n",
       "      <td>C148</td>\n",
       "      <td>S</td>\n",
       "    </tr>\n",
       "    <tr>\n",
       "      <th>890</th>\n",
       "      <td>1</td>\n",
       "      <td>1</td>\n",
       "      <td>Behr, Mr. Karl Howell</td>\n",
       "      <td>male</td>\n",
       "      <td>26.0</td>\n",
       "      <td>0</td>\n",
       "      <td>0</td>\n",
       "      <td>111369</td>\n",
       "      <td>30.0000</td>\n",
       "      <td>C148</td>\n",
       "      <td>C</td>\n",
       "    </tr>\n",
       "    <tr>\n",
       "      <th>891</th>\n",
       "      <td>0</td>\n",
       "      <td>3</td>\n",
       "      <td>Dooley, Mr. Patrick</td>\n",
       "      <td>male</td>\n",
       "      <td>32.0</td>\n",
       "      <td>0</td>\n",
       "      <td>0</td>\n",
       "      <td>370376</td>\n",
       "      <td>7.7500</td>\n",
       "      <td>C148</td>\n",
       "      <td>Q</td>\n",
       "    </tr>\n",
       "  </tbody>\n",
       "</table>\n",
       "<p>891 rows × 11 columns</p>\n",
       "</div>"
      ],
      "text/plain": [
       "             Survived  Pclass  \\\n",
       "PassengerId                     \n",
       "1                   0       3   \n",
       "2                   1       1   \n",
       "3                   1       3   \n",
       "4                   1       1   \n",
       "5                   0       3   \n",
       "...               ...     ...   \n",
       "887                 0       2   \n",
       "888                 1       1   \n",
       "889                 0       3   \n",
       "890                 1       1   \n",
       "891                 0       3   \n",
       "\n",
       "                                                          Name     Sex   Age  \\\n",
       "PassengerId                                                                    \n",
       "1                                      Braund, Mr. Owen Harris    male  22.0   \n",
       "2            Cumings, Mrs. John Bradley (Florence Briggs Th...  female  38.0   \n",
       "3                                       Heikkinen, Miss. Laina  female  26.0   \n",
       "4                 Futrelle, Mrs. Jacques Heath (Lily May Peel)  female  35.0   \n",
       "5                                     Allen, Mr. William Henry    male  35.0   \n",
       "...                                                        ...     ...   ...   \n",
       "887                                      Montvila, Rev. Juozas    male  27.0   \n",
       "888                               Graham, Miss. Margaret Edith  female  19.0   \n",
       "889                   Johnston, Miss. Catherine Helen \"Carrie\"  female  28.0   \n",
       "890                                      Behr, Mr. Karl Howell    male  26.0   \n",
       "891                                        Dooley, Mr. Patrick    male  32.0   \n",
       "\n",
       "             SibSp  Parch            Ticket     Fare Cabin Embarked  \n",
       "PassengerId                                                          \n",
       "1                1      0         A/5 21171   7.2500   C85        S  \n",
       "2                1      0          PC 17599  71.2833   C85        C  \n",
       "3                0      0  STON/O2. 3101282   7.9250  C123        S  \n",
       "4                1      0            113803  53.1000  C123        S  \n",
       "5                0      0            373450   8.0500   E46        S  \n",
       "...            ...    ...               ...      ...   ...      ...  \n",
       "887              0      0            211536  13.0000   B42        S  \n",
       "888              0      0            112053  30.0000   B42        S  \n",
       "889              1      2        W./C. 6607  23.4500  C148        S  \n",
       "890              0      0            111369  30.0000  C148        C  \n",
       "891              0      0            370376   7.7500  C148        Q  \n",
       "\n",
       "[891 rows x 11 columns]"
      ]
     },
     "execution_count": 16,
     "metadata": {},
     "output_type": "execute_result"
    }
   ],
   "source": [
    "df"
   ]
  },
  {
   "cell_type": "code",
   "execution_count": 17,
   "metadata": {},
   "outputs": [],
   "source": [
    "# Una vez limpios los datos, vamos entenderlos mejor para hacernos una idea de cómo era la población del Titanic"
   ]
  },
  {
   "cell_type": "code",
   "execution_count": 69,
   "metadata": {},
   "outputs": [
    {
     "data": {
      "text/plain": [
       "Text(0.5, 1.0, 'Supervivientes')"
      ]
     },
     "execution_count": 69,
     "metadata": {},
     "output_type": "execute_result"
    },
    {
     "data": {
      "image/png": "[encoded data removed]",
      "text/plain": [
       "<Figure size 640x480 with 1 Axes>"
      ]
     },
     "metadata": {},
     "output_type": "display_data"
    }
   ],
   "source": [
    "plt.pie( x =df['Survived'].value_counts(), labels= ['Not Survived', 'Survived'], explode=[0,0.04])\n",
    "plt.title('Supervivientes', fontsize = 14)\n"
   ]
  },
  {
   "cell_type": "code",
   "execution_count": 19,
   "metadata": {},
   "outputs": [
    {
     "data": {
      "application/vnd.plotly.v1+json": {
       "config": {
        "plotlyServerURL": "https://plot.ly"
       },
       "data": [
        {
         "alignmentgroup": "True",
         "hovertemplate": "x=%{x}<br>y=%{y}<extra></extra>",
         "legendgroup": "",
         "marker": {
          "color": "#636efa",
          "pattern": {
           "shape": ""
          }
         },
         "name": "",
         "offsetgroup": "",
         "orientation": "v",
         "showlegend": false,
         "textposition": "auto",
         "type": "bar",
         "x": [
          3,
          1,
          2
         ],
         "xaxis": "x",
         "y": [
          491,
          216,
          184
         ],
         "yaxis": "y"
        }
       ],
       "layout": {
        "barmode": "relative",
        "legend": {
         "tracegroupgap": 0
        },
        "margin": {
         "t": 60
        },
        "template": {
         "data": {
          "bar": [
           {
            "error_x": {
             "color": "#f2f5fa"
            },
            "error_y": {
             "color": "#f2f5fa"
            },
            "marker": {
             "line": {
              "color": "rgb(17,17,17)",
              "width": 0.5
             },
             "pattern": {
              "fillmode": "overlay",
              "size": 10,
              "solidity": 0.2
             }
            },
            "type": "bar"
           }
          ],
          "barpolar": [
           {
            "marker": {
             "line": {
              "color": "rgb(17,17,17)",
              "width": 0.5
             },
             "pattern": {
              "fillmode": "overlay",
              "size": 10,
              "solidity": 0.2
             }
            },
            "type": "barpolar"
           }
          ],
          "carpet": [
           {
            "aaxis": {
             "endlinecolor": "#A2B1C6",
             "gridcolor": "#506784",
             "linecolor": "#506784",
             "minorgridcolor": "#506784",
             "startlinecolor": "#A2B1C6"
            },
            "baxis": {
             "endlinecolor": "#A2B1C6",
             "gridcolor": "#506784",
             "linecolor": "#506784",
             "minorgridcolor": "#506784",
             "startlinecolor": "#A2B1C6"
            },
            "type": "carpet"
           }
          ],
          "choropleth": [
           {
            "colorbar": {
             "outlinewidth": 0,
             "ticks": ""
            },
            "type": "choropleth"
           }
          ],
          "contour": [
           {
            "colorbar": {
             "outlinewidth": 0,
             "ticks": ""
            },
            "colorscale": [
             [
              0,
              "#0d0887"
             ],
             [
              0.1111111111111111,
              "#46039f"
             ],
             [
              0.2222222222222222,
              "#7201a8"
             ],
             [
              0.3333333333333333,
              "#9c179e"
             ],
             [
              0.4444444444444444,
              "#bd3786"
             ],
             [
              0.5555555555555556,
              "#d8576b"
             ],
             [
              0.6666666666666666,
              "#ed7953"
             ],
             [
              0.7777777777777778,
              "#fb9f3a"
             ],
             [
              0.8888888888888888,
              "#fdca26"
             ],
             [
              1,
              "#f0f921"
             ]
            ],
            "type": "contour"
           }
          ],
          "contourcarpet": [
           {
            "colorbar": {
             "outlinewidth": 0,
             "ticks": ""
            },
            "type": "contourcarpet"
           }
          ],
          "heatmap": [
           {
            "colorbar": {
             "outlinewidth": 0,
             "ticks": ""
            },
            "colorscale": [
             [
              0,
              "#0d0887"
             ],
             [
              0.1111111111111111,
              "#46039f"
             ],
             [
              0.2222222222222222,
              "#7201a8"
             ],
             [
              0.3333333333333333,
              "#9c179e"
             ],
             [
              0.4444444444444444,
              "#bd3786"
             ],
             [
              0.5555555555555556,
              "#d8576b"
             ],
             [
              0.6666666666666666,
              "#ed7953"
             ],
             [
              0.7777777777777778,
              "#fb9f3a"
             ],
             [
              0.8888888888888888,
              "#fdca26"
             ],
             [
              1,
              "#f0f921"
             ]
            ],
            "type": "heatmap"
           }
          ],
          "heatmapgl": [
           {
            "colorbar": {
             "outlinewidth": 0,
             "ticks": ""
            },
            "colorscale": [
             [
              0,
              "#0d0887"
             ],
             [
              0.1111111111111111,
              "#46039f"
             ],
             [
              0.2222222222222222,
              "#7201a8"
             ],
             [
              0.3333333333333333,
              "#9c179e"
             ],
             [
              0.4444444444444444,
              "#bd3786"
             ],
             [
              0.5555555555555556,
              "#d8576b"
             ],
             [
              0.6666666666666666,
              "#ed7953"
             ],
             [
              0.7777777777777778,
              "#fb9f3a"
             ],
             [
              0.8888888888888888,
              "#fdca26"
             ],
             [
              1,
              "#f0f921"
             ]
            ],
            "type": "heatmapgl"
           }
          ],
          "histogram": [
           {
            "marker": {
             "pattern": {
              "fillmode": "overlay",
              "size": 10,
              "solidity": 0.2
             }
            },
            "type": "histogram"
           }
          ],
          "histogram2d": [
           {
            "colorbar": {
             "outlinewidth": 0,
             "ticks": ""
            },
            "colorscale": [
             [
              0,
              "#0d0887"
             ],
             [
              0.1111111111111111,
              "#46039f"
             ],
             [
              0.2222222222222222,
              "#7201a8"
             ],
             [
              0.3333333333333333,
              "#9c179e"
             ],
             [
              0.4444444444444444,
              "#bd3786"
             ],
             [
              0.5555555555555556,
              "#d8576b"
             ],
             [
              0.6666666666666666,
              "#ed7953"
             ],
             [
              0.7777777777777778,
              "#fb9f3a"
             ],
             [
              0.8888888888888888,
              "#fdca26"
             ],
             [
              1,
              "#f0f921"
             ]
            ],
            "type": "histogram2d"
           }
          ],
          "histogram2dcontour": [
           {
            "colorbar": {
             "outlinewidth": 0,
             "ticks": ""
            },
            "colorscale": [
             [
              0,
              "#0d0887"
             ],
             [
              0.1111111111111111,
              "#46039f"
             ],
             [
              0.2222222222222222,
              "#7201a8"
             ],
             [
              0.3333333333333333,
              "#9c179e"
             ],
             [
              0.4444444444444444,
              "#bd3786"
             ],
             [
              0.5555555555555556,
              "#d8576b"
             ],
             [
              0.6666666666666666,
              "#ed7953"
             ],
             [
              0.7777777777777778,
              "#fb9f3a"
             ],
             [
              0.8888888888888888,
              "#fdca26"
             ],
             [
              1,
              "#f0f921"
             ]
            ],
            "type": "histogram2dcontour"
           }
          ],
          "mesh3d": [
           {
            "colorbar": {
             "outlinewidth": 0,
             "ticks": ""
            },
            "type": "mesh3d"
           }
          ],
          "parcoords": [
           {
            "line": {
             "colorbar": {
              "outlinewidth": 0,
              "ticks": ""
             }
            },
            "type": "parcoords"
           }
          ],
          "pie": [
           {
            "automargin": true,
            "type": "pie"
           }
          ],
          "scatter": [
           {
            "marker": {
             "line": {
              "color": "#283442"
             }
            },
            "type": "scatter"
           }
          ],
          "scatter3d": [
           {
            "line": {
             "colorbar": {
              "outlinewidth": 0,
              "ticks": ""
             }
            },
            "marker": {
             "colorbar": {
              "outlinewidth": 0,
              "ticks": ""
             }
            },
            "type": "scatter3d"
           }
          ],
          "scattercarpet": [
           {
            "marker": {
             "colorbar": {
              "outlinewidth": 0,
              "ticks": ""
             }
            },
            "type": "scattercarpet"
           }
          ],
          "scattergeo": [
           {
            "marker": {
             "colorbar": {
              "outlinewidth": 0,
              "ticks": ""
             }
            },
            "type": "scattergeo"
           }
          ],
          "scattergl": [
           {
            "marker": {
             "line": {
              "color": "#283442"
             }
            },
            "type": "scattergl"
           }
          ],
          "scattermapbox": [
           {
            "marker": {
             "colorbar": {
              "outlinewidth": 0,
              "ticks": ""
             }
            },
            "type": "scattermapbox"
           }
          ],
          "scatterpolar": [
           {
            "marker": {
             "colorbar": {
              "outlinewidth": 0,
              "ticks": ""
             }
            },
            "type": "scatterpolar"
           }
          ],
          "scatterpolargl": [
           {
            "marker": {
             "colorbar": {
              "outlinewidth": 0,
              "ticks": ""
             }
            },
            "type": "scatterpolargl"
           }
          ],
          "scatterternary": [
           {
            "marker": {
             "colorbar": {
              "outlinewidth": 0,
              "ticks": ""
             }
            },
            "type": "scatterternary"
           }
          ],
          "surface": [
           {
            "colorbar": {
             "outlinewidth": 0,
             "ticks": ""
            },
            "colorscale": [
             [
              0,
              "#0d0887"
             ],
             [
              0.1111111111111111,
              "#46039f"
             ],
             [
              0.2222222222222222,
              "#7201a8"
             ],
             [
              0.3333333333333333,
              "#9c179e"
             ],
             [
              0.4444444444444444,
              "#bd3786"
             ],
             [
              0.5555555555555556,
              "#d8576b"
             ],
             [
              0.6666666666666666,
              "#ed7953"
             ],
             [
              0.7777777777777778,
              "#fb9f3a"
             ],
             [
              0.8888888888888888,
              "#fdca26"
             ],
             [
              1,
              "#f0f921"
             ]
            ],
            "type": "surface"
           }
          ],
          "table": [
           {
            "cells": {
             "fill": {
              "color": "#506784"
             },
             "line": {
              "color": "rgb(17,17,17)"
             }
            },
            "header": {
             "fill": {
              "color": "#2a3f5f"
             },
             "line": {
              "color": "rgb(17,17,17)"
             }
            },
            "type": "table"
           }
          ]
         },
         "layout": {
          "annotationdefaults": {
           "arrowcolor": "#f2f5fa",
           "arrowhead": 0,
           "arrowwidth": 1
          },
          "autotypenumbers": "strict",
          "coloraxis": {
           "colorbar": {
            "outlinewidth": 0,
            "ticks": ""
           }
          },
          "colorscale": {
           "diverging": [
            [
             0,
             "#8e0152"
            ],
            [
             0.1,
             "#c51b7d"
            ],
            [
             0.2,
             "#de77ae"
            ],
            [
             0.3,
             "#f1b6da"
            ],
            [
             0.4,
             "#fde0ef"
            ],
            [
             0.5,
             "#f7f7f7"
            ],
            [
             0.6,
             "#e6f5d0"
            ],
            [
             0.7,
             "#b8e186"
            ],
            [
             0.8,
             "#7fbc41"
            ],
            [
             0.9,
             "#4d9221"
            ],
            [
             1,
             "#276419"
            ]
           ],
           "sequential": [
            [
             0,
             "#0d0887"
            ],
            [
             0.1111111111111111,
             "#46039f"
            ],
            [
             0.2222222222222222,
             "#7201a8"
            ],
            [
             0.3333333333333333,
             "#9c179e"
            ],
            [
             0.4444444444444444,
             "#bd3786"
            ],
            [
             0.5555555555555556,
             "#d8576b"
            ],
            [
             0.6666666666666666,
             "#ed7953"
            ],
            [
             0.7777777777777778,
             "#fb9f3a"
            ],
            [
             0.8888888888888888,
             "#fdca26"
            ],
            [
             1,
             "#f0f921"
            ]
           ],
           "sequentialminus": [
            [
             0,
             "#0d0887"
            ],
            [
             0.1111111111111111,
             "#46039f"
            ],
            [
             0.2222222222222222,
             "#7201a8"
            ],
            [
             0.3333333333333333,
             "#9c179e"
            ],
            [
             0.4444444444444444,
             "#bd3786"
            ],
            [
             0.5555555555555556,
             "#d8576b"
            ],
            [
             0.6666666666666666,
             "#ed7953"
            ],
            [
             0.7777777777777778,
             "#fb9f3a"
            ],
            [
             0.8888888888888888,
             "#fdca26"
            ],
            [
             1,
             "#f0f921"
            ]
           ]
          },
          "colorway": [
           "#636efa",
           "#EF553B",
           "#00cc96",
           "#ab63fa",
           "#FFA15A",
           "#19d3f3",
           "#FF6692",
           "#B6E880",
           "#FF97FF",
           "#FECB52"
          ],
          "font": {
           "color": "#f2f5fa"
          },
          "geo": {
           "bgcolor": "rgb(17,17,17)",
           "lakecolor": "rgb(17,17,17)",
           "landcolor": "rgb(17,17,17)",
           "showlakes": true,
           "showland": true,
           "subunitcolor": "#506784"
          },
          "hoverlabel": {
           "align": "left"
          },
          "hovermode": "closest",
          "mapbox": {
           "style": "dark"
          },
          "paper_bgcolor": "rgb(17,17,17)",
          "plot_bgcolor": "rgb(17,17,17)",
          "polar": {
           "angularaxis": {
            "gridcolor": "#506784",
            "linecolor": "#506784",
            "ticks": ""
           },
           "bgcolor": "rgb(17,17,17)",
           "radialaxis": {
            "gridcolor": "#506784",
            "linecolor": "#506784",
            "ticks": ""
           }
          },
          "scene": {
           "xaxis": {
            "backgroundcolor": "rgb(17,17,17)",
            "gridcolor": "#506784",
            "gridwidth": 2,
            "linecolor": "#506784",
            "showbackground": true,
            "ticks": "",
            "zerolinecolor": "#C8D4E3"
           },
           "yaxis": {
            "backgroundcolor": "rgb(17,17,17)",
            "gridcolor": "#506784",
            "gridwidth": 2,
            "linecolor": "#506784",
            "showbackground": true,
            "ticks": "",
            "zerolinecolor": "#C8D4E3"
           },
           "zaxis": {
            "backgroundcolor": "rgb(17,17,17)",
            "gridcolor": "#506784",
            "gridwidth": 2,
            "linecolor": "#506784",
            "showbackground": true,
            "ticks": "",
            "zerolinecolor": "#C8D4E3"
           }
          },
          "shapedefaults": {
           "line": {
            "color": "#f2f5fa"
           }
          },
          "sliderdefaults": {
           "bgcolor": "#C8D4E3",
           "bordercolor": "rgb(17,17,17)",
           "borderwidth": 1,
           "tickwidth": 0
          },
          "ternary": {
           "aaxis": {
            "gridcolor": "#506784",
            "linecolor": "#506784",
            "ticks": ""
           },
           "baxis": {
            "gridcolor": "#506784",
            "linecolor": "#506784",
            "ticks": ""
           },
           "bgcolor": "rgb(17,17,17)",
           "caxis": {
            "gridcolor": "#506784",
            "linecolor": "#506784",
            "ticks": ""
           }
          },
          "title": {
           "x": 0.05
          },
          "updatemenudefaults": {
           "bgcolor": "#506784",
           "borderwidth": 0
          },
          "xaxis": {
           "automargin": true,
           "gridcolor": "#283442",
           "linecolor": "#506784",
           "ticks": "",
           "title": {
            "standoff": 15
           },
           "zerolinecolor": "#283442",
           "zerolinewidth": 2
          },
          "yaxis": {
           "automargin": true,
           "gridcolor": "#283442",
           "linecolor": "#506784",
           "ticks": "",
           "title": {
            "standoff": 15
           },
           "zerolinecolor": "#283442",
           "zerolinewidth": 2
          }
         }
        },
        "xaxis": {
         "anchor": "y",
         "domain": [
          0,
          1
         ],
         "tickvals": [
          1,
          2,
          3
         ],
         "title": {
          "text": "Clase"
         }
        },
        "yaxis": {
         "anchor": "x",
         "domain": [
          0,
          1
         ],
         "title": {
          "text": "Nº de pasajeros"
         }
        }
       }
      }
     },
     "metadata": {},
     "output_type": "display_data"
    }
   ],
   "source": [
    "fig = px.bar(df, x =df['Pclass'].unique(),y=df['Pclass'].value_counts(), template='plotly_dark')\n",
    "fig.update_xaxes(tickvals=[1, 2, 3], title='Clase')\n",
    "fig.update_yaxes(title='Nº de pasajeros')\n",
    "fig"
   ]
  },
  {
   "cell_type": "code",
   "execution_count": 20,
   "metadata": {},
   "outputs": [
    {
     "data": {
      "text/plain": [
       "28.00    202\n",
       "24.00     30\n",
       "22.00     27\n",
       "18.00     26\n",
       "19.00     25\n",
       "        ... \n",
       "36.50      1\n",
       "55.50      1\n",
       "0.92       1\n",
       "23.50      1\n",
       "74.00      1\n",
       "Name: Age, Length: 88, dtype: int64"
      ]
     },
     "execution_count": 20,
     "metadata": {},
     "output_type": "execute_result"
    }
   ],
   "source": [
    "df['Age'].value_counts()"
   ]
  },
  {
   "cell_type": "code",
   "execution_count": 21,
   "metadata": {},
   "outputs": [
    {
     "data": {
      "text/plain": [
       "<seaborn.axisgrid.FacetGrid at 0x12f709990>"
      ]
     },
     "execution_count": 21,
     "metadata": {},
     "output_type": "execute_result"
    },
    {
     "data": {
      "image/png": "[encoded data removed]",
      "text/plain": [
       "<Figure size 500x500 with 1 Axes>"
      ]
     },
     "metadata": {},
     "output_type": "display_data"
    }
   ],
   "source": [
    "sns.displot(x =df['Age'], kde=True)"
   ]
  },
  {
   "cell_type": "code",
   "execution_count": 22,
   "metadata": {},
   "outputs": [
    {
     "data": {
      "application/vnd.plotly.v1+json": {
       "config": {
        "plotlyServerURL": "https://plot.ly"
       },
       "data": [
        {
         "alignmentgroup": "True",
         "hovertemplate": "x=%{x}<br>y=%{y}<extra></extra>",
         "legendgroup": "",
         "marker": {
          "color": "rgb(76,114,176)",
          "pattern": {
           "shape": ""
          }
         },
         "name": "",
         "offsetgroup": "",
         "orientation": "v",
         "showlegend": false,
         "textposition": "auto",
         "type": "bar",
         "x": [
          "male",
          "female"
         ],
         "xaxis": "x",
         "y": [
          577,
          314
         ],
         "yaxis": "y"
        }
       ],
       "layout": {
        "barmode": "relative",
        "legend": {
         "tracegroupgap": 0
        },
        "margin": {
         "t": 60
        },
        "template": {
         "data": {
          "bar": [
           {
            "error_x": {
             "color": "rgb(36,36,36)"
            },
            "error_y": {
             "color": "rgb(36,36,36)"
            },
            "marker": {
             "line": {
              "color": "rgb(234,234,242)",
              "width": 0.5
             },
             "pattern": {
              "fillmode": "overlay",
              "size": 10,
              "solidity": 0.2
             }
            },
            "type": "bar"
           }
          ],
          "barpolar": [
           {
            "marker": {
             "line": {
              "color": "rgb(234,234,242)",
              "width": 0.5
             },
             "pattern": {
              "fillmode": "overlay",
              "size": 10,
              "solidity": 0.2
             }
            },
            "type": "barpolar"
           }
          ],
          "carpet": [
           {
            "aaxis": {
             "endlinecolor": "rgb(36,36,36)",
             "gridcolor": "white",
             "linecolor": "white",
             "minorgridcolor": "white",
             "startlinecolor": "rgb(36,36,36)"
            },
            "baxis": {
             "endlinecolor": "rgb(36,36,36)",
             "gridcolor": "white",
             "linecolor": "white",
             "minorgridcolor": "white",
             "startlinecolor": "rgb(36,36,36)"
            },
            "type": "carpet"
           }
          ],
          "choropleth": [
           {
            "colorbar": {
             "outlinewidth": 0,
             "tickcolor": "rgb(36,36,36)",
             "ticklen": 8,
             "ticks": "outside",
             "tickwidth": 2
            },
            "type": "choropleth"
           }
          ],
          "contour": [
           {
            "colorbar": {
             "outlinewidth": 0,
             "tickcolor": "rgb(36,36,36)",
             "ticklen": 8,
             "ticks": "outside",
             "tickwidth": 2
            },
            "colorscale": [
             [
              0,
              "rgb(2,4,25)"
             ],
             [
              0.06274509803921569,
              "rgb(24,15,41)"
             ],
             [
              0.12549019607843137,
              "rgb(47,23,57)"
             ],
             [
              0.18823529411764706,
              "rgb(71,28,72)"
             ],
             [
              0.25098039215686274,
              "rgb(97,30,82)"
             ],
             [
              0.3137254901960784,
              "rgb(123,30,89)"
             ],
             [
              0.3764705882352941,
              "rgb(150,27,91)"
             ],
             [
              0.4392156862745098,
              "rgb(177,22,88)"
             ],
             [
              0.5019607843137255,
              "rgb(203,26,79)"
             ],
             [
              0.5647058823529412,
              "rgb(223,47,67)"
             ],
             [
              0.6274509803921569,
              "rgb(236,76,61)"
             ],
             [
              0.6901960784313725,
              "rgb(242,107,73)"
             ],
             [
              0.7529411764705882,
              "rgb(244,135,95)"
             ],
             [
              0.8156862745098039,
              "rgb(245,162,122)"
             ],
             [
              0.8784313725490196,
              "rgb(246,188,153)"
             ],
             [
              0.9411764705882353,
              "rgb(247,212,187)"
             ],
             [
              1,
              "rgb(250,234,220)"
             ]
            ],
            "type": "contour"
           }
          ],
          "contourcarpet": [
           {
            "colorbar": {
             "outlinewidth": 0,
             "tickcolor": "rgb(36,36,36)",
             "ticklen": 8,
             "ticks": "outside",
             "tickwidth": 2
            },
            "type": "contourcarpet"
           }
          ],
          "heatmap": [
           {
            "colorbar": {
             "outlinewidth": 0,
             "tickcolor": "rgb(36,36,36)",
             "ticklen": 8,
             "ticks": "outside",
             "tickwidth": 2
            },
            "colorscale": [
             [
              0,
              "rgb(2,4,25)"
             ],
             [
              0.06274509803921569,
              "rgb(24,15,41)"
             ],
             [
              0.12549019607843137,
              "rgb(47,23,57)"
             ],
             [
              0.18823529411764706,
              "rgb(71,28,72)"
             ],
             [
              0.25098039215686274,
              "rgb(97,30,82)"
             ],
             [
              0.3137254901960784,
              "rgb(123,30,89)"
             ],
             [
              0.3764705882352941,
              "rgb(150,27,91)"
             ],
             [
              0.4392156862745098,
              "rgb(177,22,88)"
             ],
             [
              0.5019607843137255,
              "rgb(203,26,79)"
             ],
             [
              0.5647058823529412,
              "rgb(223,47,67)"
             ],
             [
              0.6274509803921569,
              "rgb(236,76,61)"
             ],
             [
              0.6901960784313725,
              "rgb(242,107,73)"
             ],
             [
              0.7529411764705882,
              "rgb(244,135,95)"
             ],
             [
              0.8156862745098039,
              "rgb(245,162,122)"
             ],
             [
              0.8784313725490196,
              "rgb(246,188,153)"
             ],
             [
              0.9411764705882353,
              "rgb(247,212,187)"
             ],
             [
              1,
              "rgb(250,234,220)"
             ]
            ],
            "type": "heatmap"
           }
          ],
          "heatmapgl": [
           {
            "colorbar": {
             "outlinewidth": 0,
             "tickcolor": "rgb(36,36,36)",
             "ticklen": 8,
             "ticks": "outside",
             "tickwidth": 2
            },
            "colorscale": [
             [
              0,
              "rgb(2,4,25)"
             ],
             [
              0.06274509803921569,
              "rgb(24,15,41)"
             ],
             [
              0.12549019607843137,
              "rgb(47,23,57)"
             ],
             [
              0.18823529411764706,
              "rgb(71,28,72)"
             ],
             [
              0.25098039215686274,
              "rgb(97,30,82)"
             ],
             [
              0.3137254901960784,
              "rgb(123,30,89)"
             ],
             [
              0.3764705882352941,
              "rgb(150,27,91)"
             ],
             [
              0.4392156862745098,
              "rgb(177,22,88)"
             ],
             [
              0.5019607843137255,
              "rgb(203,26,79)"
             ],
             [
              0.5647058823529412,
              "rgb(223,47,67)"
             ],
             [
              0.6274509803921569,
              "rgb(236,76,61)"
             ],
             [
              0.6901960784313725,
              "rgb(242,107,73)"
             ],
             [
              0.7529411764705882,
              "rgb(244,135,95)"
             ],
             [
              0.8156862745098039,
              "rgb(245,162,122)"
             ],
             [
              0.8784313725490196,
              "rgb(246,188,153)"
             ],
             [
              0.9411764705882353,
              "rgb(247,212,187)"
             ],
             [
              1,
              "rgb(250,234,220)"
             ]
            ],
            "type": "heatmapgl"
           }
          ],
          "histogram": [
           {
            "marker": {
             "pattern": {
              "fillmode": "overlay",
              "size": 10,
              "solidity": 0.2
             }
            },
            "type": "histogram"
           }
          ],
          "histogram2d": [
           {
            "colorbar": {
             "outlinewidth": 0,
             "tickcolor": "rgb(36,36,36)",
             "ticklen": 8,
             "ticks": "outside",
             "tickwidth": 2
            },
            "colorscale": [
             [
              0,
              "rgb(2,4,25)"
             ],
             [
              0.06274509803921569,
              "rgb(24,15,41)"
             ],
             [
              0.12549019607843137,
              "rgb(47,23,57)"
             ],
             [
              0.18823529411764706,
              "rgb(71,28,72)"
             ],
             [
              0.25098039215686274,
              "rgb(97,30,82)"
             ],
             [
              0.3137254901960784,
              "rgb(123,30,89)"
             ],
             [
              0.3764705882352941,
              "rgb(150,27,91)"
             ],
             [
              0.4392156862745098,
              "rgb(177,22,88)"
             ],
             [
              0.5019607843137255,
              "rgb(203,26,79)"
             ],
             [
              0.5647058823529412,
              "rgb(223,47,67)"
             ],
             [
              0.6274509803921569,
              "rgb(236,76,61)"
             ],
             [
              0.6901960784313725,
              "rgb(242,107,73)"
             ],
             [
              0.7529411764705882,
              "rgb(244,135,95)"
             ],
             [
              0.8156862745098039,
              "rgb(245,162,122)"
             ],
             [
              0.8784313725490196,
              "rgb(246,188,153)"
             ],
             [
              0.9411764705882353,
              "rgb(247,212,187)"
             ],
             [
              1,
              "rgb(250,234,220)"
             ]
            ],
            "type": "histogram2d"
           }
          ],
          "histogram2dcontour": [
           {
            "colorbar": {
             "outlinewidth": 0,
             "tickcolor": "rgb(36,36,36)",
             "ticklen": 8,
             "ticks": "outside",
             "tickwidth": 2
            },
            "colorscale": [
             [
              0,
              "rgb(2,4,25)"
             ],
             [
              0.06274509803921569,
              "rgb(24,15,41)"
             ],
             [
              0.12549019607843137,
              "rgb(47,23,57)"
             ],
             [
              0.18823529411764706,
              "rgb(71,28,72)"
             ],
             [
              0.25098039215686274,
              "rgb(97,30,82)"
             ],
             [
              0.3137254901960784,
              "rgb(123,30,89)"
             ],
             [
              0.3764705882352941,
              "rgb(150,27,91)"
             ],
             [
              0.4392156862745098,
              "rgb(177,22,88)"
             ],
             [
              0.5019607843137255,
              "rgb(203,26,79)"
             ],
             [
              0.5647058823529412,
              "rgb(223,47,67)"
             ],
             [
              0.6274509803921569,
              "rgb(236,76,61)"
             ],
             [
              0.6901960784313725,
              "rgb(242,107,73)"
             ],
             [
              0.7529411764705882,
              "rgb(244,135,95)"
             ],
             [
              0.8156862745098039,
              "rgb(245,162,122)"
             ],
             [
              0.8784313725490196,
              "rgb(246,188,153)"
             ],
             [
              0.9411764705882353,
              "rgb(247,212,187)"
             ],
             [
              1,
              "rgb(250,234,220)"
             ]
            ],
            "type": "histogram2dcontour"
           }
          ],
          "mesh3d": [
           {
            "colorbar": {
             "outlinewidth": 0,
             "tickcolor": "rgb(36,36,36)",
             "ticklen": 8,
             "ticks": "outside",
             "tickwidth": 2
            },
            "type": "mesh3d"
           }
          ],
          "parcoords": [
           {
            "line": {
             "colorbar": {
              "outlinewidth": 0,
              "tickcolor": "rgb(36,36,36)",
              "ticklen": 8,
              "ticks": "outside",
              "tickwidth": 2
             }
            },
            "type": "parcoords"
           }
          ],
          "pie": [
           {
            "automargin": true,
            "type": "pie"
           }
          ],
          "scatter": [
           {
            "fillpattern": {
             "fillmode": "overlay",
             "size": 10,
             "solidity": 0.2
            },
            "type": "scatter"
           }
          ],
          "scatter3d": [
           {
            "line": {
             "colorbar": {
              "outlinewidth": 0,
              "tickcolor": "rgb(36,36,36)",
              "ticklen": 8,
              "ticks": "outside",
              "tickwidth": 2
             }
            },
            "marker": {
             "colorbar": {
              "outlinewidth": 0,
              "tickcolor": "rgb(36,36,36)",
              "ticklen": 8,
              "ticks": "outside",
              "tickwidth": 2
             }
            },
            "type": "scatter3d"
           }
          ],
          "scattercarpet": [
           {
            "marker": {
             "colorbar": {
              "outlinewidth": 0,
              "tickcolor": "rgb(36,36,36)",
              "ticklen": 8,
              "ticks": "outside",
              "tickwidth": 2
             }
            },
            "type": "scattercarpet"
           }
          ],
          "scattergeo": [
           {
            "marker": {
             "colorbar": {
              "outlinewidth": 0,
              "tickcolor": "rgb(36,36,36)",
              "ticklen": 8,
              "ticks": "outside",
              "tickwidth": 2
             }
            },
            "type": "scattergeo"
           }
          ],
          "scattergl": [
           {
            "marker": {
             "colorbar": {
              "outlinewidth": 0,
              "tickcolor": "rgb(36,36,36)",
              "ticklen": 8,
              "ticks": "outside",
              "tickwidth": 2
             }
            },
            "type": "scattergl"
           }
          ],
          "scattermapbox": [
           {
            "marker": {
             "colorbar": {
              "outlinewidth": 0,
              "tickcolor": "rgb(36,36,36)",
              "ticklen": 8,
              "ticks": "outside",
              "tickwidth": 2
             }
            },
            "type": "scattermapbox"
           }
          ],
          "scatterpolar": [
           {
            "marker": {
             "colorbar": {
              "outlinewidth": 0,
              "tickcolor": "rgb(36,36,36)",
              "ticklen": 8,
              "ticks": "outside",
              "tickwidth": 2
             }
            },
            "type": "scatterpolar"
           }
          ],
          "scatterpolargl": [
           {
            "marker": {
             "colorbar": {
              "outlinewidth": 0,
              "tickcolor": "rgb(36,36,36)",
              "ticklen": 8,
              "ticks": "outside",
              "tickwidth": 2
             }
            },
            "type": "scatterpolargl"
           }
          ],
          "scatterternary": [
           {
            "marker": {
             "colorbar": {
              "outlinewidth": 0,
              "tickcolor": "rgb(36,36,36)",
              "ticklen": 8,
              "ticks": "outside",
              "tickwidth": 2
             }
            },
            "type": "scatterternary"
           }
          ],
          "surface": [
           {
            "colorbar": {
             "outlinewidth": 0,
             "tickcolor": "rgb(36,36,36)",
             "ticklen": 8,
             "ticks": "outside",
             "tickwidth": 2
            },
            "colorscale": [
             [
              0,
              "rgb(2,4,25)"
             ],
             [
              0.06274509803921569,
              "rgb(24,15,41)"
             ],
             [
              0.12549019607843137,
              "rgb(47,23,57)"
             ],
             [
              0.18823529411764706,
              "rgb(71,28,72)"
             ],
             [
              0.25098039215686274,
              "rgb(97,30,82)"
             ],
             [
              0.3137254901960784,
              "rgb(123,30,89)"
             ],
             [
              0.3764705882352941,
              "rgb(150,27,91)"
             ],
             [
              0.4392156862745098,
              "rgb(177,22,88)"
             ],
             [
              0.5019607843137255,
              "rgb(203,26,79)"
             ],
             [
              0.5647058823529412,
              "rgb(223,47,67)"
             ],
             [
              0.6274509803921569,
              "rgb(236,76,61)"
             ],
             [
              0.6901960784313725,
              "rgb(242,107,73)"
             ],
             [
              0.7529411764705882,
              "rgb(244,135,95)"
             ],
             [
              0.8156862745098039,
              "rgb(245,162,122)"
             ],
             [
              0.8784313725490196,
              "rgb(246,188,153)"
             ],
             [
              0.9411764705882353,
              "rgb(247,212,187)"
             ],
             [
              1,
              "rgb(250,234,220)"
             ]
            ],
            "type": "surface"
           }
          ],
          "table": [
           {
            "cells": {
             "fill": {
              "color": "rgb(231,231,240)"
             },
             "line": {
              "color": "white"
             }
            },
            "header": {
             "fill": {
              "color": "rgb(183,183,191)"
             },
             "line": {
              "color": "white"
             }
            },
            "type": "table"
           }
          ]
         },
         "layout": {
          "annotationdefaults": {
           "arrowcolor": "rgb(67,103,167)"
          },
          "autotypenumbers": "strict",
          "coloraxis": {
           "colorbar": {
            "outlinewidth": 0,
            "tickcolor": "rgb(36,36,36)",
            "ticklen": 8,
            "ticks": "outside",
            "tickwidth": 2
           }
          },
          "colorscale": {
           "sequential": [
            [
             0,
             "rgb(2,4,25)"
            ],
            [
             0.06274509803921569,
             "rgb(24,15,41)"
            ],
            [
             0.12549019607843137,
             "rgb(47,23,57)"
            ],
            [
             0.18823529411764706,
             "rgb(71,28,72)"
            ],
            [
             0.25098039215686274,
             "rgb(97,30,82)"
            ],
            [
             0.3137254901960784,
             "rgb(123,30,89)"
            ],
            [
             0.3764705882352941,
             "rgb(150,27,91)"
            ],
            [
             0.4392156862745098,
             "rgb(177,22,88)"
            ],
            [
             0.5019607843137255,
             "rgb(203,26,79)"
            ],
            [
             0.5647058823529412,
             "rgb(223,47,67)"
            ],
            [
             0.6274509803921569,
             "rgb(236,76,61)"
            ],
            [
             0.6901960784313725,
             "rgb(242,107,73)"
            ],
            [
             0.7529411764705882,
             "rgb(244,135,95)"
            ],
            [
             0.8156862745098039,
             "rgb(245,162,122)"
            ],
            [
             0.8784313725490196,
             "rgb(246,188,153)"
            ],
            [
             0.9411764705882353,
             "rgb(247,212,187)"
            ],
            [
             1,
             "rgb(250,234,220)"
            ]
           ],
           "sequentialminus": [
            [
             0,
             "rgb(2,4,25)"
            ],
            [
             0.06274509803921569,
             "rgb(24,15,41)"
            ],
            [
             0.12549019607843137,
             "rgb(47,23,57)"
            ],
            [
             0.18823529411764706,
             "rgb(71,28,72)"
            ],
            [
             0.25098039215686274,
             "rgb(97,30,82)"
            ],
            [
             0.3137254901960784,
             "rgb(123,30,89)"
            ],
            [
             0.3764705882352941,
             "rgb(150,27,91)"
            ],
            [
             0.4392156862745098,
             "rgb(177,22,88)"
            ],
            [
             0.5019607843137255,
             "rgb(203,26,79)"
            ],
            [
             0.5647058823529412,
             "rgb(223,47,67)"
            ],
            [
             0.6274509803921569,
             "rgb(236,76,61)"
            ],
            [
             0.6901960784313725,
             "rgb(242,107,73)"
            ],
            [
             0.7529411764705882,
             "rgb(244,135,95)"
            ],
            [
             0.8156862745098039,
             "rgb(245,162,122)"
            ],
            [
             0.8784313725490196,
             "rgb(246,188,153)"
            ],
            [
             0.9411764705882353,
             "rgb(247,212,187)"
            ],
            [
             1,
             "rgb(250,234,220)"
            ]
           ]
          },
          "colorway": [
           "rgb(76,114,176)",
           "rgb(221,132,82)",
           "rgb(85,168,104)",
           "rgb(196,78,82)",
           "rgb(129,114,179)",
           "rgb(147,120,96)",
           "rgb(218,139,195)",
           "rgb(140,140,140)",
           "rgb(204,185,116)",
           "rgb(100,181,205)"
          ],
          "font": {
           "color": "rgb(36,36,36)"
          },
          "geo": {
           "bgcolor": "white",
           "lakecolor": "white",
           "landcolor": "rgb(234,234,242)",
           "showlakes": true,
           "showland": true,
           "subunitcolor": "white"
          },
          "hoverlabel": {
           "align": "left"
          },
          "hovermode": "closest",
          "paper_bgcolor": "white",
          "plot_bgcolor": "rgb(234,234,242)",
          "polar": {
           "angularaxis": {
            "gridcolor": "white",
            "linecolor": "white",
            "showgrid": true,
            "ticks": ""
           },
           "bgcolor": "rgb(234,234,242)",
           "radialaxis": {
            "gridcolor": "white",
            "linecolor": "white",
            "showgrid": true,
            "ticks": ""
           }
          },
          "scene": {
           "xaxis": {
            "backgroundcolor": "rgb(234,234,242)",
            "gridcolor": "white",
            "gridwidth": 2,
            "linecolor": "white",
            "showbackground": true,
            "showgrid": true,
            "ticks": "",
            "zerolinecolor": "white"
           },
           "yaxis": {
            "backgroundcolor": "rgb(234,234,242)",
            "gridcolor": "white",
            "gridwidth": 2,
            "linecolor": "white",
            "showbackground": true,
            "showgrid": true,
            "ticks": "",
            "zerolinecolor": "white"
           },
           "zaxis": {
            "backgroundcolor": "rgb(234,234,242)",
            "gridcolor": "white",
            "gridwidth": 2,
            "linecolor": "white",
            "showbackground": true,
            "showgrid": true,
            "ticks": "",
            "zerolinecolor": "white"
           }
          },
          "shapedefaults": {
           "fillcolor": "rgb(67,103,167)",
           "line": {
            "width": 0
           },
           "opacity": 0.5
          },
          "ternary": {
           "aaxis": {
            "gridcolor": "white",
            "linecolor": "white",
            "showgrid": true,
            "ticks": ""
           },
           "baxis": {
            "gridcolor": "white",
            "linecolor": "white",
            "showgrid": true,
            "ticks": ""
           },
           "bgcolor": "rgb(234,234,242)",
           "caxis": {
            "gridcolor": "white",
            "linecolor": "white",
            "showgrid": true,
            "ticks": ""
           }
          },
          "xaxis": {
           "automargin": true,
           "gridcolor": "white",
           "linecolor": "white",
           "showgrid": true,
           "ticks": "",
           "title": {
            "standoff": 15
           },
           "zerolinecolor": "white"
          },
          "yaxis": {
           "automargin": true,
           "gridcolor": "white",
           "linecolor": "white",
           "showgrid": true,
           "ticks": "",
           "title": {
            "standoff": 15
           },
           "zerolinecolor": "white"
          }
         }
        },
        "xaxis": {
         "anchor": "y",
         "domain": [
          0,
          1
         ],
         "title": {
          "text": "Sexo"
         },
         "type": "category"
        },
        "yaxis": {
         "anchor": "x",
         "domain": [
          0,
          1
         ],
         "title": {
          "text": "Nº de pasajeros"
         }
        }
       }
      }
     },
     "metadata": {},
     "output_type": "display_data"
    }
   ],
   "source": [
    "fig = px.bar(df, x =df['Sex'].unique(),y=df['Sex'].value_counts(), template='seaborn')\n",
    "fig.update_xaxes(type='category',title='Sexo')\n",
    "fig.update_yaxes(title= 'Nº de pasajeros')\n",
    "\n",
    "\n",
    "fig.show()"
   ]
  },
  {
   "cell_type": "code",
   "execution_count": 23,
   "metadata": {},
   "outputs": [
    {
     "data": {
      "text/plain": [
       "count    891.000000\n",
       "mean      32.204208\n",
       "std       49.693429\n",
       "min        0.000000\n",
       "25%        7.910400\n",
       "50%       14.454200\n",
       "75%       31.000000\n",
       "max      512.329200\n",
       "Name: Fare, dtype: float64"
      ]
     },
     "execution_count": 23,
     "metadata": {},
     "output_type": "execute_result"
    }
   ],
   "source": [
    "df['Fare'].describe()"
   ]
  },
  {
   "cell_type": "code",
   "execution_count": 24,
   "metadata": {},
   "outputs": [
    {
     "data": {
      "text/plain": [
       "<AxesSubplot: xlabel='Fare'>"
      ]
     },
     "execution_count": 24,
     "metadata": {},
     "output_type": "execute_result"
    },
    {
     "data": {
      "image/png": "[encoded data removed]",
      "text/plain": [
       "<Figure size 640x480 with 1 Axes>"
      ]
     },
     "metadata": {},
     "output_type": "display_data"
    }
   ],
   "source": [
    "sns.boxplot(x =df['Fare'])"
   ]
  },
  {
   "cell_type": "code",
   "execution_count": 25,
   "metadata": {},
   "outputs": [
    {
     "data": {
      "text/plain": [
       "count    891.000000\n",
       "mean      32.204208\n",
       "std       49.693429\n",
       "min        0.000000\n",
       "25%        7.910400\n",
       "50%       14.454200\n",
       "75%       31.000000\n",
       "max      512.329200\n",
       "Name: Fare, dtype: float64"
      ]
     },
     "execution_count": 25,
     "metadata": {},
     "output_type": "execute_result"
    }
   ],
   "source": [
    "df['Fare'].describe()"
   ]
  },
  {
   "cell_type": "code",
   "execution_count": 26,
   "metadata": {},
   "outputs": [
    {
     "data": {
      "application/vnd.plotly.v1+json": {
       "config": {
        "plotlyServerURL": "https://plot.ly"
       },
       "data": [
        {
         "type": "violin",
         "x": [
          7.25,
          71.2833,
          7.925,
          53.1,
          8.05,
          8.4583,
          51.8625,
          21.075,
          11.1333,
          30.0708,
          16.7,
          26.55,
          8.05,
          31.275,
          7.8542,
          16,
          29.125,
          13,
          18,
          7.225,
          26,
          13,
          8.0292,
          35.5,
          21.075,
          31.3875,
          7.225,
          263,
          7.8792,
          7.8958,
          27.7208,
          146.5208,
          7.75,
          10.5,
          82.1708,
          52,
          7.2292,
          8.05,
          18,
          11.2417,
          9.475,
          21,
          7.8958,
          41.5792,
          7.8792,
          8.05,
          15.5,
          7.75,
          21.6792,
          17.8,
          39.6875,
          7.8,
          76.7292,
          26,
          61.9792,
          35.5,
          10.5,
          7.2292,
          27.75,
          46.9,
          7.2292,
          80,
          83.475,
          27.9,
          27.7208,
          15.2458,
          10.5,
          8.1583,
          7.925,
          8.6625,
          10.5,
          46.9,
          73.5,
          14.4542,
          56.4958,
          7.65,
          7.8958,
          8.05,
          29,
          12.475,
          9,
          9.5,
          7.7875,
          47.1,
          10.5,
          15.85,
          34.375,
          8.05,
          263,
          8.05,
          8.05,
          7.8542,
          61.175,
          20.575,
          7.25,
          8.05,
          34.6542,
          63.3583,
          23,
          26,
          7.8958,
          7.8958,
          77.2875,
          8.6542,
          7.925,
          7.8958,
          7.65,
          7.775,
          7.8958,
          24.15,
          52,
          14.4542,
          8.05,
          9.825,
          14.4583,
          7.925,
          7.75,
          21,
          247.5208,
          31.275,
          73.5,
          8.05,
          30.0708,
          13,
          77.2875,
          11.2417,
          7.75,
          7.1417,
          22.3583,
          6.975,
          7.8958,
          7.05,
          14.5,
          26,
          13,
          15.0458,
          26.2833,
          53.1,
          9.2167,
          79.2,
          15.2458,
          7.75,
          15.85,
          6.75,
          11.5,
          36.75,
          7.7958,
          34.375,
          26,
          13,
          12.525,
          66.6,
          8.05,
          14.5,
          7.3125,
          61.3792,
          7.7333,
          8.05,
          8.6625,
          69.55,
          16.1,
          15.75,
          7.775,
          8.6625,
          39.6875,
          20.525,
          55,
          27.9,
          25.925,
          56.4958,
          33.5,
          29.125,
          11.1333,
          7.925,
          30.6958,
          7.8542,
          25.4667,
          28.7125,
          13,
          0,
          69.55,
          15.05,
          31.3875,
          39,
          22.025,
          50,
          15.5,
          26.55,
          15.5,
          7.8958,
          13,
          13,
          7.8542,
          26,
          27.7208,
          146.5208,
          7.75,
          8.4042,
          7.75,
          13,
          9.5,
          69.55,
          6.4958,
          7.225,
          8.05,
          10.4625,
          15.85,
          18.7875,
          7.75,
          31,
          7.05,
          21,
          7.25,
          13,
          7.75,
          113.275,
          7.925,
          27,
          76.2917,
          10.5,
          8.05,
          13,
          8.05,
          7.8958,
          90,
          9.35,
          10.5,
          7.25,
          13,
          25.4667,
          83.475,
          7.775,
          13.5,
          31.3875,
          10.5,
          7.55,
          26,
          26.25,
          10.5,
          12.275,
          14.4542,
          15.5,
          10.5,
          7.125,
          7.225,
          90,
          7.775,
          14.5,
          52.5542,
          26,
          7.25,
          10.4625,
          26.55,
          16.1,
          20.2125,
          15.2458,
          79.2,
          86.5,
          512.3292,
          26,
          7.75,
          31.3875,
          79.65,
          0,
          7.75,
          10.5,
          39.6875,
          7.775,
          153.4625,
          135.6333,
          31,
          0,
          19.5,
          29.7,
          7.75,
          77.9583,
          7.75,
          0,
          29.125,
          20.25,
          7.75,
          7.8542,
          9.5,
          8.05,
          26,
          8.6625,
          9.5,
          7.8958,
          13,
          7.75,
          78.85,
          91.0792,
          12.875,
          8.85,
          7.8958,
          27.7208,
          7.2292,
          151.55,
          30.5,
          247.5208,
          7.75,
          23.25,
          0,
          12.35,
          8.05,
          151.55,
          110.8833,
          108.9,
          24,
          56.9292,
          83.1583,
          262.375,
          26,
          7.8958,
          26.25,
          7.8542,
          26,
          14,
          164.8667,
          134.5,
          7.25,
          7.8958,
          12.35,
          29,
          69.55,
          135.6333,
          6.2375,
          13,
          20.525,
          57.9792,
          23.25,
          28.5,
          153.4625,
          18,
          133.65,
          7.8958,
          66.6,
          134.5,
          8.05,
          35.5,
          26,
          263,
          13,
          13,
          13,
          13,
          13,
          16.1,
          15.9,
          8.6625,
          9.225,
          35,
          7.2292,
          17.8,
          7.225,
          9.5,
          55,
          13,
          7.8792,
          7.8792,
          27.9,
          27.7208,
          14.4542,
          7.05,
          15.5,
          7.25,
          75.25,
          7.2292,
          7.75,
          69.3,
          55.4417,
          6.4958,
          8.05,
          135.6333,
          21.075,
          82.1708,
          7.25,
          211.5,
          4.0125,
          7.775,
          227.525,
          15.7417,
          7.925,
          52,
          7.8958,
          73.5,
          46.9,
          13,
          7.7292,
          12,
          120,
          7.7958,
          7.925,
          113.275,
          16.7,
          7.7958,
          7.8542,
          26,
          10.5,
          12.65,
          7.925,
          8.05,
          9.825,
          15.85,
          8.6625,
          21,
          7.75,
          18.75,
          7.775,
          25.4667,
          7.8958,
          6.8583,
          90,
          0,
          7.925,
          8.05,
          32.5,
          13,
          13,
          24.15,
          7.8958,
          7.7333,
          7.875,
          14.4,
          20.2125,
          7.25,
          26,
          26,
          7.75,
          8.05,
          26.55,
          16.1,
          26,
          7.125,
          55.9,
          120,
          34.375,
          18.75,
          263,
          10.5,
          26.25,
          9.5,
          7.775,
          13,
          8.1125,
          81.8583,
          19.5,
          26.55,
          19.2583,
          30.5,
          27.75,
          19.9667,
          27.75,
          89.1042,
          8.05,
          7.8958,
          26.55,
          51.8625,
          10.5,
          7.75,
          26.55,
          8.05,
          38.5,
          13,
          8.05,
          7.05,
          0,
          26.55,
          7.725,
          19.2583,
          7.25,
          8.6625,
          27.75,
          13.7917,
          9.8375,
          52,
          21,
          7.0458,
          7.5208,
          12.2875,
          46.9,
          0,
          8.05,
          9.5875,
          91.0792,
          25.4667,
          90,
          29.7,
          8.05,
          15.9,
          19.9667,
          7.25,
          30.5,
          49.5042,
          8.05,
          14.4583,
          78.2667,
          15.1,
          151.55,
          7.7958,
          8.6625,
          7.75,
          7.6292,
          9.5875,
          86.5,
          108.9,
          26,
          26.55,
          22.525,
          56.4958,
          7.75,
          8.05,
          26.2875,
          59.4,
          7.4958,
          34.0208,
          10.5,
          24.15,
          26,
          7.8958,
          93.5,
          7.8958,
          7.225,
          57.9792,
          7.2292,
          7.75,
          10.5,
          221.7792,
          7.925,
          11.5,
          26,
          7.2292,
          7.2292,
          22.3583,
          8.6625,
          26.25,
          26.55,
          106.425,
          14.5,
          49.5,
          71,
          31.275,
          31.275,
          26,
          106.425,
          26,
          26,
          13.8625,
          20.525,
          36.75,
          110.8833,
          26,
          7.8292,
          7.225,
          7.775,
          26.55,
          39.6,
          227.525,
          79.65,
          17.4,
          7.75,
          7.8958,
          13.5,
          8.05,
          8.05,
          24.15,
          7.8958,
          21.075,
          7.2292,
          7.8542,
          10.5,
          51.4792,
          26.3875,
          7.75,
          8.05,
          14.5,
          13,
          55.9,
          14.4583,
          7.925,
          30,
          110.8833,
          26,
          40.125,
          8.7125,
          79.65,
          15,
          79.2,
          8.05,
          8.05,
          7.125,
          78.2667,
          7.25,
          7.75,
          26,
          24.15,
          33,
          0,
          7.225,
          56.9292,
          27,
          7.8958,
          42.4,
          8.05,
          26.55,
          15.55,
          7.8958,
          30.5,
          41.5792,
          153.4625,
          31.275,
          7.05,
          15.5,
          7.75,
          8.05,
          65,
          14.4,
          16.1,
          39,
          10.5,
          14.4542,
          52.5542,
          15.7417,
          7.8542,
          16.1,
          32.3208,
          12.35,
          77.9583,
          7.8958,
          7.7333,
          30,
          7.0542,
          30.5,
          0,
          27.9,
          13,
          7.925,
          26.25,
          39.6875,
          16.1,
          7.8542,
          69.3,
          27.9,
          56.4958,
          19.2583,
          76.7292,
          7.8958,
          35.5,
          7.55,
          7.55,
          7.8958,
          23,
          8.4333,
          7.8292,
          6.75,
          73.5,
          7.8958,
          15.5,
          13,
          113.275,
          133.65,
          7.225,
          25.5875,
          7.4958,
          7.925,
          73.5,
          13,
          7.775,
          8.05,
          52,
          39,
          52,
          10.5,
          13,
          0,
          7.775,
          8.05,
          9.8417,
          46.9,
          512.3292,
          8.1375,
          76.7292,
          9.225,
          46.9,
          39,
          41.5792,
          39.6875,
          10.1708,
          7.7958,
          211.3375,
          57,
          13.4167,
          56.4958,
          7.225,
          26.55,
          13.5,
          8.05,
          7.7333,
          110.8833,
          7.65,
          227.525,
          26.2875,
          14.4542,
          7.7417,
          7.8542,
          26,
          13.5,
          26.2875,
          151.55,
          15.2458,
          49.5042,
          26.55,
          52,
          9.4833,
          13,
          7.65,
          227.525,
          10.5,
          15.5,
          7.775,
          33,
          7.0542,
          13,
          13,
          53.1,
          8.6625,
          21,
          7.7375,
          26,
          7.925,
          211.3375,
          18.7875,
          0,
          13,
          13,
          16.1,
          34.375,
          512.3292,
          7.8958,
          7.8958,
          30,
          78.85,
          262.375,
          16.1,
          7.925,
          71,
          20.25,
          13,
          53.1,
          7.75,
          23,
          12.475,
          9.5,
          7.8958,
          65,
          14.5,
          7.7958,
          11.5,
          8.05,
          86.5,
          14.5,
          7.125,
          7.2292,
          120,
          7.775,
          77.9583,
          39.6,
          7.75,
          24.15,
          8.3625,
          9.5,
          7.8542,
          10.5,
          7.225,
          23,
          7.75,
          7.75,
          12.475,
          7.7375,
          211.3375,
          7.2292,
          57,
          30,
          23.45,
          7.05,
          7.25,
          7.4958,
          29.125,
          20.575,
          79.2,
          7.75,
          26,
          69.55,
          30.6958,
          7.8958,
          13,
          25.9292,
          8.6833,
          7.2292,
          24.15,
          13,
          26.25,
          120,
          8.5167,
          6.975,
          7.775,
          0,
          7.775,
          13,
          53.1,
          7.8875,
          24.15,
          10.5,
          31.275,
          8.05,
          0,
          7.925,
          37.0042,
          6.45,
          27.9,
          93.5,
          8.6625,
          0,
          12.475,
          39.6875,
          6.95,
          56.4958,
          37.0042,
          7.75,
          80,
          14.4542,
          18.75,
          7.2292,
          7.8542,
          8.3,
          83.1583,
          8.6625,
          8.05,
          56.4958,
          29.7,
          7.925,
          10.5,
          31,
          6.4375,
          8.6625,
          7.55,
          69.55,
          7.8958,
          33,
          89.1042,
          31.275,
          7.775,
          15.2458,
          39.4,
          26,
          9.35,
          164.8667,
          26.55,
          19.2583,
          7.2292,
          14.1083,
          11.5,
          25.9292,
          69.55,
          13,
          13,
          13.8583,
          50.4958,
          9.5,
          11.1333,
          7.8958,
          52.5542,
          5,
          9,
          24,
          7.225,
          9.8458,
          7.8958,
          7.8958,
          83.1583,
          26,
          7.8958,
          10.5167,
          10.5,
          7.05,
          29.125,
          13,
          30,
          23.45,
          30,
          7.75
         ]
        }
       ],
       "layout": {
        "template": {
         "data": {
          "bar": [
           {
            "error_x": {
             "color": "#2a3f5f"
            },
            "error_y": {
             "color": "#2a3f5f"
            },
            "marker": {
             "line": {
              "color": "#E5ECF6",
              "width": 0.5
             },
             "pattern": {
              "fillmode": "overlay",
              "size": 10,
              "solidity": 0.2
             }
            },
            "type": "bar"
           }
          ],
          "barpolar": [
           {
            "marker": {
             "line": {
              "color": "#E5ECF6",
              "width": 0.5
             },
             "pattern": {
              "fillmode": "overlay",
              "size": 10,
              "solidity": 0.2
             }
            },
            "type": "barpolar"
           }
          ],
          "carpet": [
           {
            "aaxis": {
             "endlinecolor": "#2a3f5f",
             "gridcolor": "white",
             "linecolor": "white",
             "minorgridcolor": "white",
             "startlinecolor": "#2a3f5f"
            },
            "baxis": {
             "endlinecolor": "#2a3f5f",
             "gridcolor": "white",
             "linecolor": "white",
             "minorgridcolor": "white",
             "startlinecolor": "#2a3f5f"
            },
            "type": "carpet"
           }
          ],
          "choropleth": [
           {
            "colorbar": {
             "outlinewidth": 0,
             "ticks": ""
            },
            "type": "choropleth"
           }
          ],
          "contour": [
           {
            "colorbar": {
             "outlinewidth": 0,
             "ticks": ""
            },
            "colorscale": [
             [
              0,
              "#0d0887"
             ],
             [
              0.1111111111111111,
              "#46039f"
             ],
             [
              0.2222222222222222,
              "#7201a8"
             ],
             [
              0.3333333333333333,
              "#9c179e"
             ],
             [
              0.4444444444444444,
              "#bd3786"
             ],
             [
              0.5555555555555556,
              "#d8576b"
             ],
             [
              0.6666666666666666,
              "#ed7953"
             ],
             [
              0.7777777777777778,
              "#fb9f3a"
             ],
             [
              0.8888888888888888,
              "#fdca26"
             ],
             [
              1,
              "#f0f921"
             ]
            ],
            "type": "contour"
           }
          ],
          "contourcarpet": [
           {
            "colorbar": {
             "outlinewidth": 0,
             "ticks": ""
            },
            "type": "contourcarpet"
           }
          ],
          "heatmap": [
           {
            "colorbar": {
             "outlinewidth": 0,
             "ticks": ""
            },
            "colorscale": [
             [
              0,
              "#0d0887"
             ],
             [
              0.1111111111111111,
              "#46039f"
             ],
             [
              0.2222222222222222,
              "#7201a8"
             ],
             [
              0.3333333333333333,
              "#9c179e"
             ],
             [
              0.4444444444444444,
              "#bd3786"
             ],
             [
              0.5555555555555556,
              "#d8576b"
             ],
             [
              0.6666666666666666,
              "#ed7953"
             ],
             [
              0.7777777777777778,
              "#fb9f3a"
             ],
             [
              0.8888888888888888,
              "#fdca26"
             ],
             [
              1,
              "#f0f921"
             ]
            ],
            "type": "heatmap"
           }
          ],
          "heatmapgl": [
           {
            "colorbar": {
             "outlinewidth": 0,
             "ticks": ""
            },
            "colorscale": [
             [
              0,
              "#0d0887"
             ],
             [
              0.1111111111111111,
              "#46039f"
             ],
             [
              0.2222222222222222,
              "#7201a8"
             ],
             [
              0.3333333333333333,
              "#9c179e"
             ],
             [
              0.4444444444444444,
              "#bd3786"
             ],
             [
              0.5555555555555556,
              "#d8576b"
             ],
             [
              0.6666666666666666,
              "#ed7953"
             ],
             [
              0.7777777777777778,
              "#fb9f3a"
             ],
             [
              0.8888888888888888,
              "#fdca26"
             ],
             [
              1,
              "#f0f921"
             ]
            ],
            "type": "heatmapgl"
           }
          ],
          "histogram": [
           {
            "marker": {
             "pattern": {
              "fillmode": "overlay",
              "size": 10,
              "solidity": 0.2
             }
            },
            "type": "histogram"
           }
          ],
          "histogram2d": [
           {
            "colorbar": {
             "outlinewidth": 0,
             "ticks": ""
            },
            "colorscale": [
             [
              0,
              "#0d0887"
             ],
             [
              0.1111111111111111,
              "#46039f"
             ],
             [
              0.2222222222222222,
              "#7201a8"
             ],
             [
              0.3333333333333333,
              "#9c179e"
             ],
             [
              0.4444444444444444,
              "#bd3786"
             ],
             [
              0.5555555555555556,
              "#d8576b"
             ],
             [
              0.6666666666666666,
              "#ed7953"
             ],
             [
              0.7777777777777778,
              "#fb9f3a"
             ],
             [
              0.8888888888888888,
              "#fdca26"
             ],
             [
              1,
              "#f0f921"
             ]
            ],
            "type": "histogram2d"
           }
          ],
          "histogram2dcontour": [
           {
            "colorbar": {
             "outlinewidth": 0,
             "ticks": ""
            },
            "colorscale": [
             [
              0,
              "#0d0887"
             ],
             [
              0.1111111111111111,
              "#46039f"
             ],
             [
              0.2222222222222222,
              "#7201a8"
             ],
             [
              0.3333333333333333,
              "#9c179e"
             ],
             [
              0.4444444444444444,
              "#bd3786"
             ],
             [
              0.5555555555555556,
              "#d8576b"
             ],
             [
              0.6666666666666666,
              "#ed7953"
             ],
             [
              0.7777777777777778,
              "#fb9f3a"
             ],
             [
              0.8888888888888888,
              "#fdca26"
             ],
             [
              1,
              "#f0f921"
             ]
            ],
            "type": "histogram2dcontour"
           }
          ],
          "mesh3d": [
           {
            "colorbar": {
             "outlinewidth": 0,
             "ticks": ""
            },
            "type": "mesh3d"
           }
          ],
          "parcoords": [
           {
            "line": {
             "colorbar": {
              "outlinewidth": 0,
              "ticks": ""
             }
            },
            "type": "parcoords"
           }
          ],
          "pie": [
           {
            "automargin": true,
            "type": "pie"
           }
          ],
          "scatter": [
           {
            "fillpattern": {
             "fillmode": "overlay",
             "size": 10,
             "solidity": 0.2
            },
            "type": "scatter"
           }
          ],
          "scatter3d": [
           {
            "line": {
             "colorbar": {
              "outlinewidth": 0,
              "ticks": ""
             }
            },
            "marker": {
             "colorbar": {
              "outlinewidth": 0,
              "ticks": ""
             }
            },
            "type": "scatter3d"
           }
          ],
          "scattercarpet": [
           {
            "marker": {
             "colorbar": {
              "outlinewidth": 0,
              "ticks": ""
             }
            },
            "type": "scattercarpet"
           }
          ],
          "scattergeo": [
           {
            "marker": {
             "colorbar": {
              "outlinewidth": 0,
              "ticks": ""
             }
            },
            "type": "scattergeo"
           }
          ],
          "scattergl": [
           {
            "marker": {
             "colorbar": {
              "outlinewidth": 0,
              "ticks": ""
             }
            },
            "type": "scattergl"
           }
          ],
          "scattermapbox": [
           {
            "marker": {
             "colorbar": {
              "outlinewidth": 0,
              "ticks": ""
             }
            },
            "type": "scattermapbox"
           }
          ],
          "scatterpolar": [
           {
            "marker": {
             "colorbar": {
              "outlinewidth": 0,
              "ticks": ""
             }
            },
            "type": "scatterpolar"
           }
          ],
          "scatterpolargl": [
           {
            "marker": {
             "colorbar": {
              "outlinewidth": 0,
              "ticks": ""
             }
            },
            "type": "scatterpolargl"
           }
          ],
          "scatterternary": [
           {
            "marker": {
             "colorbar": {
              "outlinewidth": 0,
              "ticks": ""
             }
            },
            "type": "scatterternary"
           }
          ],
          "surface": [
           {
            "colorbar": {
             "outlinewidth": 0,
             "ticks": ""
            },
            "colorscale": [
             [
              0,
              "#0d0887"
             ],
             [
              0.1111111111111111,
              "#46039f"
             ],
             [
              0.2222222222222222,
              "#7201a8"
             ],
             [
              0.3333333333333333,
              "#9c179e"
             ],
             [
              0.4444444444444444,
              "#bd3786"
             ],
             [
              0.5555555555555556,
              "#d8576b"
             ],
             [
              0.6666666666666666,
              "#ed7953"
             ],
             [
              0.7777777777777778,
              "#fb9f3a"
             ],
             [
              0.8888888888888888,
              "#fdca26"
             ],
             [
              1,
              "#f0f921"
             ]
            ],
            "type": "surface"
           }
          ],
          "table": [
           {
            "cells": {
             "fill": {
              "color": "#EBF0F8"
             },
             "line": {
              "color": "white"
             }
            },
            "header": {
             "fill": {
              "color": "#C8D4E3"
             },
             "line": {
              "color": "white"
             }
            },
            "type": "table"
           }
          ]
         },
         "layout": {
          "annotationdefaults": {
           "arrowcolor": "#2a3f5f",
           "arrowhead": 0,
           "arrowwidth": 1
          },
          "autotypenumbers": "strict",
          "coloraxis": {
           "colorbar": {
            "outlinewidth": 0,
            "ticks": ""
           }
          },
          "colorscale": {
           "diverging": [
            [
             0,
             "#8e0152"
            ],
            [
             0.1,
             "#c51b7d"
            ],
            [
             0.2,
             "#de77ae"
            ],
            [
             0.3,
             "#f1b6da"
            ],
            [
             0.4,
             "#fde0ef"
            ],
            [
             0.5,
             "#f7f7f7"
            ],
            [
             0.6,
             "#e6f5d0"
            ],
            [
             0.7,
             "#b8e186"
            ],
            [
             0.8,
             "#7fbc41"
            ],
            [
             0.9,
             "#4d9221"
            ],
            [
             1,
             "#276419"
            ]
           ],
           "sequential": [
            [
             0,
             "#0d0887"
            ],
            [
             0.1111111111111111,
             "#46039f"
            ],
            [
             0.2222222222222222,
             "#7201a8"
            ],
            [
             0.3333333333333333,
             "#9c179e"
            ],
            [
             0.4444444444444444,
             "#bd3786"
            ],
            [
             0.5555555555555556,
             "#d8576b"
            ],
            [
             0.6666666666666666,
             "#ed7953"
            ],
            [
             0.7777777777777778,
             "#fb9f3a"
            ],
            [
             0.8888888888888888,
             "#fdca26"
            ],
            [
             1,
             "#f0f921"
            ]
           ],
           "sequentialminus": [
            [
             0,
             "#0d0887"
            ],
            [
             0.1111111111111111,
             "#46039f"
            ],
            [
             0.2222222222222222,
             "#7201a8"
            ],
            [
             0.3333333333333333,
             "#9c179e"
            ],
            [
             0.4444444444444444,
             "#bd3786"
            ],
            [
             0.5555555555555556,
             "#d8576b"
            ],
            [
             0.6666666666666666,
             "#ed7953"
            ],
            [
             0.7777777777777778,
             "#fb9f3a"
            ],
            [
             0.8888888888888888,
             "#fdca26"
            ],
            [
             1,
             "#f0f921"
            ]
           ]
          },
          "colorway": [
           "#636efa",
           "#EF553B",
           "#00cc96",
           "#ab63fa",
           "#FFA15A",
           "#19d3f3",
           "#FF6692",
           "#B6E880",
           "#FF97FF",
           "#FECB52"
          ],
          "font": {
           "color": "#2a3f5f"
          },
          "geo": {
           "bgcolor": "white",
           "lakecolor": "white",
           "landcolor": "#E5ECF6",
           "showlakes": true,
           "showland": true,
           "subunitcolor": "white"
          },
          "hoverlabel": {
           "align": "left"
          },
          "hovermode": "closest",
          "mapbox": {
           "style": "light"
          },
          "paper_bgcolor": "white",
          "plot_bgcolor": "#E5ECF6",
          "polar": {
           "angularaxis": {
            "gridcolor": "white",
            "linecolor": "white",
            "ticks": ""
           },
           "bgcolor": "#E5ECF6",
           "radialaxis": {
            "gridcolor": "white",
            "linecolor": "white",
            "ticks": ""
           }
          },
          "scene": {
           "xaxis": {
            "backgroundcolor": "#E5ECF6",
            "gridcolor": "white",
            "gridwidth": 2,
            "linecolor": "white",
            "showbackground": true,
            "ticks": "",
            "zerolinecolor": "white"
           },
           "yaxis": {
            "backgroundcolor": "#E5ECF6",
            "gridcolor": "white",
            "gridwidth": 2,
            "linecolor": "white",
            "showbackground": true,
            "ticks": "",
            "zerolinecolor": "white"
           },
           "zaxis": {
            "backgroundcolor": "#E5ECF6",
            "gridcolor": "white",
            "gridwidth": 2,
            "linecolor": "white",
            "showbackground": true,
            "ticks": "",
            "zerolinecolor": "white"
           }
          },
          "shapedefaults": {
           "line": {
            "color": "#2a3f5f"
           }
          },
          "ternary": {
           "aaxis": {
            "gridcolor": "white",
            "linecolor": "white",
            "ticks": ""
           },
           "baxis": {
            "gridcolor": "white",
            "linecolor": "white",
            "ticks": ""
           },
           "bgcolor": "#E5ECF6",
           "caxis": {
            "gridcolor": "white",
            "linecolor": "white",
            "ticks": ""
           }
          },
          "title": {
           "x": 0.05
          },
          "xaxis": {
           "automargin": true,
           "gridcolor": "white",
           "linecolor": "white",
           "ticks": "",
           "title": {
            "standoff": 15
           },
           "zerolinecolor": "white",
           "zerolinewidth": 2
          },
          "yaxis": {
           "automargin": true,
           "gridcolor": "white",
           "linecolor": "white",
           "ticks": "",
           "title": {
            "standoff": 15
           },
           "zerolinecolor": "white",
           "zerolinewidth": 2
          }
         }
        },
        "xaxis": {
         "title": {
          "text": "Fare"
         }
        },
        "yaxis": {
         "title": {
          "text": "Nº de pasajeros"
         }
        }
       }
      }
     },
     "metadata": {},
     "output_type": "display_data"
    }
   ],
   "source": [
    "fig = go.Figure()\n",
    "fig.add_trace(go.Violin(x=df['Fare']))\n",
    "fig.update_xaxes(title='Fare')\n",
    "fig.update_yaxes(title='Nº de pasajeros')"
   ]
  },
  {
   "cell_type": "code",
   "execution_count": 27,
   "metadata": {},
   "outputs": [
    {
     "name": "stderr",
     "output_type": "stream",
     "text": [
      "/var/folders/wx/89cqn4pd7sj7hylxyj59ftk00000gn/T/ipykernel_12401/761530247.py:1: FutureWarning:\n",
      "\n",
      "The default value of numeric_only in DataFrame.corr is deprecated. In a future version, it will default to False. Select only valid columns or specify the value of numeric_only to silence this warning.\n",
      "\n",
      "/var/folders/wx/89cqn4pd7sj7hylxyj59ftk00000gn/T/ipykernel_12401/761530247.py:2: FutureWarning:\n",
      "\n",
      "The default value of numeric_only in DataFrame.corr is deprecated. In a future version, it will default to False. Select only valid columns or specify the value of numeric_only to silence this warning.\n",
      "\n"
     ]
    },
    {
     "data": {
      "text/plain": [
       "<AxesSubplot: >"
      ]
     },
     "execution_count": 27,
     "metadata": {},
     "output_type": "execute_result"
    },
    {
     "data": {
      "image/png": "[encoded data removed]",
      "text/plain": [
       "<Figure size 640x480 with 2 Axes>"
      ]
     },
     "metadata": {},
     "output_type": "display_data"
    }
   ],
   "source": [
    "df.corr()\n",
    "sns.heatmap(df.corr(), annot=True, cmap='coolwarm')"
   ]
  },
  {
   "cell_type": "code",
   "execution_count": 28,
   "metadata": {},
   "outputs": [
    {
     "data": {
      "text/html": [
       "<div>\n",
       "<style scoped>\n",
       "    .dataframe tbody tr th:only-of-type {\n",
       "        vertical-align: middle;\n",
       "    }\n",
       "\n",
       "    .dataframe tbody tr th {\n",
       "        vertical-align: top;\n",
       "    }\n",
       "\n",
       "    .dataframe thead th {\n",
       "        text-align: right;\n",
       "    }\n",
       "</style>\n",
       "<table border=\"1\" class=\"dataframe\">\n",
       "  <thead>\n",
       "    <tr style=\"text-align: right;\">\n",
       "      <th></th>\n",
       "      <th>Survived</th>\n",
       "      <th>Pclass</th>\n",
       "      <th>Name</th>\n",
       "      <th>Sex</th>\n",
       "      <th>Age</th>\n",
       "      <th>SibSp</th>\n",
       "      <th>Parch</th>\n",
       "      <th>Ticket</th>\n",
       "      <th>Fare</th>\n",
       "      <th>Cabin</th>\n",
       "      <th>Embarked</th>\n",
       "    </tr>\n",
       "    <tr>\n",
       "      <th>PassengerId</th>\n",
       "      <th></th>\n",
       "      <th></th>\n",
       "      <th></th>\n",
       "      <th></th>\n",
       "      <th></th>\n",
       "      <th></th>\n",
       "      <th></th>\n",
       "      <th></th>\n",
       "      <th></th>\n",
       "      <th></th>\n",
       "      <th></th>\n",
       "    </tr>\n",
       "  </thead>\n",
       "  <tbody>\n",
       "    <tr>\n",
       "      <th>1</th>\n",
       "      <td>0</td>\n",
       "      <td>3</td>\n",
       "      <td>Braund, Mr. Owen Harris</td>\n",
       "      <td>male</td>\n",
       "      <td>22.0</td>\n",
       "      <td>1</td>\n",
       "      <td>0</td>\n",
       "      <td>A/5 21171</td>\n",
       "      <td>7.2500</td>\n",
       "      <td>C85</td>\n",
       "      <td>S</td>\n",
       "    </tr>\n",
       "    <tr>\n",
       "      <th>2</th>\n",
       "      <td>1</td>\n",
       "      <td>1</td>\n",
       "      <td>Cumings, Mrs. John Bradley (Florence Briggs Th...</td>\n",
       "      <td>female</td>\n",
       "      <td>38.0</td>\n",
       "      <td>1</td>\n",
       "      <td>0</td>\n",
       "      <td>PC 17599</td>\n",
       "      <td>71.2833</td>\n",
       "      <td>C85</td>\n",
       "      <td>C</td>\n",
       "    </tr>\n",
       "    <tr>\n",
       "      <th>3</th>\n",
       "      <td>1</td>\n",
       "      <td>3</td>\n",
       "      <td>Heikkinen, Miss. Laina</td>\n",
       "      <td>female</td>\n",
       "      <td>26.0</td>\n",
       "      <td>0</td>\n",
       "      <td>0</td>\n",
       "      <td>STON/O2. 3101282</td>\n",
       "      <td>7.9250</td>\n",
       "      <td>C123</td>\n",
       "      <td>S</td>\n",
       "    </tr>\n",
       "    <tr>\n",
       "      <th>4</th>\n",
       "      <td>1</td>\n",
       "      <td>1</td>\n",
       "      <td>Futrelle, Mrs. Jacques Heath (Lily May Peel)</td>\n",
       "      <td>female</td>\n",
       "      <td>35.0</td>\n",
       "      <td>1</td>\n",
       "      <td>0</td>\n",
       "      <td>113803</td>\n",
       "      <td>53.1000</td>\n",
       "      <td>C123</td>\n",
       "      <td>S</td>\n",
       "    </tr>\n",
       "    <tr>\n",
       "      <th>5</th>\n",
       "      <td>0</td>\n",
       "      <td>3</td>\n",
       "      <td>Allen, Mr. William Henry</td>\n",
       "      <td>male</td>\n",
       "      <td>35.0</td>\n",
       "      <td>0</td>\n",
       "      <td>0</td>\n",
       "      <td>373450</td>\n",
       "      <td>8.0500</td>\n",
       "      <td>E46</td>\n",
       "      <td>S</td>\n",
       "    </tr>\n",
       "    <tr>\n",
       "      <th>...</th>\n",
       "      <td>...</td>\n",
       "      <td>...</td>\n",
       "      <td>...</td>\n",
       "      <td>...</td>\n",
       "      <td>...</td>\n",
       "      <td>...</td>\n",
       "      <td>...</td>\n",
       "      <td>...</td>\n",
       "      <td>...</td>\n",
       "      <td>...</td>\n",
       "      <td>...</td>\n",
       "    </tr>\n",
       "    <tr>\n",
       "      <th>887</th>\n",
       "      <td>0</td>\n",
       "      <td>2</td>\n",
       "      <td>Montvila, Rev. Juozas</td>\n",
       "      <td>male</td>\n",
       "      <td>27.0</td>\n",
       "      <td>0</td>\n",
       "      <td>0</td>\n",
       "      <td>211536</td>\n",
       "      <td>13.0000</td>\n",
       "      <td>B42</td>\n",
       "      <td>S</td>\n",
       "    </tr>\n",
       "    <tr>\n",
       "      <th>888</th>\n",
       "      <td>1</td>\n",
       "      <td>1</td>\n",
       "      <td>Graham, Miss. Margaret Edith</td>\n",
       "      <td>female</td>\n",
       "      <td>19.0</td>\n",
       "      <td>0</td>\n",
       "      <td>0</td>\n",
       "      <td>112053</td>\n",
       "      <td>30.0000</td>\n",
       "      <td>B42</td>\n",
       "      <td>S</td>\n",
       "    </tr>\n",
       "    <tr>\n",
       "      <th>889</th>\n",
       "      <td>0</td>\n",
       "      <td>3</td>\n",
       "      <td>Johnston, Miss. Catherine Helen \"Carrie\"</td>\n",
       "      <td>female</td>\n",
       "      <td>28.0</td>\n",
       "      <td>1</td>\n",
       "      <td>2</td>\n",
       "      <td>W./C. 6607</td>\n",
       "      <td>23.4500</td>\n",
       "      <td>C148</td>\n",
       "      <td>S</td>\n",
       "    </tr>\n",
       "    <tr>\n",
       "      <th>890</th>\n",
       "      <td>1</td>\n",
       "      <td>1</td>\n",
       "      <td>Behr, Mr. Karl Howell</td>\n",
       "      <td>male</td>\n",
       "      <td>26.0</td>\n",
       "      <td>0</td>\n",
       "      <td>0</td>\n",
       "      <td>111369</td>\n",
       "      <td>30.0000</td>\n",
       "      <td>C148</td>\n",
       "      <td>C</td>\n",
       "    </tr>\n",
       "    <tr>\n",
       "      <th>891</th>\n",
       "      <td>0</td>\n",
       "      <td>3</td>\n",
       "      <td>Dooley, Mr. Patrick</td>\n",
       "      <td>male</td>\n",
       "      <td>32.0</td>\n",
       "      <td>0</td>\n",
       "      <td>0</td>\n",
       "      <td>370376</td>\n",
       "      <td>7.7500</td>\n",
       "      <td>C148</td>\n",
       "      <td>Q</td>\n",
       "    </tr>\n",
       "  </tbody>\n",
       "</table>\n",
       "<p>891 rows × 11 columns</p>\n",
       "</div>"
      ],
      "text/plain": [
       "             Survived  Pclass  \\\n",
       "PassengerId                     \n",
       "1                   0       3   \n",
       "2                   1       1   \n",
       "3                   1       3   \n",
       "4                   1       1   \n",
       "5                   0       3   \n",
       "...               ...     ...   \n",
       "887                 0       2   \n",
       "888                 1       1   \n",
       "889                 0       3   \n",
       "890                 1       1   \n",
       "891                 0       3   \n",
       "\n",
       "                                                          Name     Sex   Age  \\\n",
       "PassengerId                                                                    \n",
       "1                                      Braund, Mr. Owen Harris    male  22.0   \n",
       "2            Cumings, Mrs. John Bradley (Florence Briggs Th...  female  38.0   \n",
       "3                                       Heikkinen, Miss. Laina  female  26.0   \n",
       "4                 Futrelle, Mrs. Jacques Heath (Lily May Peel)  female  35.0   \n",
       "5                                     Allen, Mr. William Henry    male  35.0   \n",
       "...                                                        ...     ...   ...   \n",
       "887                                      Montvila, Rev. Juozas    male  27.0   \n",
       "888                               Graham, Miss. Margaret Edith  female  19.0   \n",
       "889                   Johnston, Miss. Catherine Helen \"Carrie\"  female  28.0   \n",
       "890                                      Behr, Mr. Karl Howell    male  26.0   \n",
       "891                                        Dooley, Mr. Patrick    male  32.0   \n",
       "\n",
       "             SibSp  Parch            Ticket     Fare Cabin Embarked  \n",
       "PassengerId                                                          \n",
       "1                1      0         A/5 21171   7.2500   C85        S  \n",
       "2                1      0          PC 17599  71.2833   C85        C  \n",
       "3                0      0  STON/O2. 3101282   7.9250  C123        S  \n",
       "4                1      0            113803  53.1000  C123        S  \n",
       "5                0      0            373450   8.0500   E46        S  \n",
       "...            ...    ...               ...      ...   ...      ...  \n",
       "887              0      0            211536  13.0000   B42        S  \n",
       "888              0      0            112053  30.0000   B42        S  \n",
       "889              1      2        W./C. 6607  23.4500  C148        S  \n",
       "890              0      0            111369  30.0000  C148        C  \n",
       "891              0      0            370376   7.7500  C148        Q  \n",
       "\n",
       "[891 rows x 11 columns]"
      ]
     },
     "execution_count": 28,
     "metadata": {},
     "output_type": "execute_result"
    }
   ],
   "source": [
    "df"
   ]
  },
  {
   "cell_type": "code",
   "execution_count": 51,
   "metadata": {},
   "outputs": [
    {
     "data": {
      "text/html": [
       "<div>\n",
       "<style scoped>\n",
       "    .dataframe tbody tr th:only-of-type {\n",
       "        vertical-align: middle;\n",
       "    }\n",
       "\n",
       "    .dataframe tbody tr th {\n",
       "        vertical-align: top;\n",
       "    }\n",
       "\n",
       "    .dataframe thead th {\n",
       "        text-align: right;\n",
       "    }\n",
       "</style>\n",
       "<table border=\"1\" class=\"dataframe\">\n",
       "  <thead>\n",
       "    <tr style=\"text-align: right;\">\n",
       "      <th></th>\n",
       "      <th>Survived</th>\n",
       "      <th>Pclass</th>\n",
       "      <th>Name</th>\n",
       "      <th>Sex</th>\n",
       "      <th>Age</th>\n",
       "      <th>SibSp</th>\n",
       "      <th>Parch</th>\n",
       "      <th>Ticket</th>\n",
       "      <th>Fare</th>\n",
       "      <th>Cabin</th>\n",
       "      <th>Embarked</th>\n",
       "    </tr>\n",
       "    <tr>\n",
       "      <th>PassengerId</th>\n",
       "      <th></th>\n",
       "      <th></th>\n",
       "      <th></th>\n",
       "      <th></th>\n",
       "      <th></th>\n",
       "      <th></th>\n",
       "      <th></th>\n",
       "      <th></th>\n",
       "      <th></th>\n",
       "      <th></th>\n",
       "      <th></th>\n",
       "    </tr>\n",
       "  </thead>\n",
       "  <tbody>\n",
       "    <tr>\n",
       "      <th>1</th>\n",
       "      <td>0</td>\n",
       "      <td>3</td>\n",
       "      <td>Braund, Mr. Owen Harris</td>\n",
       "      <td>male</td>\n",
       "      <td>22.0</td>\n",
       "      <td>1</td>\n",
       "      <td>0</td>\n",
       "      <td>A/5 21171</td>\n",
       "      <td>7.2500</td>\n",
       "      <td>C85</td>\n",
       "      <td>S</td>\n",
       "    </tr>\n",
       "    <tr>\n",
       "      <th>2</th>\n",
       "      <td>1</td>\n",
       "      <td>1</td>\n",
       "      <td>Cumings, Mrs. John Bradley (Florence Briggs Th...</td>\n",
       "      <td>female</td>\n",
       "      <td>38.0</td>\n",
       "      <td>1</td>\n",
       "      <td>0</td>\n",
       "      <td>PC 17599</td>\n",
       "      <td>71.2833</td>\n",
       "      <td>C85</td>\n",
       "      <td>C</td>\n",
       "    </tr>\n",
       "    <tr>\n",
       "      <th>3</th>\n",
       "      <td>1</td>\n",
       "      <td>3</td>\n",
       "      <td>Heikkinen, Miss. Laina</td>\n",
       "      <td>female</td>\n",
       "      <td>26.0</td>\n",
       "      <td>0</td>\n",
       "      <td>0</td>\n",
       "      <td>STON/O2. 3101282</td>\n",
       "      <td>7.9250</td>\n",
       "      <td>C123</td>\n",
       "      <td>S</td>\n",
       "    </tr>\n",
       "    <tr>\n",
       "      <th>4</th>\n",
       "      <td>1</td>\n",
       "      <td>1</td>\n",
       "      <td>Futrelle, Mrs. Jacques Heath (Lily May Peel)</td>\n",
       "      <td>female</td>\n",
       "      <td>35.0</td>\n",
       "      <td>1</td>\n",
       "      <td>0</td>\n",
       "      <td>113803</td>\n",
       "      <td>53.1000</td>\n",
       "      <td>C123</td>\n",
       "      <td>S</td>\n",
       "    </tr>\n",
       "    <tr>\n",
       "      <th>5</th>\n",
       "      <td>0</td>\n",
       "      <td>3</td>\n",
       "      <td>Allen, Mr. William Henry</td>\n",
       "      <td>male</td>\n",
       "      <td>35.0</td>\n",
       "      <td>0</td>\n",
       "      <td>0</td>\n",
       "      <td>373450</td>\n",
       "      <td>8.0500</td>\n",
       "      <td>E46</td>\n",
       "      <td>S</td>\n",
       "    </tr>\n",
       "    <tr>\n",
       "      <th>6</th>\n",
       "      <td>0</td>\n",
       "      <td>3</td>\n",
       "      <td>Moran, Mr. James</td>\n",
       "      <td>male</td>\n",
       "      <td>28.0</td>\n",
       "      <td>0</td>\n",
       "      <td>0</td>\n",
       "      <td>330877</td>\n",
       "      <td>8.4583</td>\n",
       "      <td>E46</td>\n",
       "      <td>Q</td>\n",
       "    </tr>\n",
       "    <tr>\n",
       "      <th>7</th>\n",
       "      <td>0</td>\n",
       "      <td>1</td>\n",
       "      <td>McCarthy, Mr. Timothy J</td>\n",
       "      <td>male</td>\n",
       "      <td>54.0</td>\n",
       "      <td>0</td>\n",
       "      <td>0</td>\n",
       "      <td>17463</td>\n",
       "      <td>51.8625</td>\n",
       "      <td>E46</td>\n",
       "      <td>S</td>\n",
       "    </tr>\n",
       "    <tr>\n",
       "      <th>8</th>\n",
       "      <td>0</td>\n",
       "      <td>3</td>\n",
       "      <td>Palsson, Master. Gosta Leonard</td>\n",
       "      <td>child</td>\n",
       "      <td>2.0</td>\n",
       "      <td>3</td>\n",
       "      <td>1</td>\n",
       "      <td>349909</td>\n",
       "      <td>21.0750</td>\n",
       "      <td>G6</td>\n",
       "      <td>S</td>\n",
       "    </tr>\n",
       "    <tr>\n",
       "      <th>9</th>\n",
       "      <td>1</td>\n",
       "      <td>3</td>\n",
       "      <td>Johnson, Mrs. Oscar W (Elisabeth Vilhelmina Berg)</td>\n",
       "      <td>female</td>\n",
       "      <td>27.0</td>\n",
       "      <td>0</td>\n",
       "      <td>2</td>\n",
       "      <td>347742</td>\n",
       "      <td>11.1333</td>\n",
       "      <td>G6</td>\n",
       "      <td>S</td>\n",
       "    </tr>\n",
       "    <tr>\n",
       "      <th>10</th>\n",
       "      <td>1</td>\n",
       "      <td>2</td>\n",
       "      <td>Nasser, Mrs. Nicholas (Adele Achem)</td>\n",
       "      <td>child</td>\n",
       "      <td>14.0</td>\n",
       "      <td>1</td>\n",
       "      <td>0</td>\n",
       "      <td>237736</td>\n",
       "      <td>30.0708</td>\n",
       "      <td>G6</td>\n",
       "      <td>C</td>\n",
       "    </tr>\n",
       "    <tr>\n",
       "      <th>11</th>\n",
       "      <td>1</td>\n",
       "      <td>3</td>\n",
       "      <td>Sandstrom, Miss. Marguerite Rut</td>\n",
       "      <td>child</td>\n",
       "      <td>4.0</td>\n",
       "      <td>1</td>\n",
       "      <td>1</td>\n",
       "      <td>PP 9549</td>\n",
       "      <td>16.7000</td>\n",
       "      <td>G6</td>\n",
       "      <td>S</td>\n",
       "    </tr>\n",
       "    <tr>\n",
       "      <th>12</th>\n",
       "      <td>1</td>\n",
       "      <td>1</td>\n",
       "      <td>Bonnell, Miss. Elizabeth</td>\n",
       "      <td>female</td>\n",
       "      <td>58.0</td>\n",
       "      <td>0</td>\n",
       "      <td>0</td>\n",
       "      <td>113783</td>\n",
       "      <td>26.5500</td>\n",
       "      <td>C103</td>\n",
       "      <td>S</td>\n",
       "    </tr>\n",
       "    <tr>\n",
       "      <th>13</th>\n",
       "      <td>0</td>\n",
       "      <td>3</td>\n",
       "      <td>Saundercock, Mr. William Henry</td>\n",
       "      <td>male</td>\n",
       "      <td>20.0</td>\n",
       "      <td>0</td>\n",
       "      <td>0</td>\n",
       "      <td>A/5. 2151</td>\n",
       "      <td>8.0500</td>\n",
       "      <td>D56</td>\n",
       "      <td>S</td>\n",
       "    </tr>\n",
       "    <tr>\n",
       "      <th>14</th>\n",
       "      <td>0</td>\n",
       "      <td>3</td>\n",
       "      <td>Andersson, Mr. Anders Johan</td>\n",
       "      <td>male</td>\n",
       "      <td>39.0</td>\n",
       "      <td>1</td>\n",
       "      <td>5</td>\n",
       "      <td>347082</td>\n",
       "      <td>31.2750</td>\n",
       "      <td>D56</td>\n",
       "      <td>S</td>\n",
       "    </tr>\n",
       "    <tr>\n",
       "      <th>15</th>\n",
       "      <td>0</td>\n",
       "      <td>3</td>\n",
       "      <td>Vestrom, Miss. Hulda Amanda Adolfina</td>\n",
       "      <td>child</td>\n",
       "      <td>14.0</td>\n",
       "      <td>0</td>\n",
       "      <td>0</td>\n",
       "      <td>350406</td>\n",
       "      <td>7.8542</td>\n",
       "      <td>D56</td>\n",
       "      <td>S</td>\n",
       "    </tr>\n",
       "    <tr>\n",
       "      <th>16</th>\n",
       "      <td>1</td>\n",
       "      <td>2</td>\n",
       "      <td>Hewlett, Mrs. (Mary D Kingcome)</td>\n",
       "      <td>female</td>\n",
       "      <td>55.0</td>\n",
       "      <td>0</td>\n",
       "      <td>0</td>\n",
       "      <td>248706</td>\n",
       "      <td>16.0000</td>\n",
       "      <td>D56</td>\n",
       "      <td>S</td>\n",
       "    </tr>\n",
       "    <tr>\n",
       "      <th>17</th>\n",
       "      <td>0</td>\n",
       "      <td>3</td>\n",
       "      <td>Rice, Master. Eugene</td>\n",
       "      <td>child</td>\n",
       "      <td>2.0</td>\n",
       "      <td>4</td>\n",
       "      <td>1</td>\n",
       "      <td>382652</td>\n",
       "      <td>29.1250</td>\n",
       "      <td>D56</td>\n",
       "      <td>Q</td>\n",
       "    </tr>\n",
       "    <tr>\n",
       "      <th>18</th>\n",
       "      <td>1</td>\n",
       "      <td>2</td>\n",
       "      <td>Williams, Mr. Charles Eugene</td>\n",
       "      <td>male</td>\n",
       "      <td>28.0</td>\n",
       "      <td>0</td>\n",
       "      <td>0</td>\n",
       "      <td>244373</td>\n",
       "      <td>13.0000</td>\n",
       "      <td>D56</td>\n",
       "      <td>S</td>\n",
       "    </tr>\n",
       "    <tr>\n",
       "      <th>19</th>\n",
       "      <td>0</td>\n",
       "      <td>3</td>\n",
       "      <td>Vander Planke, Mrs. Julius (Emelia Maria Vande...</td>\n",
       "      <td>female</td>\n",
       "      <td>31.0</td>\n",
       "      <td>1</td>\n",
       "      <td>0</td>\n",
       "      <td>345763</td>\n",
       "      <td>18.0000</td>\n",
       "      <td>D56</td>\n",
       "      <td>S</td>\n",
       "    </tr>\n",
       "    <tr>\n",
       "      <th>20</th>\n",
       "      <td>1</td>\n",
       "      <td>3</td>\n",
       "      <td>Masselmani, Mrs. Fatima</td>\n",
       "      <td>female</td>\n",
       "      <td>28.0</td>\n",
       "      <td>0</td>\n",
       "      <td>0</td>\n",
       "      <td>2649</td>\n",
       "      <td>7.2250</td>\n",
       "      <td>D56</td>\n",
       "      <td>C</td>\n",
       "    </tr>\n",
       "  </tbody>\n",
       "</table>\n",
       "</div>"
      ],
      "text/plain": [
       "             Survived  Pclass  \\\n",
       "PassengerId                     \n",
       "1                   0       3   \n",
       "2                   1       1   \n",
       "3                   1       3   \n",
       "4                   1       1   \n",
       "5                   0       3   \n",
       "6                   0       3   \n",
       "7                   0       1   \n",
       "8                   0       3   \n",
       "9                   1       3   \n",
       "10                  1       2   \n",
       "11                  1       3   \n",
       "12                  1       1   \n",
       "13                  0       3   \n",
       "14                  0       3   \n",
       "15                  0       3   \n",
       "16                  1       2   \n",
       "17                  0       3   \n",
       "18                  1       2   \n",
       "19                  0       3   \n",
       "20                  1       3   \n",
       "\n",
       "                                                          Name     Sex   Age  \\\n",
       "PassengerId                                                                    \n",
       "1                                      Braund, Mr. Owen Harris    male  22.0   \n",
       "2            Cumings, Mrs. John Bradley (Florence Briggs Th...  female  38.0   \n",
       "3                                       Heikkinen, Miss. Laina  female  26.0   \n",
       "4                 Futrelle, Mrs. Jacques Heath (Lily May Peel)  female  35.0   \n",
       "5                                     Allen, Mr. William Henry    male  35.0   \n",
       "6                                             Moran, Mr. James    male  28.0   \n",
       "7                                      McCarthy, Mr. Timothy J    male  54.0   \n",
       "8                               Palsson, Master. Gosta Leonard   child   2.0   \n",
       "9            Johnson, Mrs. Oscar W (Elisabeth Vilhelmina Berg)  female  27.0   \n",
       "10                         Nasser, Mrs. Nicholas (Adele Achem)   child  14.0   \n",
       "11                             Sandstrom, Miss. Marguerite Rut   child   4.0   \n",
       "12                                    Bonnell, Miss. Elizabeth  female  58.0   \n",
       "13                              Saundercock, Mr. William Henry    male  20.0   \n",
       "14                                 Andersson, Mr. Anders Johan    male  39.0   \n",
       "15                        Vestrom, Miss. Hulda Amanda Adolfina   child  14.0   \n",
       "16                            Hewlett, Mrs. (Mary D Kingcome)   female  55.0   \n",
       "17                                        Rice, Master. Eugene   child   2.0   \n",
       "18                                Williams, Mr. Charles Eugene    male  28.0   \n",
       "19           Vander Planke, Mrs. Julius (Emelia Maria Vande...  female  31.0   \n",
       "20                                     Masselmani, Mrs. Fatima  female  28.0   \n",
       "\n",
       "             SibSp  Parch            Ticket     Fare Cabin Embarked  \n",
       "PassengerId                                                          \n",
       "1                1      0         A/5 21171   7.2500   C85        S  \n",
       "2                1      0          PC 17599  71.2833   C85        C  \n",
       "3                0      0  STON/O2. 3101282   7.9250  C123        S  \n",
       "4                1      0            113803  53.1000  C123        S  \n",
       "5                0      0            373450   8.0500   E46        S  \n",
       "6                0      0            330877   8.4583   E46        Q  \n",
       "7                0      0             17463  51.8625   E46        S  \n",
       "8                3      1            349909  21.0750    G6        S  \n",
       "9                0      2            347742  11.1333    G6        S  \n",
       "10               1      0            237736  30.0708    G6        C  \n",
       "11               1      1           PP 9549  16.7000    G6        S  \n",
       "12               0      0            113783  26.5500  C103        S  \n",
       "13               0      0         A/5. 2151   8.0500   D56        S  \n",
       "14               1      5            347082  31.2750   D56        S  \n",
       "15               0      0            350406   7.8542   D56        S  \n",
       "16               0      0            248706  16.0000   D56        S  \n",
       "17               4      1            382652  29.1250   D56        Q  \n",
       "18               0      0            244373  13.0000   D56        S  \n",
       "19               1      0            345763  18.0000   D56        S  \n",
       "20               0      0              2649   7.2250   D56        C  "
      ]
     },
     "execution_count": 51,
     "metadata": {},
     "output_type": "execute_result"
    }
   ],
   "source": [
    "# Vamos a difernciar dentro de sex, entre male, female y child(menor de 17), ya que creemos que la política 'mujeres y niños primero' podría haber sido aplicada en el momento de desalojar el Titanic\n",
    "\n",
    "df.loc[(df['Age'] <= 16), 'Sex'] = 'child'\n",
    "df.head(20)"
   ]
  },
  {
   "cell_type": "code",
   "execution_count": 52,
   "metadata": {},
   "outputs": [
    {
     "data": {
      "text/plain": [
       "<AxesSubplot: xlabel='Sex', ylabel='count'>"
      ]
     },
     "execution_count": 52,
     "metadata": {},
     "output_type": "execute_result"
    },
    {
     "data": {
      "image/png": "[encoded data removed]",
      "text/plain": [
       "<Figure size 640x480 with 1 Axes>"
      ]
     },
     "metadata": {},
     "output_type": "display_data"
    }
   ],
   "source": [
    "sns.countplot(x='Sex', hue='Survived', data=df)"
   ]
  },
  {
   "cell_type": "code",
   "execution_count": 53,
   "metadata": {},
   "outputs": [
    {
     "data": {
      "application/vnd.plotly.v1+json": {
       "config": {
        "plotlyServerURL": "https://plot.ly"
       },
       "data": [
        {
         "alignmentgroup": "True",
         "box": {
          "visible": true
         },
         "customdata": [
          [
           3,
           "Braund, Mr. Owen Harris",
           "male",
           1,
           0,
           "A/5 21171",
           7.25,
           "C85",
           "S"
          ],
          [
           3,
           "Allen, Mr. William Henry",
           "male",
           0,
           0,
           "373450",
           8.05,
           "E46",
           "S"
          ],
          [
           3,
           "Moran, Mr. James",
           "male",
           0,
           0,
           "330877",
           8.4583,
           "E46",
           "Q"
          ],
          [
           1,
           "McCarthy, Mr. Timothy J",
           "male",
           0,
           0,
           "17463",
           51.8625,
           "E46",
           "S"
          ],
          [
           3,
           "Saundercock, Mr. William Henry",
           "male",
           0,
           0,
           "A/5. 2151",
           8.05,
           "D56",
           "S"
          ],
          [
           3,
           "Andersson, Mr. Anders Johan",
           "male",
           1,
           5,
           "347082",
           31.275,
           "D56",
           "S"
          ],
          [
           2,
           "Williams, Mr. Charles Eugene",
           "male",
           0,
           0,
           "244373",
           13,
           "D56",
           "S"
          ],
          [
           2,
           "Fynney, Mr. Joseph J",
           "male",
           0,
           0,
           "239865",
           26,
           "D56",
           "S"
          ],
          [
           2,
           "Beesley, Mr. Lawrence",
           "male",
           0,
           0,
           "248698",
           13,
           "D56",
           "S"
          ],
          [
           1,
           "Sloper, Mr. William Thompson",
           "male",
           0,
           0,
           "113788",
           35.5,
           "A6",
           "S"
          ],
          [
           3,
           "Emir, Mr. Farred Chehab",
           "male",
           0,
           0,
           "2631",
           7.225,
           "C23 C25 C27",
           "C"
          ],
          [
           1,
           "Fortune, Mr. Charles Alexander",
           "male",
           3,
           2,
           "19950",
           263,
           "C23 C25 C27",
           "S"
          ],
          [
           3,
           "Todoroff, Mr. Lalio",
           "male",
           0,
           0,
           "349216",
           7.8958,
           "B78",
           "S"
          ],
          [
           1,
           "Uruchurtu, Don. Manuel E",
           "male",
           0,
           0,
           "PC 17601",
           27.7208,
           "B78",
           "C"
          ],
          [
           2,
           "Wheadon, Mr. Edward H",
           "male",
           0,
           0,
           "C.A. 24579",
           10.5,
           "D33",
           "S"
          ],
          [
           1,
           "Meyer, Mr. Edgar Joseph",
           "male",
           1,
           0,
           "PC 17604",
           82.1708,
           "D33",
           "C"
          ],
          [
           1,
           "Holverson, Mr. Alexander Oskar",
           "male",
           1,
           0,
           "113789",
           52,
           "D33",
           "S"
          ],
          [
           3,
           "Mamee, Mr. Hanna",
           "male",
           0,
           0,
           "2677",
           7.2292,
           "D33",
           "C"
          ],
          [
           3,
           "Cann, Mr. Ernest Charles",
           "male",
           0,
           0,
           "A./5. 2152",
           8.05,
           "D33",
           "S"
          ],
          [
           3,
           "Kraeff, Mr. Theodor",
           "male",
           0,
           0,
           "349253",
           7.8958,
           "D33",
           "C"
          ],
          [
           3,
           "Rogers, Mr. William John",
           "male",
           0,
           0,
           "S.C./A.4. 23567",
           8.05,
           "D33",
           "S"
          ],
          [
           3,
           "Lennon, Mr. Denis",
           "male",
           1,
           0,
           "370371",
           15.5,
           "D33",
           "Q"
          ],
          [
           3,
           "Samaan, Mr. Youssef",
           "male",
           2,
           0,
           "2662",
           21.6792,
           "D33",
           "C"
          ],
          [
           3,
           "Nosworthy, Mr. Richard Cater",
           "male",
           0,
           0,
           "A/4. 39886",
           7.8,
           "D33",
           "S"
          ],
          [
           1,
           "Ostby, Mr. Engelhart Cornelius",
           "male",
           0,
           1,
           "113509",
           61.9792,
           "B30",
           "C"
          ],
          [
           1,
           "Woolner, Mr. Hugh",
           "male",
           0,
           0,
           "19947",
           35.5,
           "C52",
           "S"
          ],
          [
           3,
           "Novel, Mr. Mansouer",
           "male",
           0,
           0,
           "2697",
           7.2292,
           "B28",
           "C"
          ],
          [
           3,
           "Sirayanian, Mr. Orsen",
           "male",
           0,
           0,
           "2669",
           7.2292,
           "B28",
           "C"
          ],
          [
           1,
           "Harris, Mr. Henry Birkhardt",
           "male",
           1,
           0,
           "36973",
           83.475,
           "C83",
           "S"
          ],
          [
           1,
           "Stewart, Mr. Albert A",
           "male",
           0,
           0,
           "PC 17605",
           27.7208,
           "F33",
           "C"
          ],
          [
           3,
           "Moubarek, Master. Gerios",
           "male",
           1,
           1,
           "2661",
           15.2458,
           "F33",
           "C"
          ],
          [
           3,
           "Crease, Mr. Ernest James",
           "male",
           0,
           0,
           "S.P. 3464",
           8.1583,
           "F G73",
           "S"
          ],
          [
           3,
           "Kink, Mr. Vincenz",
           "male",
           2,
           0,
           "315151",
           8.6625,
           "F G73",
           "S"
          ],
          [
           2,
           "Jenkin, Mr. Stephen Curnow",
           "male",
           0,
           0,
           "C.A. 33111",
           10.5,
           "F G73",
           "S"
          ],
          [
           2,
           "Hood, Mr. Ambrose Jr",
           "male",
           0,
           0,
           "S.O.C. 14879",
           73.5,
           "F G73",
           "S"
          ],
          [
           3,
           "Chronopoulos, Mr. Apostolos",
           "male",
           1,
           0,
           "2680",
           14.4542,
           "F G73",
           "C"
          ],
          [
           3,
           "Bing, Mr. Lee",
           "male",
           0,
           0,
           "1601",
           56.4958,
           "F G73",
           "S"
          ],
          [
           3,
           "Moen, Mr. Sigurd Hansen",
           "male",
           0,
           0,
           "348123",
           7.65,
           "F G73",
           "S"
          ],
          [
           3,
           "Staneff, Mr. Ivan",
           "male",
           0,
           0,
           "349208",
           7.8958,
           "C23 C25 C27",
           "S"
          ],
          [
           3,
           "Moutal, Mr. Rahamin Haim",
           "male",
           0,
           0,
           "374746",
           8.05,
           "C23 C25 C27",
           "S"
          ],
          [
           3,
           "Waelens, Mr. Achille",
           "male",
           0,
           0,
           "345767",
           9,
           "C23 C25 C27",
           "S"
          ],
          [
           3,
           "Sheerlinck, Mr. Jan Baptist",
           "male",
           0,
           0,
           "345779",
           9.5,
           "C23 C25 C27",
           "S"
          ],
          [
           1,
           "Carrau, Mr. Francisco M",
           "male",
           0,
           0,
           "113059",
           47.1,
           "C23 C25 C27",
           "S"
          ],
          [
           3,
           "Slocovski, Mr. Selman Francis",
           "male",
           0,
           0,
           "SOTON/OQ 392086",
           8.05,
           "C23 C25 C27",
           "S"
          ],
          [
           3,
           "Celotti, Mr. Francesco",
           "male",
           0,
           0,
           "343275",
           8.05,
           "E31",
           "S"
          ],
          [
           3,
           "Christmann, Mr. Emil",
           "male",
           0,
           0,
           "343276",
           8.05,
           "E31",
           "S"
          ],
          [
           3,
           "Andreasson, Mr. Paul Edvin",
           "male",
           0,
           0,
           "347466",
           7.8542,
           "E31",
           "S"
          ],
          [
           1,
           "Chaffee, Mr. Herbert Fuller",
           "male",
           1,
           0,
           "W.E.P. 5734",
           61.175,
           "E31",
           "S"
          ],
          [
           3,
           "Dean, Mr. Bertram Frank",
           "male",
           1,
           2,
           "C.A. 2315",
           20.575,
           "A5",
           "S"
          ],
          [
           3,
           "Coxon, Mr. Daniel",
           "male",
           0,
           0,
           "364500",
           7.25,
           "A5",
           "S"
          ],
          [
           3,
           "Shorney, Mr. Charles Joseph",
           "male",
           0,
           0,
           "374910",
           8.05,
           "A5",
           "S"
          ],
          [
           1,
           "Goldschmidt, Mr. George B",
           "male",
           0,
           0,
           "PC 17754",
           34.6542,
           "A5",
           "C"
          ],
          [
           1,
           "Greenfield, Mr. William Bertram",
           "male",
           0,
           1,
           "PC 17759",
           63.3583,
           "D10 D12",
           "C"
          ],
          [
           2,
           "Kantor, Mr. Sinai",
           "male",
           1,
           0,
           "244367",
           26,
           "D26",
           "S"
          ],
          [
           3,
           "Petroff, Mr. Pastcho (\"Pentcho\")",
           "male",
           0,
           0,
           "349215",
           7.8958,
           "D26",
           "S"
          ],
          [
           1,
           "White, Mr. Richard Frasar",
           "male",
           0,
           1,
           "35281",
           77.2875,
           "D26",
           "S"
          ],
          [
           3,
           "Johansson, Mr. Gustaf Joel",
           "male",
           0,
           0,
           "7540",
           8.6542,
           "C110",
           "S"
          ],
          [
           3,
           "Gustafsson, Mr. Anders Vilhelm",
           "male",
           2,
           0,
           "3101276",
           7.925,
           "C110",
           "S"
          ],
          [
           3,
           "Mionoff, Mr. Stoytcho",
           "male",
           0,
           0,
           "349207",
           7.8958,
           "C110",
           "S"
          ],
          [
           3,
           "Moss, Mr. Albert Johan",
           "male",
           0,
           0,
           "312991",
           7.775,
           "C110",
           "S"
          ],
          [
           3,
           "Rekic, Mr. Tido",
           "male",
           0,
           0,
           "349249",
           7.8958,
           "C110",
           "S"
          ],
          [
           1,
           "Porter, Mr. Walter Chamberlain",
           "male",
           0,
           0,
           "110465",
           52,
           "C110",
           "S"
          ],
          [
           3,
           "Barton, Mr. David John",
           "male",
           0,
           0,
           "324669",
           8.05,
           "B58 B60",
           "S"
          ],
          [
           3,
           "Pekoniemi, Mr. Edvard",
           "male",
           0,
           0,
           "STON/O 2. 3101294",
           7.925,
           "B58 B60",
           "S"
          ],
          [
           3,
           "Connors, Mr. Patrick",
           "male",
           0,
           0,
           "370369",
           7.75,
           "B58 B60",
           "Q"
          ],
          [
           2,
           "Turpin, Mr. William John Robert",
           "male",
           1,
           0,
           "11668",
           21,
           "B58 B60",
           "S"
          ],
          [
           1,
           "Baxter, Mr. Quigg Edmond",
           "male",
           0,
           1,
           "PC 17558",
           247.5208,
           "B58 B60",
           "C"
          ],
          [
           2,
           "Hickman, Mr. Stanley George",
           "male",
           2,
           0,
           "S.O.C. 14879",
           73.5,
           "E101",
           "S"
          ],
          [
           3,
           "Moore, Mr. Leonard Charles",
           "male",
           0,
           0,
           "A4. 54510",
           8.05,
           "E101",
           "S"
          ],
          [
           2,
           "Nasser, Mr. Nicholas",
           "male",
           1,
           0,
           "237736",
           30.0708,
           "E101",
           "C"
          ],
          [
           1,
           "White, Mr. Percival Wayland",
           "male",
           0,
           1,
           "35281",
           77.2875,
           "D26",
           "S"
          ],
          [
           3,
           "McMahon, Mr. Martin",
           "male",
           0,
           0,
           "370372",
           7.75,
           "F E69",
           "Q"
          ],
          [
           3,
           "Madsen, Mr. Fridtjof Arne",
           "male",
           0,
           0,
           "C 17369",
           7.1417,
           "F E69",
           "S"
          ],
          [
           3,
           "Ekstrom, Mr. Johan",
           "male",
           0,
           0,
           "347061",
           6.975,
           "D47",
           "S"
          ],
          [
           3,
           "Drazenoic, Mr. Jozef",
           "male",
           0,
           0,
           "349241",
           7.8958,
           "D47",
           "C"
          ],
          [
           3,
           "Coelho, Mr. Domingos Fernandeo",
           "male",
           0,
           0,
           "SOTON/O.Q. 3101307",
           7.05,
           "D47",
           "S"
          ],
          [
           2,
           "Sobey, Mr. Samuel James Hayden",
           "male",
           0,
           0,
           "C.A. 29178",
           13,
           "D47",
           "S"
          ],
          [
           2,
           "Richard, Mr. Emile",
           "male",
           0,
           0,
           "SC/PARIS 2133",
           15.0458,
           "D47",
           "C"
          ],
          [
           1,
           "Futrelle, Mr. Jacques Heath",
           "male",
           1,
           0,
           "113803",
           53.1,
           "C123",
           "S"
          ],
          [
           1,
           "Giglio, Mr. Victor",
           "male",
           0,
           0,
           "PC 17593",
           79.2,
           "B86",
           "C"
          ],
          [
           3,
           "Burke, Mr. Jeremiah",
           "male",
           0,
           0,
           "365222",
           6.75,
           "F2",
           "Q"
          ],
          [
           2,
           "Andrew, Mr. Edgardo Samuel",
           "male",
           0,
           0,
           "231945",
           11.5,
           "F2",
           "S"
          ],
          [
           2,
           "Nicholls, Mr. Joseph Charles",
           "male",
           1,
           1,
           "C.A. 33112",
           36.75,
           "F2",
           "S"
          ],
          [
           3,
           "Andersson, Mr. August Edvard (\"Wennerstrom\")",
           "male",
           0,
           0,
           "350043",
           7.7958,
           "F2",
           "S"
          ],
          [
           2,
           "Navratil, Mr. Michel (\"Louis M Hoffman\")",
           "male",
           0,
           2,
           "230080",
           26,
           "F2",
           "S"
          ],
          [
           2,
           "Byles, Rev. Thomas Roussel Davids",
           "male",
           0,
           0,
           "244310",
           13,
           "C2",
           "S"
          ],
          [
           2,
           "Bateman, Rev. Robert James",
           "male",
           0,
           0,
           "S.O.P. 1166",
           12.525,
           "C2",
           "S"
          ],
          [
           3,
           "Meo, Mr. Alfonzo",
           "male",
           0,
           0,
           "A.5. 11206",
           8.05,
           "E33",
           "S"
          ],
          [
           3,
           "van Billiard, Mr. Austin Blyler",
           "male",
           0,
           2,
           "A/5. 851",
           14.5,
           "E33",
           "S"
          ],
          [
           3,
           "Olsen, Mr. Ole Martin",
           "male",
           0,
           0,
           "Fa 265302",
           7.3125,
           "E33",
           "S"
          ],
          [
           1,
           "Williams, Mr. Charles Duane",
           "male",
           0,
           1,
           "PC 17597",
           61.3792,
           "E33",
           "C"
          ],
          [
           3,
           "Corn, Mr. Harry",
           "male",
           0,
           0,
           "SOTON/OQ 392090",
           8.05,
           "E33",
           "S"
          ],
          [
           3,
           "Smiljanic, Mr. Mile",
           "male",
           0,
           0,
           "315037",
           8.6625,
           "E33",
           "S"
          ],
          [
           3,
           "Sage, Master. Thomas Henry",
           "male",
           8,
           2,
           "CA. 2343",
           69.55,
           "E33",
           "S"
          ],
          [
           3,
           "Cribb, Mr. John Hatfield",
           "male",
           0,
           1,
           "371362",
           16.1,
           "E33",
           "S"
          ],
          [
           3,
           "Bengtsson, Mr. John Viktor",
           "male",
           0,
           0,
           "347068",
           7.775,
           "E33",
           "S"
          ],
          [
           3,
           "Calic, Mr. Jovo",
           "male",
           0,
           0,
           "315093",
           8.6625,
           "E33",
           "S"
          ],
          [
           1,
           "Baumann, Mr. John D",
           "male",
           0,
           0,
           "PC 17318",
           25.925,
           "B19",
           "S"
          ],
          [
           3,
           "Ling, Mr. Lee",
           "male",
           0,
           0,
           "1601",
           56.4958,
           "B19",
           "S"
          ],
          [
           1,
           "Van der hoef, Mr. Wyckoff",
           "male",
           0,
           0,
           "111240",
           33.5,
           "B19",
           "S"
          ],
          [
           3,
           "Sivola, Mr. Antti Wilhelm",
           "male",
           0,
           0,
           "STON/O 2. 3101280",
           7.925,
           "A7",
           "S"
          ],
          [
           1,
           "Smith, Mr. James Clinch",
           "male",
           0,
           0,
           "17764",
           30.6958,
           "A7",
           "C"
          ],
          [
           3,
           "Klasen, Mr. Klas Albin",
           "male",
           1,
           1,
           "350404",
           7.8542,
           "C49",
           "S"
          ],
          [
           3,
           "Lefebre, Master. Henry Forbes",
           "male",
           3,
           1,
           "4133",
           25.4667,
           "C49",
           "S"
          ],
          [
           2,
           "Hale, Mr. Reginald",
           "male",
           0,
           0,
           "250653",
           13,
           "F4",
           "S"
          ],
          [
           3,
           "Leonard, Mr. Lionel",
           "male",
           0,
           0,
           "LINE",
           0,
           "F4",
           "S"
          ],
          [
           2,
           "Pernot, Mr. Rene",
           "male",
           0,
           0,
           "SC/PARIS 2131",
           15.05,
           "F4",
           "C"
          ],
          [
           1,
           "Rood, Mr. Hugh Roscoe",
           "male",
           0,
           0,
           "113767",
           50,
           "A32",
           "S"
          ],
          [
           1,
           "Romaine, Mr. Charles Hallace (\"Mr C Rolmane\")",
           "male",
           0,
           0,
           "111428",
           26.55,
           "F2",
           "S"
          ],
          [
           3,
           "Bourke, Mr. John",
           "male",
           1,
           1,
           "364849",
           15.5,
           "F2",
           "Q"
          ],
          [
           3,
           "Turcin, Mr. Stjepan",
           "male",
           0,
           0,
           "349247",
           7.8958,
           "F2",
           "S"
          ],
          [
           2,
           "Carbines, Mr. William",
           "male",
           0,
           0,
           "28424",
           13,
           "F2",
           "S"
          ],
          [
           3,
           "Mernagh, Mr. Robert",
           "male",
           0,
           0,
           "368703",
           7.75,
           "G6",
           "Q"
          ],
          [
           3,
           "Olsen, Mr. Karl Siegwart Andreas",
           "male",
           0,
           1,
           "4579",
           8.4042,
           "G6",
           "S"
          ],
          [
           3,
           "Vande Walle, Mr. Nestor Cyriel",
           "male",
           0,
           0,
           "345770",
           9.5,
           "G6",
           "S"
          ],
          [
           3,
           "Sage, Mr. Frederick",
           "male",
           8,
           2,
           "CA. 2343",
           69.55,
           "G6",
           "S"
          ],
          [
           3,
           "Johanson, Mr. Jakob Alfred",
           "male",
           0,
           0,
           "3101264",
           6.4958,
           "G6",
           "S"
          ],
          [
           3,
           "Youseff, Mr. Gerious",
           "male",
           0,
           0,
           "2628",
           7.225,
           "G6",
           "C"
          ],
          [
           3,
           "Cohen, Mr. Gurshon \"Gus\"",
           "male",
           0,
           0,
           "A/5 3540",
           8.05,
           "G6",
           "S"
          ],
          [
           3,
           "Backstrom, Mr. Karl Alfred",
           "male",
           1,
           0,
           "3101278",
           15.85,
           "A31",
           "S"
          ],
          [
           3,
           "Albimona, Mr. Nassef Cassem",
           "male",
           0,
           0,
           "2699",
           18.7875,
           "A31",
           "C"
          ],
          [
           1,
           "Blank, Mr. Henry",
           "male",
           0,
           0,
           "112277",
           31,
           "A31",
           "C"
          ],
          [
           3,
           "Ali, Mr. Ahmed",
           "male",
           0,
           0,
           "SOTON/O.Q. 3101311",
           7.05,
           "D36",
           "S"
          ],
          [
           3,
           "Perkin, Mr. John Henry",
           "male",
           0,
           0,
           "A/5 21174",
           7.25,
           "D36",
           "S"
          ],
          [
           2,
           "Givard, Mr. Hans Kristensen",
           "male",
           0,
           0,
           "250646",
           13,
           "D36",
           "S"
          ],
          [
           3,
           "Kiernan, Mr. Philip",
           "male",
           1,
           0,
           "367229",
           7.75,
           "D36",
           "Q"
          ],
          [
           2,
           "Jacobsohn, Mr. Sidney Samuel",
           "male",
           1,
           0,
           "243847",
           27,
           "D15",
           "S"
          ],
          [
           2,
           "Harris, Mr. Walter",
           "male",
           0,
           0,
           "W/C 14208",
           10.5,
           "C93",
           "S"
          ],
          [
           2,
           "Bracken, Mr. James H",
           "male",
           0,
           0,
           "220367",
           13,
           "C93",
           "S"
          ],
          [
           3,
           "Green, Mr. George Henry",
           "male",
           0,
           0,
           "21440",
           8.05,
           "C93",
           "S"
          ],
          [
           3,
           "Nenkoff, Mr. Christo",
           "male",
           0,
           0,
           "349234",
           7.8958,
           "C93",
           "S"
          ],
          [
           1,
           "Hoyt, Mr. Frederick Maxfield",
           "male",
           1,
           0,
           "19943",
           90,
           "C93",
           "S"
          ],
          [
           3,
           "Berglund, Mr. Karl Ivar Sven",
           "male",
           0,
           0,
           "PP 4348",
           9.35,
           "C83",
           "S"
          ],
          [
           2,
           "Mellors, Mr. William John",
           "male",
           0,
           0,
           "SW/PP 751",
           10.5,
           "C83",
           "S"
          ],
          [
           3,
           "Lovell, Mr. John Hall (\"Henry\")",
           "male",
           0,
           0,
           "A/5 21173",
           7.25,
           "C83",
           "S"
          ],
          [
           2,
           "Fahlstrom, Mr. Arne Jonas",
           "male",
           0,
           0,
           "236171",
           13,
           "C83",
           "S"
          ],
          [
           3,
           "Larsson, Mr. Bengt Edvin",
           "male",
           0,
           0,
           "347067",
           7.775,
           "C78",
           "S"
          ],
          [
           2,
           "Sjostedt, Mr. Ernst Adolf",
           "male",
           0,
           0,
           "237442",
           13.5,
           "C78",
           "S"
          ],
          [
           2,
           "Leyson, Mr. Robert William Norman",
           "male",
           0,
           0,
           "C.A. 29566",
           10.5,
           "C78",
           "S"
          ],
          [
           2,
           "Hold, Mr. Stephen",
           "male",
           1,
           0,
           "26707",
           26,
           "C78",
           "S"
          ],
          [
           2,
           "Pengelly, Mr. Frederick William",
           "male",
           0,
           0,
           "28665",
           10.5,
           "C78",
           "S"
          ],
          [
           2,
           "Hunt, Mr. George Henry",
           "male",
           0,
           0,
           "SCO/W 1585",
           12.275,
           "C78",
           "S"
          ],
          [
           2,
           "Coleridge, Mr. Reginald Charles",
           "male",
           0,
           0,
           "W./C. 14263",
           10.5,
           "C78",
           "S"
          ],
          [
           3,
           "Maenpaa, Mr. Matti Alexanteri",
           "male",
           0,
           0,
           "STON/O 2. 3101275",
           7.125,
           "C78",
           "S"
          ],
          [
           3,
           "Attalah, Mr. Sleiman",
           "male",
           0,
           0,
           "2694",
           7.225,
           "C78",
           "C"
          ],
          [
           1,
           "Minahan, Dr. William Edward",
           "male",
           2,
           0,
           "19928",
           90,
           "C78",
           "Q"
          ],
          [
           1,
           "Beckwith, Mr. Richard Leonard",
           "male",
           1,
           1,
           "11751",
           52.5542,
           "D35",
           "S"
          ],
          [
           2,
           "Carter, Rev. Ernest Courtenay",
           "male",
           1,
           0,
           "244252",
           26,
           "G6",
           "S"
          ],
          [
           3,
           "Reed, Mr. James George",
           "male",
           0,
           0,
           "362316",
           7.25,
           "G6",
           "S"
          ],
          [
           1,
           "Stead, Mr. William Thomas",
           "male",
           0,
           0,
           "113514",
           26.55,
           "C87",
           "S"
          ],
          [
           3,
           "Lobb, Mr. William Arthur",
           "male",
           1,
           0,
           "A/5. 3336",
           16.1,
           "B77",
           "S"
          ],
          [
           3,
           "Smith, Mr. Thomas",
           "male",
           0,
           0,
           "384461",
           7.75,
           "E67",
           "Q"
          ],
          [
           1,
           "Taussig, Mr. Emil",
           "male",
           1,
           1,
           "110413",
           79.65,
           "E67",
           "S"
          ],
          [
           1,
           "Harrison, Mr. William",
           "male",
           0,
           0,
           "112059",
           0,
           "B94",
           "S"
          ],
          [
           2,
           "Reeves, Mr. David",
           "male",
           0,
           0,
           "C.A. 17248",
           10.5,
           "C125",
           "S"
          ],
          [
           3,
           "Persson, Mr. Ernst Ulrik",
           "male",
           1,
           0,
           "347083",
           7.775,
           "C125",
           "S"
          ],
          [
           1,
           "Cairns, Mr. Alexander",
           "male",
           0,
           0,
           "113798",
           31,
           "C118",
           "S"
          ],
          [
           3,
           "Tornquist, Mr. William Henry",
           "male",
           0,
           0,
           "LINE",
           0,
           "C118",
           "S"
          ],
          [
           1,
           "Natsch, Mr. Charles H",
           "male",
           0,
           1,
           "PC 17596",
           29.7,
           "C118",
           "C"
          ],
          [
           2,
           "Parkes, Mr. Francis \"Frank\"",
           "male",
           0,
           0,
           "239853",
           0,
           "A19",
           "S"
          ],
          [
           3,
           "Duane, Mr. Frank",
           "male",
           0,
           0,
           "336439",
           7.75,
           "A19",
           "Q"
          ],
          [
           3,
           "Olsson, Mr. Nils Johan Goransson",
           "male",
           0,
           0,
           "347464",
           7.8542,
           "A19",
           "S"
          ],
          [
           3,
           "Dorking, Mr. Edward Arthur",
           "male",
           0,
           0,
           "A/5. 10482",
           8.05,
           "A19",
           "S"
          ],
          [
           1,
           "Smith, Mr. Richard William",
           "male",
           0,
           0,
           "113056",
           26,
           "A19",
           "S"
          ],
          [
           3,
           "Stankovic, Mr. Ivan",
           "male",
           0,
           0,
           "349239",
           8.6625,
           "B49",
           "C"
          ],
          [
           3,
           "de Mulder, Mr. Theodore",
           "male",
           0,
           0,
           "345774",
           9.5,
           "B49",
           "S"
          ],
          [
           3,
           "Naidenoff, Mr. Penko",
           "male",
           0,
           0,
           "349206",
           7.8958,
           "B49",
           "S"
          ],
          [
           2,
           "Hosono, Mr. Masabumi",
           "male",
           0,
           0,
           "237798",
           13,
           "B49",
           "S"
          ],
          [
           2,
           "Levy, Mr. Rene Jacques",
           "male",
           0,
           0,
           "SC/Paris 2163",
           12.875,
           "D",
           "C"
          ],
          [
           3,
           "Mineff, Mr. Ivan",
           "male",
           0,
           0,
           "349233",
           7.8958,
           "C22 C26",
           "S"
          ],
          [
           1,
           "Lewy, Mr. Ervin G",
           "male",
           0,
           0,
           "PC 17612",
           27.7208,
           "C22 C26",
           "C"
          ],
          [
           3,
           "Hanna, Mr. Mansour",
           "male",
           0,
           0,
           "2693",
           7.2292,
           "C22 C26",
           "C"
          ],
          [
           1,
           "Saalfeld, Mr. Adolphe",
           "male",
           0,
           0,
           "19988",
           30.5,
           "C106",
           "S"
          ],
          [
           3,
           "McCoy, Mr. Bernard",
           "male",
           2,
           0,
           "367226",
           23.25,
           "E101",
           "Q"
          ],
          [
           3,
           "Johnson, Mr. William Cahoone Jr",
           "male",
           0,
           0,
           "LINE",
           0,
           "E101",
           "S"
          ],
          [
           3,
           "Williams, Mr. Howard Hugh \"Harry\"",
           "male",
           0,
           0,
           "A/5 2466",
           8.05,
           "C22 C26",
           "S"
          ],
          [
           2,
           "Abelson, Mr. Samuel",
           "male",
           1,
           0,
           "P/PP 3381",
           24,
           "E36",
           "C"
          ],
          [
           3,
           "Hendekovic, Mr. Ignjac",
           "male",
           0,
           0,
           "349243",
           7.8958,
           "C7",
           "S"
          ],
          [
           2,
           "Hart, Mr. Benjamin",
           "male",
           1,
           1,
           "F.C.C. 13529",
           26.25,
           "C7",
           "S"
          ],
          [
           2,
           "Moraweck, Dr. Ernest",
           "male",
           0,
           0,
           "29011",
           14,
           "C7",
           "S"
          ],
          [
           3,
           "Dennis, Mr. Samuel",
           "male",
           0,
           0,
           "A/5 21172",
           7.25,
           "C32",
           "S"
          ],
          [
           3,
           "Danoff, Mr. Yoto",
           "male",
           0,
           0,
           "349219",
           7.8958,
           "C32",
           "S"
          ],
          [
           3,
           "Sage, Mr. George John Jr",
           "male",
           8,
           2,
           "CA. 2343",
           69.55,
           "C32",
           "S"
          ],
          [
           3,
           "Nysveen, Mr. Johan Hansen",
           "male",
           0,
           0,
           "345364",
           6.2375,
           "D",
           "S"
          ],
          [
           1,
           "Partner, Mr. Austen",
           "male",
           0,
           0,
           "113043",
           28.5,
           "C124",
           "S"
          ],
          [
           1,
           "Graham, Mr. George Edward",
           "male",
           0,
           1,
           "PC 17582",
           153.4625,
           "C91",
           "S"
          ],
          [
           3,
           "Denkoff, Mr. Mitto",
           "male",
           0,
           0,
           "349225",
           7.8958,
           "C2",
           "S"
          ],
          [
           1,
           "Pears, Mr. Thomas Clinton",
           "male",
           1,
           0,
           "113776",
           66.6,
           "C2",
           "S"
          ],
          [
           3,
           "Dahl, Mr. Karl Edwart",
           "male",
           0,
           0,
           "7598",
           8.05,
           "T",
           "S"
          ],
          [
           1,
           "Blackwell, Mr. Stephen Weart",
           "male",
           0,
           0,
           "113784",
           35.5,
           "T",
           "S"
          ],
          [
           2,
           "Collander, Mr. Erik Gustaf",
           "male",
           0,
           0,
           "248740",
           13,
           "F33",
           "S"
          ],
          [
           2,
           "Sedgwick, Mr. Charles Frederick Waddington",
           "male",
           0,
           0,
           "244361",
           13,
           "F33",
           "S"
          ],
          [
           2,
           "Fox, Mr. Stanley Hubert",
           "male",
           0,
           0,
           "229236",
           13,
           "F33",
           "S"
          ],
          [
           3,
           "Dimic, Mr. Jovan",
           "male",
           0,
           0,
           "315088",
           8.6625,
           "C128",
           "S"
          ],
          [
           3,
           "Odahl, Mr. Nils Martin",
           "male",
           0,
           0,
           "7267",
           9.225,
           "C128",
           "S"
          ],
          [
           1,
           "Williams-Lambert, Mr. Fletcher Fellows",
           "male",
           0,
           0,
           "113510",
           35,
           "C128",
           "S"
          ],
          [
           3,
           "Arnold-Franchi, Mr. Josef",
           "male",
           1,
           0,
           "349237",
           17.8,
           "E33",
           "S"
          ],
          [
           3,
           "Yousif, Mr. Wazli",
           "male",
           0,
           0,
           "2647",
           7.225,
           "E33",
           "C"
          ],
          [
           3,
           "Vanden Steen, Mr. Leo Peter",
           "male",
           0,
           0,
           "345783",
           9.5,
           "E33",
           "S"
          ],
          [
           3,
           "Skoog, Mr. Wilhelm",
           "male",
           1,
           4,
           "347088",
           27.9,
           "D37",
           "S"
          ],
          [
           2,
           "del Carlo, Mr. Sebastiano",
           "male",
           1,
           0,
           "SC/PARIS 2167",
           27.7208,
           "D37",
           "C"
          ],
          [
           3,
           "Asim, Mr. Adola",
           "male",
           0,
           0,
           "SOTON/O.Q. 3101310",
           7.05,
           "D37",
           "S"
          ],
          [
           3,
           "O'Brien, Mr. Thomas",
           "male",
           1,
           0,
           "370365",
           15.5,
           "D37",
           "Q"
          ],
          [
           3,
           "Adahl, Mr. Mauritz Nils Martin",
           "male",
           0,
           0,
           "C 7076",
           7.25,
           "D37",
           "S"
          ],
          [
           1,
           "Harder, Mr. George Achilles",
           "male",
           1,
           0,
           "11765",
           55.4417,
           "E50",
           "C"
          ],
          [
           3,
           "Wiklund, Mr. Jakob Alfred",
           "male",
           1,
           0,
           "3101267",
           6.4958,
           "C82",
           "S"
          ],
          [
           3,
           "Beavan, Mr. William Thomas",
           "male",
           0,
           0,
           "323951",
           8.05,
           "C82",
           "S"
          ],
          [
           1,
           "Ringhini, Mr. Sante",
           "male",
           0,
           0,
           "PC 17760",
           135.6333,
           "C82",
           "C"
          ],
          [
           1,
           "Widener, Mr. Harry Elkins",
           "male",
           0,
           2,
           "113503",
           211.5,
           "C82",
           "C"
          ],
          [
           3,
           "Betros, Mr. Tannous",
           "male",
           0,
           0,
           "2648",
           4.0125,
           "B96 B98",
           "C"
          ],
          [
           3,
           "Gustafsson, Mr. Karl Gideon",
           "male",
           0,
           0,
           "347069",
           7.775,
           "B96 B98",
           "S"
          ],
          [
           3,
           "Tikkanen, Mr. Juho",
           "male",
           0,
           0,
           "STON/O 2. 3101293",
           7.925,
           "B96 B98",
           "S"
          ],
          [
           3,
           "Plotcharsky, Mr. Vasil",
           "male",
           0,
           0,
           "349227",
           7.8958,
           "B96 B98",
           "S"
          ],
          [
           2,
           "Davies, Mr. Charles Henry",
           "male",
           0,
           0,
           "S.O.C. 14879",
           73.5,
           "B96 B98",
           "S"
          ],
          [
           3,
           "Sadlier, Mr. Matthew",
           "male",
           0,
           0,
           "367655",
           7.7292,
           "B96 B98",
           "Q"
          ],
          [
           1,
           "Carter, Mr. William Ernest",
           "male",
           1,
           2,
           "113760",
           120,
           "B96 B98",
           "S"
          ],
          [
           3,
           "Jansson, Mr. Carl Olof",
           "male",
           0,
           0,
           "350034",
           7.7958,
           "D36",
           "S"
          ],
          [
           3,
           "Gustafsson, Mr. Johan Birger",
           "male",
           2,
           0,
           "3101277",
           7.925,
           "D36",
           "S"
          ],
          [
           3,
           "Johansson, Mr. Erik",
           "male",
           0,
           0,
           "350052",
           7.7958,
           "C78",
           "S"
          ],
          [
           2,
           "McKane, Mr. Peter David",
           "male",
           0,
           0,
           "28403",
           26,
           "C78",
           "S"
          ],
          [
           2,
           "Pain, Dr. Alfred",
           "male",
           0,
           0,
           "244278",
           10.5,
           "C78",
           "S"
          ],
          [
           3,
           "Niskanen, Mr. Juha",
           "male",
           0,
           0,
           "STON/O 2. 3101289",
           7.925,
           "C78",
           "S"
          ],
          [
           3,
           "Adams, Mr. John",
           "male",
           0,
           0,
           "341826",
           8.05,
           "C78",
           "S"
          ],
          [
           3,
           "Hakkarainen, Mr. Pekka Pietari",
           "male",
           1,
           0,
           "STON/O2. 3101279",
           15.85,
           "C78",
           "S"
          ],
          [
           2,
           "Gale, Mr. Shadrach",
           "male",
           1,
           0,
           "28664",
           21,
           "C78",
           "S"
          ],
          [
           3,
           "Widegren, Mr. Carl/Charles Peter",
           "male",
           0,
           0,
           "347064",
           7.75,
           "C78",
           "S"
          ],
          [
           3,
           "Birkeland, Mr. Hans Martin Monsen",
           "male",
           0,
           0,
           "312992",
           7.775,
           "C78",
           "S"
          ],
          [
           3,
           "Sdycoff, Mr. Todor",
           "male",
           0,
           0,
           "349222",
           7.8958,
           "C78",
           "S"
          ],
          [
           3,
           "Hart, Mr. Henry",
           "male",
           0,
           0,
           "394140",
           6.8583,
           "C78",
           "Q"
          ],
          [
           2,
           "Cunningham, Mr. Alfred Fleming",
           "male",
           0,
           0,
           "239853",
           0,
           "E10",
           "S"
          ],
          [
           3,
           "Sundman, Mr. Johan Julian",
           "male",
           0,
           0,
           "STON/O 2. 3101269",
           7.925,
           "E10",
           "S"
          ],
          [
           2,
           "Matthews, Mr. William John",
           "male",
           0,
           0,
           "28228",
           13,
           "E10",
           "S"
          ],
          [
           3,
           "Gheorgheff, Mr. Stanio",
           "male",
           0,
           0,
           "349254",
           7.8958,
           "E10",
           "C"
          ],
          [
           3,
           "Charters, Mr. David",
           "male",
           0,
           0,
           "A/5. 13032",
           7.7333,
           "E10",
           "Q"
          ],
          [
           3,
           "Zimmerman, Mr. Leo",
           "male",
           0,
           0,
           "315082",
           7.875,
           "E10",
           "S"
          ],
          [
           3,
           "Rosblom, Mr. Viktor Richard",
           "male",
           1,
           1,
           "370129",
           20.2125,
           "E10",
           "S"
          ],
          [
           3,
           "Wiseman, Mr. Phillippe",
           "male",
           0,
           0,
           "A/4. 34244",
           7.25,
           "E10",
           "S"
          ],
          [
           3,
           "Flynn, Mr. James",
           "male",
           0,
           0,
           "364851",
           7.75,
           "E10",
           "Q"
          ],
          [
           3,
           "Pickard, Mr. Berk (Berk Trembisky)",
           "male",
           0,
           0,
           "SOTON/O.Q. 392078",
           8.05,
           "E10",
           "S"
          ],
          [
           1,
           "Bjornstrom-Steffansson, Mr. Mauritz Hakan",
           "male",
           0,
           0,
           "110564",
           26.55,
           "C52",
           "S"
          ],
          [
           3,
           "Kallio, Mr. Nikolai Erland",
           "male",
           0,
           0,
           "STON/O 2. 3101274",
           7.125,
           "E44",
           "S"
          ],
          [
           1,
           "Silvey, Mr. William Baird",
           "male",
           1,
           0,
           "13507",
           55.9,
           "E44",
           "S"
          ],
          [
           1,
           "Fortune, Mr. Mark",
           "male",
           1,
           4,
           "19950",
           263,
           "C23 C25 C27",
           "S"
          ],
          [
           2,
           "Kvillner, Mr. Johan Henrik Johannesson",
           "male",
           0,
           0,
           "C.A. 18723",
           10.5,
           "A34",
           "S"
          ],
          [
           3,
           "Hampe, Mr. Leon",
           "male",
           0,
           0,
           "345769",
           9.5,
           "A34",
           "S"
          ],
          [
           3,
           "Petterson, Mr. Johan Emil",
           "male",
           1,
           0,
           "347076",
           7.775,
           "A34",
           "S"
          ],
          [
           3,
           "Johannesen-Bratthammer, Mr. Bernt",
           "male",
           0,
           0,
           "65306",
           8.1125,
           "A34",
           "S"
          ],
          [
           1,
           "Seward, Mr. Frederic Kimber",
           "male",
           0,
           0,
           "113794",
           26.55,
           "C104",
           "S"
          ],
          [
           1,
           "Peuchen, Major. Arthur Godfrey",
           "male",
           0,
           0,
           "113786",
           30.5,
           "C104",
           "S"
          ],
          [
           2,
           "West, Mr. Edwy Arthur",
           "male",
           1,
           2,
           "C.A. 34651",
           27.75,
           "C111",
           "S"
          ],
          [
           3,
           "Hagland, Mr. Ingvald Olai Olsen",
           "male",
           1,
           0,
           "65303",
           19.9667,
           "C111",
           "S"
          ],
          [
           1,
           "Foreman, Mr. Benjamin Laventall",
           "male",
           0,
           0,
           "113051",
           27.75,
           "C111",
           "C"
          ],
          [
           1,
           "Goldenberg, Mr. Samuel L",
           "male",
           1,
           0,
           "17453",
           89.1042,
           "C92",
           "C"
          ],
          [
           3,
           "Peduzzi, Mr. Joseph",
           "male",
           0,
           0,
           "A/5 2817",
           8.05,
           "E38",
           "S"
          ],
          [
           3,
           "Jalsevac, Mr. Ivan",
           "male",
           0,
           0,
           "349240",
           7.8958,
           "E38",
           "C"
          ],
          [
           1,
           "Millet, Mr. Francis Davis",
           "male",
           0,
           0,
           "13509",
           26.55,
           "E38",
           "S"
          ],
          [
           3,
           "O'Connor, Mr. Maurice",
           "male",
           0,
           0,
           "371060",
           7.75,
           "E12",
           "Q"
          ],
          [
           1,
           "Anderson, Mr. Harry",
           "male",
           0,
           0,
           "19952",
           26.55,
           "E12",
           "S"
          ],
          [
           3,
           "Morley, Mr. William",
           "male",
           0,
           0,
           "364506",
           8.05,
           "E63",
           "S"
          ],
          [
           1,
           "Gee, Mr. Arthur H",
           "male",
           0,
           0,
           "111320",
           38.5,
           "E63",
           "S"
          ],
          [
           2,
           "Milling, Mr. Jacob Christian",
           "male",
           0,
           0,
           "234360",
           13,
           "D",
           "S"
          ],
          [
           3,
           "Maisner, Mr. Simon",
           "male",
           0,
           0,
           "A/S 2816",
           8.05,
           "D",
           "S"
          ],
          [
           3,
           "Goncalves, Mr. Manuel Estanslas",
           "male",
           0,
           0,
           "SOTON/O.Q. 3101306",
           7.05,
           "D",
           "S"
          ],
          [
           2,
           "Campbell, Mr. William",
           "male",
           0,
           0,
           "239853",
           0,
           "D",
           "S"
          ],
          [
           1,
           "Smart, Mr. John Montgomery",
           "male",
           0,
           0,
           "113792",
           26.55,
           "D",
           "S"
          ],
          [
           3,
           "Scanlan, Mr. James",
           "male",
           0,
           0,
           "36209",
           7.725,
           "D",
           "Q"
          ],
          [
           3,
           "Keefe, Mr. Arthur",
           "male",
           0,
           0,
           "323592",
           7.25,
           "D",
           "S"
          ],
          [
           3,
           "Cacic, Mr. Luka",
           "male",
           0,
           0,
           "315089",
           8.6625,
           "D",
           "S"
          ],
          [
           1,
           "Clifford, Mr. George Quincy",
           "male",
           0,
           0,
           "110465",
           52,
           "A14",
           "S"
          ],
          [
           2,
           "Renouf, Mr. Peter Henry",
           "male",
           1,
           0,
           "31027",
           21,
           "B49",
           "S"
          ],
          [
           3,
           "Braund, Mr. Lewis Richard",
           "male",
           1,
           0,
           "3460",
           7.0458,
           "B49",
           "S"
          ],
          [
           3,
           "Karlsson, Mr. Nils August",
           "male",
           0,
           0,
           "350060",
           7.5208,
           "B49",
           "S"
          ],
          [
           2,
           "Frost, Mr. Anthony Wood \"Archie\"",
           "male",
           0,
           0,
           "239854",
           0,
           "B49",
           "S"
          ],
          [
           3,
           "Rouse, Mr. Richard Henry",
           "male",
           0,
           0,
           "A/5 3594",
           8.05,
           "B49",
           "S"
          ],
          [
           1,
           "Bishop, Mr. Dickinson H",
           "male",
           1,
           0,
           "11967",
           91.0792,
           "B49",
           "C"
          ],
          [
           1,
           "Kent, Mr. Edward Austin",
           "male",
           0,
           0,
           "11771",
           29.7,
           "B37",
           "C"
          ],
          [
           3,
           "Somerton, Mr. Francis William",
           "male",
           0,
           0,
           "A.5. 18509",
           8.05,
           "C30",
           "S"
          ],
          [
           3,
           "Hagland, Mr. Konrad Mathias Reiersen",
           "male",
           1,
           0,
           "65304",
           19.9667,
           "C30",
           "S"
          ],
          [
           3,
           "Windelov, Mr. Einar",
           "male",
           0,
           0,
           "SOTON/OQ 3101317",
           7.25,
           "C30",
           "S"
          ],
          [
           1,
           "Molson, Mr. Harry Markland",
           "male",
           0,
           0,
           "113787",
           30.5,
           "C30",
           "S"
          ],
          [
           1,
           "Artagaveytia, Mr. Ramon",
           "male",
           0,
           0,
           "PC 17609",
           49.5042,
           "D20",
           "C"
          ],
          [
           3,
           "Stanley, Mr. Edward Roland",
           "male",
           0,
           0,
           "A/4 45380",
           8.05,
           "D20",
           "S"
          ],
          [
           3,
           "Yousseff, Mr. Gerious",
           "male",
           0,
           0,
           "2627",
           14.4583,
           "D20",
           "C"
          ],
          [
           3,
           "Shellard, Mr. Frederick William",
           "male",
           0,
           0,
           "C.A. 6212",
           15.1,
           "C22 C26",
           "S"
          ],
          [
           3,
           "Svensson, Mr. Olof",
           "male",
           0,
           0,
           "350035",
           7.7958,
           "B79",
           "S"
          ],
          [
           3,
           "Calic, Mr. Petar",
           "male",
           0,
           0,
           "315086",
           8.6625,
           "B79",
           "S"
          ],
          [
           1,
           "Penasco y Castellana, Mr. Victor de Satode",
           "male",
           1,
           0,
           "PC 17758",
           108.9,
           "C65",
           "C"
          ],
          [
           1,
           "Bradley, Mr. George (\"George Arthur Brayton\")",
           "male",
           0,
           0,
           "111427",
           26.55,
           "E25",
           "S"
          ],
          [
           3,
           "Olsen, Mr. Henry Margido",
           "male",
           0,
           0,
           "C 4001",
           22.525,
           "E25",
           "S"
          ],
          [
           3,
           "Lang, Mr. Fang",
           "male",
           0,
           0,
           "1601",
           56.4958,
           "E25",
           "S"
          ],
          [
           3,
           "Daly, Mr. Eugene Patrick",
           "male",
           0,
           0,
           "382651",
           7.75,
           "E25",
           "Q"
          ],
          [
           3,
           "Webber, Mr. James",
           "male",
           0,
           0,
           "SOTON/OQ 3101316",
           8.05,
           "E25",
           "S"
          ],
          [
           1,
           "McGough, Mr. James Robert",
           "male",
           0,
           0,
           "PC 17473",
           26.2875,
           "E25",
           "S"
          ],
          [
           3,
           "Coleff, Mr. Satio",
           "male",
           0,
           0,
           "349209",
           7.4958,
           "D46",
           "S"
          ],
          [
           1,
           "Walker, Mr. William Anderson",
           "male",
           0,
           0,
           "36967",
           34.0208,
           "D46",
           "S"
          ],
          [
           3,
           "Ryan, Mr. Patrick",
           "male",
           0,
           0,
           "371110",
           24.15,
           "B73",
           "Q"
          ],
          [
           3,
           "Pavlovic, Mr. Stefo",
           "male",
           0,
           0,
           "349242",
           7.8958,
           "B73",
           "S"
          ],
          [
           3,
           "Vovk, Mr. Janko",
           "male",
           0,
           0,
           "349252",
           7.8958,
           "B18",
           "S"
          ],
          [
           3,
           "Lahoud, Mr. Sarkis",
           "male",
           0,
           0,
           "2624",
           7.225,
           "B18",
           "C"
          ],
          [
           3,
           "Kassem, Mr. Fared",
           "male",
           0,
           0,
           "2700",
           7.2292,
           "C95",
           "C"
          ],
          [
           3,
           "Farrell, Mr. James",
           "male",
           0,
           0,
           "367232",
           7.75,
           "C95",
           "Q"
          ],
          [
           1,
           "Farthing, Mr. John",
           "male",
           0,
           0,
           "PC 17483",
           221.7792,
           "C95",
           "S"
          ],
          [
           3,
           "Salonen, Mr. Johan Werner",
           "male",
           0,
           0,
           "3101296",
           7.925,
           "B38",
           "S"
          ],
          [
           2,
           "Hocking, Mr. Richard George",
           "male",
           2,
           1,
           "29104",
           11.5,
           "B38",
           "S"
          ],
          [
           3,
           "Toufik, Mr. Nakli",
           "male",
           0,
           0,
           "2641",
           7.2292,
           "B38",
           "C"
          ],
          [
           3,
           "Elias, Mr. Joseph Jr",
           "male",
           1,
           1,
           "2690",
           7.2292,
           "B38",
           "C"
          ],
          [
           1,
           "Butt, Major. Archibald Willingham",
           "male",
           0,
           0,
           "113050",
           26.55,
           "B38",
           "S"
          ],
          [
           3,
           "Risien, Mr. Samuel Beard",
           "male",
           0,
           0,
           "364498",
           14.5,
           "B39",
           "S"
          ],
          [
           2,
           "Beane, Mr. Edward",
           "male",
           1,
           0,
           "2908",
           26,
           "C86",
           "S"
          ],
          [
           1,
           "Douglas, Mr. Walter Donald",
           "male",
           1,
           0,
           "PC 17761",
           106.425,
           "C86",
           "C"
          ],
          [
           1,
           "Nicholson, Mr. Arthur Ernest",
           "male",
           0,
           0,
           "693",
           26,
           "C70",
           "S"
          ],
          [
           2,
           "Padro y Manent, Mr. Julian",
           "male",
           0,
           0,
           "SC/PARIS 2146",
           13.8625,
           "C70",
           "C"
          ],
          [
           3,
           "Goldsmith, Mr. Frank John",
           "male",
           1,
           1,
           "363291",
           20.525,
           "C70",
           "S"
          ],
          [
           1,
           "Thayer, Mr. John Borland Jr",
           "male",
           0,
           2,
           "17421",
           110.8833,
           "C70",
           "C"
          ],
          [
           2,
           "Sharp, Mr. Percival James R",
           "male",
           0,
           0,
           "244358",
           26,
           "A16",
           "S"
          ],
          [
           3,
           "O'Brien, Mr. Timothy",
           "male",
           0,
           0,
           "330979",
           7.8292,
           "A16",
           "Q"
          ],
          [
           3,
           "Leeni, Mr. Fahim (\"Philip Zenni\")",
           "male",
           0,
           0,
           "2620",
           7.225,
           "A16",
           "C"
          ],
          [
           1,
           "Wright, Mr. George",
           "male",
           0,
           0,
           "113807",
           26.55,
           "A16",
           "S"
          ],
          [
           1,
           "Robbins, Mr. Victor",
           "male",
           0,
           0,
           "PC 17757",
           227.525,
           "E67",
           "C"
          ],
          [
           3,
           "Morrow, Mr. Thomas Rowan",
           "male",
           0,
           0,
           "372622",
           7.75,
           "C101",
           "Q"
          ],
          [
           3,
           "Sivic, Mr. Husein",
           "male",
           0,
           0,
           "349251",
           7.8958,
           "C101",
           "S"
          ],
          [
           2,
           "Norman, Mr. Robert Douglas",
           "male",
           0,
           0,
           "218629",
           13.5,
           "C101",
           "S"
          ],
          [
           3,
           "Simmons, Mr. John",
           "male",
           0,
           0,
           "SOTON/OQ 392082",
           8.05,
           "C101",
           "S"
          ],
          [
           3,
           "Davies, Mr. Alfred J",
           "male",
           2,
           0,
           "A/4 48871",
           24.15,
           "C101",
           "S"
          ],
          [
           3,
           "Stoytcheff, Mr. Ilia",
           "male",
           0,
           0,
           "349205",
           7.8958,
           "C101",
           "S"
          ],
          [
           3,
           "Doharr, Mr. Tannous",
           "male",
           0,
           0,
           "2686",
           7.2292,
           "C101",
           "C"
          ],
          [
           3,
           "Jonsson, Mr. Carl",
           "male",
           0,
           0,
           "350417",
           7.8542,
           "C101",
           "S"
          ],
          [
           2,
           "Harris, Mr. George",
           "male",
           0,
           0,
           "S.W./PP 752",
           10.5,
           "C101",
           "S"
          ],
          [
           1,
           "Flynn, Mr. John Irwin (\"Irving\")",
           "male",
           0,
           0,
           "PC 17474",
           26.3875,
           "E25",
           "S"
          ],
          [
           3,
           "Patchett, Mr. George",
           "male",
           0,
           0,
           "358585",
           14.5,
           "E44",
           "S"
          ],
          [
           3,
           "Jussila, Mr. Eiriik",
           "male",
           0,
           0,
           "STON/O 2. 3101286",
           7.925,
           "C68",
           "S"
          ],
          [
           2,
           "Downton, Mr. William James",
           "male",
           0,
           0,
           "28403",
           26,
           "A10",
           "S"
          ],
          [
           1,
           "Ross, Mr. John Hugo",
           "male",
           0,
           0,
           "13049",
           40.125,
           "A10",
           "C"
          ],
          [
           3,
           "Paulner, Mr. Uscher",
           "male",
           0,
           0,
           "3411",
           8.7125,
           "E68",
           "C"
          ],
          [
           2,
           "Jarvis, Mr. John Denzil",
           "male",
           0,
           0,
           "237565",
           15,
           "B41",
           "S"
          ],
          [
           1,
           "Frolicher-Stehli, Mr. Maxmillian",
           "male",
           1,
           1,
           "13567",
           79.2,
           "B41",
           "C"
          ],
          [
           3,
           "Gilinski, Mr. Eliezer",
           "male",
           0,
           0,
           "14973",
           8.05,
           "D20",
           "S"
          ],
          [
           3,
           "Murdlin, Mr. Joseph",
           "male",
           0,
           0,
           "A./5. 3235",
           8.05,
           "D20",
           "S"
          ],
          [
           3,
           "Rintamaki, Mr. Matti",
           "male",
           0,
           0,
           "STON/O 2. 3101273",
           7.125,
           "D20",
           "S"
          ],
          [
           3,
           "Elsbury, Mr. William James",
           "male",
           0,
           0,
           "A/5 3902",
           7.25,
           "A20",
           "S"
          ],
          [
           2,
           "Chapman, Mr. John Henry",
           "male",
           1,
           0,
           "SC/AH 29037",
           26,
           "A20",
           "S"
          ],
          [
           3,
           "Van Impe, Mr. Jean Baptiste",
           "male",
           1,
           1,
           "345773",
           24.15,
           "A20",
           "S"
          ],
          [
           3,
           "Johnson, Mr. Alfred",
           "male",
           0,
           0,
           "LINE",
           0,
           "A20",
           "S"
          ],
          [
           3,
           "Boulos, Mr. Hanna",
           "male",
           0,
           0,
           "2664",
           7.225,
           "A20",
           "C"
          ],
          [
           1,
           "Duff Gordon, Sir. Cosmo Edmund (\"Mr Morgan\")",
           "male",
           1,
           0,
           "PC 17485",
           56.9292,
           "A20",
           "C"
          ],
          [
           3,
           "Slabenoff, Mr. Petco",
           "male",
           0,
           0,
           "349214",
           7.8958,
           "C125",
           "S"
          ],
          [
           1,
           "Harrington, Mr. Charles H",
           "male",
           0,
           0,
           "113796",
           42.4,
           "C125",
           "S"
          ],
          [
           3,
           "Torber, Mr. Ernst William",
           "male",
           0,
           0,
           "364511",
           8.05,
           "C125",
           "S"
          ],
          [
           1,
           "Homer, Mr. Harry (\"Mr E Haven\")",
           "male",
           0,
           0,
           "111426",
           26.55,
           "C125",
           "C"
          ],
          [
           3,
           "Lindell, Mr. Edvard Bengtsson",
           "male",
           1,
           0,
           "349910",
           15.55,
           "C125",
           "S"
          ],
          [
           3,
           "Karaic, Mr. Milan",
           "male",
           0,
           0,
           "349246",
           7.8958,
           "C125",
           "S"
          ],
          [
           1,
           "Daniel, Mr. Robert Williams",
           "male",
           0,
           0,
           "113804",
           30.5,
           "C125",
           "S"
          ],
          [
           3,
           "Jardin, Mr. Jose Neto",
           "male",
           0,
           0,
           "SOTON/O.Q. 3101305",
           7.05,
           "F4",
           "S"
          ],
          [
           3,
           "Horgan, Mr. John",
           "male",
           0,
           0,
           "370377",
           7.75,
           "F4",
           "Q"
          ],
          [
           3,
           "Brocklebank, Mr. William Alfred",
           "male",
           0,
           0,
           "364512",
           8.05,
           "F4",
           "S"
          ],
          [
           3,
           "Danbom, Mr. Ernst Gilbert",
           "male",
           1,
           1,
           "347080",
           14.4,
           "F4",
           "S"
          ],
          [
           2,
           "Gavey, Mr. Lawrence",
           "male",
           0,
           0,
           "31028",
           10.5,
           "D19",
           "S"
          ],
          [
           3,
           "Yasbeck, Mr. Antoni",
           "male",
           1,
           0,
           "2659",
           14.4542,
           "D19",
           "C"
          ],
          [
           1,
           "Kimball, Mr. Edwin Nelson Jr",
           "male",
           1,
           0,
           "11753",
           52.5542,
           "D19",
           "S"
          ],
          [
           3,
           "Nakid, Mr. Sahid",
           "male",
           1,
           1,
           "2653",
           15.7417,
           "D50",
           "C"
          ],
          [
           3,
           "Hansen, Mr. Henry Damsgaard",
           "male",
           0,
           0,
           "350029",
           7.8542,
           "D50",
           "S"
          ],
          [
           3,
           "Bowen, Mr. David John \"Dai\"",
           "male",
           0,
           0,
           "54636",
           16.1,
           "D50",
           "S"
          ],
          [
           1,
           "Sutton, Mr. Frederick",
           "male",
           0,
           0,
           "36963",
           32.3208,
           "D50",
           "S"
          ],
          [
           2,
           "Kirkland, Rev. Charles Leonard",
           "male",
           0,
           0,
           "219533",
           12.35,
           "D9",
           "Q"
          ],
          [
           3,
           "Bostandyeff, Mr. Guentcho",
           "male",
           0,
           0,
           "349224",
           7.8958,
           "A23",
           "S"
          ],
          [
           3,
           "O'Connell, Mr. Patrick D",
           "male",
           0,
           0,
           "334912",
           7.7333,
           "A23",
           "Q"
          ],
          [
           1,
           "Barkworth, Mr. Algernon Henry Wilson",
           "male",
           0,
           0,
           "27042",
           30,
           "A23",
           "S"
          ],
          [
           3,
           "Lundahl, Mr. Johan Svensson",
           "male",
           0,
           0,
           "347743",
           7.0542,
           "B50",
           "S"
          ],
          [
           1,
           "Stahelin-Maeglin, Dr. Max",
           "male",
           0,
           0,
           "13214",
           30.5,
           "B50",
           "C"
          ],
          [
           1,
           "Parr, Mr. William Henry Marsh",
           "male",
           0,
           0,
           "112052",
           0,
           "B35",
           "S"
          ],
          [
           3,
           "Leinonen, Mr. Antti Gustaf",
           "male",
           0,
           0,
           "STON/O 2. 3101292",
           7.925,
           "B35",
           "S"
          ],
          [
           2,
           "Collyer, Mr. Harvey",
           "male",
           1,
           1,
           "C.A. 31921",
           26.25,
           "B35",
           "S"
          ],
          [
           3,
           "Thorneycroft, Mr. Percival",
           "male",
           1,
           0,
           "376564",
           16.1,
           "B35",
           "S"
          ],
          [
           3,
           "Jensen, Mr. Hans Peder",
           "male",
           0,
           0,
           "350050",
           7.8542,
           "B35",
           "S"
          ],
          [
           3,
           "Foo, Mr. Choong",
           "male",
           0,
           0,
           "1601",
           56.4958,
           "D33",
           "S"
          ],
          [
           1,
           "Harper, Mr. Henry Sleeper",
           "male",
           1,
           0,
           "PC 17572",
           76.7292,
           "D33",
           "C"
          ],
          [
           3,
           "Cor, Mr. Liudevit",
           "male",
           0,
           0,
           "349231",
           7.8958,
           "A26",
           "S"
          ],
          [
           1,
           "Simonius-Blumer, Col. Oberst Alfons",
           "male",
           0,
           0,
           "13213",
           35.5,
           "A26",
           "C"
          ],
          [
           3,
           "Willey, Mr. Edward",
           "male",
           0,
           0,
           "S.O./P.P. 751",
           7.55,
           "D48",
           "S"
          ],
          [
           3,
           "Mitkoff, Mr. Mito",
           "male",
           0,
           0,
           "349221",
           7.8958,
           "D48",
           "S"
          ],
          [
           3,
           "Kalvik, Mr. Johannes Halvorsen",
           "male",
           0,
           0,
           "8475",
           8.4333,
           "D48",
           "S"
          ],
          [
           2,
           "Hickman, Mr. Leonard Mark",
           "male",
           2,
           0,
           "S.O.C. 14879",
           73.5,
           "D48",
           "S"
          ],
          [
           3,
           "Radeff, Mr. Alexander",
           "male",
           0,
           0,
           "349223",
           7.8958,
           "D48",
           "S"
          ],
          [
           2,
           "Eitemiller, Mr. George Floyd",
           "male",
           0,
           0,
           "29751",
           13,
           "D48",
           "S"
          ],
          [
           1,
           "Newell, Mr. Arthur Webster",
           "male",
           0,
           2,
           "35273",
           113.275,
           "D48",
           "C"
          ],
          [
           1,
           "Frauenthal, Dr. Henry William",
           "male",
           2,
           0,
           "PC 17611",
           133.65,
           "E58",
           "S"
          ],
          [
           3,
           "Badt, Mr. Mohamed",
           "male",
           0,
           0,
           "2623",
           7.225,
           "E58",
           "C"
          ],
          [
           1,
           "Colley, Mr. Edward Pomeroy",
           "male",
           0,
           0,
           "5727",
           25.5875,
           "E58",
           "S"
          ],
          [
           3,
           "Coleff, Mr. Peju",
           "male",
           0,
           0,
           "349210",
           7.4958,
           "C126",
           "S"
          ],
          [
           3,
           "Lindqvist, Mr. Eino William",
           "male",
           1,
           0,
           "STON/O 2. 3101285",
           7.925,
           "C126",
           "S"
          ],
          [
           2,
           "Hickman, Mr. Lewis",
           "male",
           2,
           0,
           "S.O.C. 14879",
           73.5,
           "C126",
           "S"
          ],
          [
           2,
           "Butler, Mr. Reginald Fenton",
           "male",
           0,
           0,
           "234686",
           13,
           "C126",
           "S"
          ],
          [
           3,
           "Rommetvedt, Mr. Knud Paust",
           "male",
           0,
           0,
           "312993",
           7.775,
           "C126",
           "S"
          ],
          [
           3,
           "Cook, Mr. Jacob",
           "male",
           0,
           0,
           "A/5 3536",
           8.05,
           "C126",
           "S"
          ],
          [
           1,
           "Davidson, Mr. Thornton",
           "male",
           1,
           0,
           "F.C. 12750",
           52,
           "B71",
           "S"
          ],
          [
           2,
           "Mitchell, Mr. Henry Michael",
           "male",
           0,
           0,
           "C.A. 24580",
           10.5,
           "B51 B53 B55",
           "S"
          ],
          [
           2,
           "Wilhelms, Mr. Charles",
           "male",
           0,
           0,
           "244270",
           13,
           "B51 B53 B55",
           "S"
          ],
          [
           2,
           "Watson, Mr. Ennis Hastings",
           "male",
           0,
           0,
           "239856",
           0,
           "B51 B53 B55",
           "S"
          ],
          [
           3,
           "Edvardsson, Mr. Gustaf Hjalmar",
           "male",
           0,
           0,
           "349912",
           7.775,
           "B51 B53 B55",
           "S"
          ],
          [
           3,
           "Sawyer, Mr. Frederick Charles",
           "male",
           0,
           0,
           "342826",
           8.05,
           "B51 B53 B55",
           "S"
          ],
          [
           1,
           "Cardeza, Mr. Thomas Drake Martinez",
           "male",
           0,
           1,
           "PC 17755",
           512.3292,
           "B51 B53 B55",
           "C"
          ],
          [
           1,
           "Hassab, Mr. Hammad",
           "male",
           0,
           0,
           "PC 17572",
           76.7292,
           "D49",
           "C"
          ],
          [
           3,
           "Olsvigen, Mr. Thor Anderson",
           "male",
           0,
           0,
           "6563",
           9.225,
           "B5",
           "S"
          ],
          [
           2,
           "Brown, Mr. Thomas William Solomon",
           "male",
           1,
           1,
           "29750",
           39,
           "B5",
           "S"
          ],
          [
           2,
           "Laroche, Mr. Joseph Philippe Lemercier",
           "male",
           1,
           2,
           "SC/Paris 2123",
           41.5792,
           "B5",
           "C"
          ],
          [
           3,
           "Dakic, Mr. Branko",
           "male",
           0,
           0,
           "349228",
           10.1708,
           "B5",
           "S"
          ],
          [
           3,
           "Fischer, Mr. Eberhard Thelander",
           "male",
           0,
           0,
           "350036",
           7.7958,
           "B5",
           "S"
          ],
          [
           1,
           "Dick, Mr. Albert Adrian",
           "male",
           1,
           0,
           "17474",
           57,
           "B20",
           "S"
          ],
          [
           3,
           "Lam, Mr. Ali",
           "male",
           0,
           0,
           "1601",
           56.4958,
           "C68",
           "S"
          ],
          [
           3,
           "Saad, Mr. Khalil",
           "male",
           0,
           0,
           "2672",
           7.225,
           "C68",
           "C"
          ],
          [
           1,
           "Weir, Col. John",
           "male",
           0,
           0,
           "113800",
           26.55,
           "C68",
           "S"
          ],
          [
           2,
           "Chapman, Mr. Charles Henry",
           "male",
           0,
           0,
           "248731",
           13.5,
           "C68",
           "S"
          ],
          [
           3,
           "Kelly, Mr. James",
           "male",
           0,
           0,
           "363592",
           8.05,
           "C68",
           "S"
          ],
          [
           1,
           "Thayer, Mr. John Borland",
           "male",
           1,
           1,
           "17421",
           110.8833,
           "C68",
           "C"
          ],
          [
           3,
           "Humblen, Mr. Adolf Mathias Nicolai Olsen",
           "male",
           0,
           0,
           "348121",
           7.65,
           "F G63",
           "S"
          ],
          [
           1,
           "Silverthorne, Mr. Spencer Victor",
           "male",
           0,
           0,
           "PC 17475",
           26.2875,
           "E24",
           "S"
          ],
          [
           3,
           "Gallagher, Mr. Martin",
           "male",
           0,
           0,
           "36864",
           7.7417,
           "E24",
           "Q"
          ],
          [
           3,
           "Hansen, Mr. Henrik Juul",
           "male",
           1,
           0,
           "350025",
           7.8542,
           "E24",
           "S"
          ],
          [
           2,
           "Morley, Mr. Henry Samuel (\"Mr Henry Marshall\")",
           "male",
           0,
           0,
           "250655",
           26,
           "E24",
           "S"
          ],
          [
           1,
           "Calderhead, Mr. Edward Pennington",
           "male",
           0,
           0,
           "PC 17476",
           26.2875,
           "E24",
           "S"
          ],
          [
           3,
           "Moubarek, Master. Halim Gonios (\"William George\")",
           "male",
           1,
           1,
           "2661",
           15.2458,
           "C90",
           "C"
          ],
          [
           1,
           "Klaber, Mr. Herman",
           "male",
           0,
           0,
           "113028",
           26.55,
           "C124",
           "S"
          ],
          [
           1,
           "Taylor, Mr. Elmer Zebley",
           "male",
           1,
           0,
           "19996",
           52,
           "C126",
           "S"
          ],
          [
           3,
           "Larsson, Mr. August Viktor",
           "male",
           0,
           0,
           "7545",
           9.4833,
           "F G73",
           "S"
          ],
          [
           2,
           "Greenberg, Mr. Samuel",
           "male",
           0,
           0,
           "250647",
           13,
           "F G73",
           "S"
          ],
          [
           3,
           "Soholt, Mr. Peter Andreas Lauritz Andersen",
           "male",
           0,
           0,
           "348124",
           7.65,
           "F G73",
           "S"
          ],
          [
           3,
           "McEvoy, Mr. Michael",
           "male",
           0,
           0,
           "36568",
           15.5,
           "E8",
           "Q"
          ],
          [
           3,
           "Johnson, Mr. Malkolm Joackim",
           "male",
           0,
           0,
           "347062",
           7.775,
           "E8",
           "S"
          ],
          [
           3,
           "Jensen, Mr. Svend Lauritz",
           "male",
           1,
           0,
           "350048",
           7.0542,
           "E8",
           "S"
          ],
          [
           2,
           "Gillespie, Mr. William Henry",
           "male",
           0,
           0,
           "12233",
           13,
           "E8",
           "S"
          ],
          [
           2,
           "Hodges, Mr. Henry Price",
           "male",
           0,
           0,
           "250643",
           13,
           "E8",
           "S"
          ],
          [
           1,
           "Chambers, Mr. Norman Campbell",
           "male",
           1,
           0,
           "113806",
           53.1,
           "E8",
           "S"
          ],
          [
           3,
           "Oreskovic, Mr. Luka",
           "male",
           0,
           0,
           "315094",
           8.6625,
           "B5",
           "S"
          ],
          [
           2,
           "Bryhl, Mr. Kurt Arnold Gottfrid",
           "male",
           1,
           0,
           "236853",
           26,
           "B5",
           "S"
          ],
          [
           2,
           "Knight, Mr. Robert J",
           "male",
           0,
           0,
           "239855",
           0,
           "B101",
           "S"
          ],
          [
           2,
           "Berriman, Mr. William John",
           "male",
           0,
           0,
           "28425",
           13,
           "B101",
           "S"
          ],
          [
           2,
           "Troupiansky, Mr. Moses Aaron",
           "male",
           0,
           0,
           "233639",
           13,
           "B101",
           "S"
          ],
          [
           3,
           "Williams, Mr. Leslie",
           "male",
           0,
           0,
           "54636",
           16.1,
           "B101",
           "S"
          ],
          [
           1,
           "Lesurer, Mr. Gustave J",
           "male",
           0,
           0,
           "PC 17755",
           512.3292,
           "B101",
           "C"
          ],
          [
           3,
           "Ivanoff, Mr. Kanio",
           "male",
           0,
           0,
           "349201",
           7.8958,
           "D45",
           "S"
          ],
          [
           3,
           "Nankoff, Mr. Minko",
           "male",
           0,
           0,
           "349218",
           7.8958,
           "D45",
           "S"
          ],
          [
           1,
           "Hawksford, Mr. Walter James",
           "male",
           0,
           0,
           "16988",
           30,
           "D45",
           "S"
          ],
          [
           1,
           "Cavendish, Mr. Tyrell William",
           "male",
           1,
           0,
           "19877",
           78.85,
           "C46",
           "S"
          ],
          [
           3,
           "McNamee, Mr. Neal",
           "male",
           1,
           0,
           "376566",
           16.1,
           "B22",
           "S"
          ],
          [
           3,
           "Stranden, Mr. Juho",
           "male",
           0,
           0,
           "STON/O 2. 3101288",
           7.925,
           "B22",
           "S"
          ],
          [
           1,
           "Crosby, Capt. Edward Gifford",
           "male",
           1,
           1,
           "WE/P 5735",
           71,
           "B22",
           "S"
          ],
          [
           1,
           "Marvin, Mr. Daniel Warner",
           "male",
           1,
           0,
           "113773",
           53.1,
           "D30",
           "S"
          ],
          [
           3,
           "Connaghton, Mr. Michael",
           "male",
           0,
           0,
           "335097",
           7.75,
           "E121",
           "Q"
          ],
          [
           3,
           "Vande Velde, Mr. Johannes Joseph",
           "male",
           0,
           0,
           "345780",
           9.5,
           "B77",
           "S"
          ],
          [
           3,
           "Jonkoff, Mr. Lalio",
           "male",
           0,
           0,
           "349204",
           7.8958,
           "B77",
           "S"
          ],
          [
           3,
           "Carlsson, Mr. August Sigfrid",
           "male",
           0,
           0,
           "350042",
           7.7958,
           "B77",
           "S"
          ],
          [
           2,
           "Bailey, Mr. Percy Andrew",
           "male",
           0,
           0,
           "29108",
           11.5,
           "B77",
           "S"
          ],
          [
           3,
           "Theobald, Mr. Thomas Leonard",
           "male",
           0,
           0,
           "363294",
           8.05,
           "B77",
           "S"
          ],
          [
           3,
           "Garfirth, Mr. John",
           "male",
           0,
           0,
           "358585",
           14.5,
           "B96 B98",
           "S"
          ],
          [
           3,
           "Nirva, Mr. Iisakki Antino Aijo",
           "male",
           0,
           0,
           "SOTON/O2 3101272",
           7.125,
           "B96 B98",
           "S"
          ],
          [
           3,
           "Barah, Mr. Hanna Assi",
           "male",
           0,
           0,
           "2663",
           7.2292,
           "B96 B98",
           "C"
          ],
          [
           1,
           "Brewe, Dr. Arthur Jackson",
           "male",
           0,
           0,
           "112379",
           39.6,
           "E77",
           "C"
          ],
          [
           3,
           "Moran, Mr. Daniel J",
           "male",
           1,
           0,
           "371110",
           24.15,
           "E77",
           "Q"
          ],
          [
           3,
           "Gronnestad, Mr. Daniel Danielsen",
           "male",
           0,
           0,
           "8471",
           8.3625,
           "E77",
           "S"
          ],
          [
           3,
           "Lievens, Mr. Rene Aime",
           "male",
           0,
           0,
           "345781",
           9.5,
           "E77",
           "S"
          ],
          [
           3,
           "Jensen, Mr. Niels Peder",
           "male",
           0,
           0,
           "350047",
           7.8542,
           "E77",
           "S"
          ],
          [
           3,
           "Elias, Mr. Dibo",
           "male",
           0,
           0,
           "2674",
           7.225,
           "F38",
           "C"
          ],
          [
           3,
           "Myhrman, Mr. Pehr Fabian Oliver Malkolm",
           "male",
           0,
           0,
           "347078",
           7.75,
           "F38",
           "S"
          ],
          [
           3,
           "Tobin, Mr. Roger",
           "male",
           0,
           0,
           "383121",
           7.75,
           "F38",
           "Q"
          ],
          [
           3,
           "Kilgannon, Mr. Thomas J",
           "male",
           0,
           0,
           "36865",
           7.7375,
           "B3",
           "Q"
          ],
          [
           1,
           "Long, Mr. Milton Clyde",
           "male",
           0,
           0,
           "113501",
           30,
           "D6",
           "S"
          ],
          [
           3,
           "Johnston, Mr. Andrew G",
           "male",
           1,
           2,
           "W./C. 6607",
           23.45,
           "B82 B84",
           "S"
          ],
          [
           3,
           "Ali, Mr. William",
           "male",
           0,
           0,
           "SOTON/O.Q. 3101312",
           7.05,
           "B82 B84",
           "S"
          ],
          [
           3,
           "Harmer, Mr. Abraham (David Lishin)",
           "male",
           0,
           0,
           "374887",
           7.25,
           "B82 B84",
           "S"
          ],
          [
           1,
           "Guggenheim, Mr. Benjamin",
           "male",
           0,
           0,
           "PC 17593",
           79.2,
           "B82 B84",
           "C"
          ],
          [
           3,
           "Keane, Mr. Andrew \"Andy\"",
           "male",
           0,
           0,
           "12460",
           7.75,
           "D17",
           "Q"
          ],
          [
           1,
           "Hoyt, Mr. William Fisher",
           "male",
           0,
           0,
           "PC 17600",
           30.6958,
           "D17",
           "C"
          ],
          [
           3,
           "Dantcheff, Mr. Ristiu",
           "male",
           0,
           0,
           "349203",
           7.8958,
           "D17",
           "S"
          ],
          [
           2,
           "Otter, Mr. Richard",
           "male",
           0,
           0,
           "28213",
           13,
           "D17",
           "S"
          ],
          [
           3,
           "Ibrahim Shawah, Mr. Yousseff",
           "male",
           0,
           0,
           "2685",
           7.2292,
           "B96 B98",
           "C"
          ],
          [
           2,
           "Ponesell, Mr. Martin",
           "male",
           0,
           0,
           "250647",
           13,
           "B96 B98",
           "S"
          ],
          [
           3,
           "Hedman, Mr. Oskar Arvid",
           "male",
           0,
           0,
           "347089",
           6.975,
           "A36",
           "S"
          ],
          [
           3,
           "Johansson, Mr. Karl Johan",
           "male",
           0,
           0,
           "347063",
           7.775,
           "A36",
           "S"
          ],
          [
           1,
           "Andrews, Mr. Thomas Jr",
           "male",
           0,
           0,
           "112050",
           0,
           "A36",
           "S"
          ],
          [
           2,
           "Meyer, Mr. August",
           "male",
           0,
           0,
           "248723",
           13,
           "E8",
           "S"
          ],
          [
           3,
           "Alexander, Mr. William",
           "male",
           0,
           0,
           "3474",
           7.8875,
           "B102",
           "S"
          ],
          [
           3,
           "Lester, Mr. James",
           "male",
           0,
           0,
           "A/4 48871",
           24.15,
           "B102",
           "S"
          ],
          [
           2,
           "Slemen, Mr. Richard James",
           "male",
           0,
           0,
           "28206",
           10.5,
           "B102",
           "S"
          ],
          [
           3,
           "Tomlin, Mr. Ernest Portage",
           "male",
           0,
           0,
           "364499",
           8.05,
           "B102",
           "S"
          ],
          [
           1,
           "Fry, Mr. Richard",
           "male",
           0,
           0,
           "112058",
           0,
           "B102",
           "S"
          ],
          [
           2,
           "Mallet, Mr. Albert",
           "male",
           1,
           1,
           "S.C./PARIS 2079",
           37.0042,
           "B69",
           "C"
          ],
          [
           3,
           "Holm, Mr. John Fredrik Alexander",
           "male",
           0,
           0,
           "C 7075",
           6.45,
           "B69",
           "S"
          ],
          [
           3,
           "Lulic, Mr. Nikola",
           "male",
           0,
           0,
           "315098",
           8.6625,
           "E121",
           "S"
          ],
          [
           1,
           "Reuchlin, Jonkheer. John George",
           "male",
           0,
           0,
           "19972",
           0,
           "E121",
           "S"
          ],
          [
           3,
           "Flynn, Mr. John",
           "male",
           0,
           0,
           "368323",
           6.95,
           "B28",
           "Q"
          ],
          [
           3,
           "Lam, Mr. Len",
           "male",
           0,
           0,
           "1601",
           56.4958,
           "B28",
           "S"
          ],
          [
           3,
           "McCormack, Mr. Thomas Joseph",
           "male",
           0,
           0,
           "367228",
           7.75,
           "B28",
           "Q"
          ],
          [
           3,
           "Saad, Mr. Amin",
           "male",
           0,
           0,
           "2671",
           7.2292,
           "E49",
           "C"
          ],
          [
           3,
           "Augustsson, Mr. Albert",
           "male",
           0,
           0,
           "347468",
           7.8542,
           "E49",
           "S"
          ],
          [
           3,
           "Allum, Mr. Owen George",
           "male",
           0,
           0,
           "2223",
           8.3,
           "E49",
           "S"
          ],
          [
           3,
           "Pasic, Mr. Jakob",
           "male",
           0,
           0,
           "315097",
           8.6625,
           "C47",
           "S"
          ],
          [
           3,
           "Sirota, Mr. Maurice",
           "male",
           0,
           0,
           "392092",
           8.05,
           "C47",
           "S"
          ],
          [
           3,
           "Chip, Mr. Chang",
           "male",
           0,
           0,
           "1601",
           56.4958,
           "C47",
           "S"
          ],
          [
           1,
           "Marechal, Mr. Pierre",
           "male",
           0,
           0,
           "11774",
           29.7,
           "C47",
           "C"
          ],
          [
           3,
           "Alhomaki, Mr. Ilmari Rudolf",
           "male",
           0,
           0,
           "SOTON/O2 3101287",
           7.925,
           "C92",
           "S"
          ],
          [
           3,
           "Lemberopolous, Mr. Peter L",
           "male",
           0,
           0,
           "2683",
           6.4375,
           "C92",
           "C"
          ],
          [
           3,
           "Culumovic, Mr. Jeso",
           "male",
           0,
           0,
           "315090",
           8.6625,
           "C92",
           "S"
          ],
          [
           3,
           "Abbing, Mr. Anthony",
           "male",
           0,
           0,
           "C.A. 5547",
           7.55,
           "C92",
           "S"
          ],
          [
           3,
           "Sage, Mr. Douglas Bullen",
           "male",
           8,
           2,
           "CA. 2343",
           69.55,
           "C92",
           "S"
          ],
          [
           3,
           "Markoff, Mr. Marin",
           "male",
           0,
           0,
           "349213",
           7.8958,
           "C92",
           "C"
          ],
          [
           2,
           "Harper, Rev. John",
           "male",
           0,
           1,
           "248727",
           33,
           "C92",
           "S"
          ],
          [
           3,
           "Svensson, Mr. Johan",
           "male",
           0,
           0,
           "347060",
           7.775,
           "D28",
           "S"
          ],
          [
           1,
           "Daly, Mr. Peter Denis ",
           "male",
           0,
           0,
           "113055",
           26.55,
           "E17",
           "S"
          ],
          [
           3,
           "Razi, Mr. Raihed",
           "male",
           0,
           0,
           "2629",
           7.2292,
           "D17",
           "C"
          ],
          [
           3,
           "Hansen, Mr. Claus Peter",
           "male",
           2,
           0,
           "350026",
           14.1083,
           "D17",
           "S"
          ],
          [
           2,
           "Giles, Mr. Frederick Edward",
           "male",
           1,
           0,
           "28134",
           11.5,
           "D17",
           "S"
          ],
          [
           2,
           "Gill, Mr. John William",
           "male",
           0,
           0,
           "233866",
           13,
           "A24",
           "S"
          ],
          [
           1,
           "Roebling, Mr. Washington Augustus II",
           "male",
           0,
           0,
           "PC 17590",
           50.4958,
           "A24",
           "S"
          ],
          [
           3,
           "van Melkebeke, Mr. Philemon",
           "male",
           0,
           0,
           "345777",
           9.5,
           "D35",
           "S"
          ],
          [
           3,
           "Balkic, Mr. Cerin",
           "male",
           0,
           0,
           "349248",
           7.8958,
           "D35",
           "S"
          ],
          [
           1,
           "Carlsson, Mr. Frans Olof",
           "male",
           0,
           0,
           "695",
           5,
           "B51 B53 B55",
           "S"
          ],
          [
           3,
           "Vander Cruyssen, Mr. Victor",
           "male",
           0,
           0,
           "345765",
           9,
           "C50",
           "S"
          ],
          [
           3,
           "Gustafsson, Mr. Alfred Ossian",
           "male",
           0,
           0,
           "7534",
           9.8458,
           "C50",
           "S"
          ],
          [
           3,
           "Petroff, Mr. Nedelio",
           "male",
           0,
           0,
           "349212",
           7.8958,
           "C50",
           "S"
          ],
          [
           3,
           "Laleff, Mr. Kristo",
           "male",
           0,
           0,
           "349217",
           7.8958,
           "C50",
           "S"
          ],
          [
           3,
           "Markun, Mr. Johann",
           "male",
           0,
           0,
           "349257",
           7.8958,
           "B42",
           "S"
          ],
          [
           2,
           "Banfield, Mr. Frederick James",
           "male",
           0,
           0,
           "C.A./SOTON 34068",
           10.5,
           "B42",
           "S"
          ],
          [
           3,
           "Sutehall, Mr. Henry Jr",
           "male",
           0,
           0,
           "SOTON/OQ 392076",
           7.05,
           "B42",
           "S"
          ],
          [
           2,
           "Montvila, Rev. Juozas",
           "male",
           0,
           0,
           "211536",
           13,
           "B42",
           "S"
          ],
          [
           1,
           "Behr, Mr. Karl Howell",
           "male",
           0,
           0,
           "111369",
           30,
           "C148",
           "C"
          ],
          [
           3,
           "Dooley, Mr. Patrick",
           "male",
           0,
           0,
           "370376",
           7.75,
           "C148",
           "Q"
          ]
         ],
         "hovertemplate": "Sex=%{customdata[2]}<br>Survived=%{x}<br>Age=%{y}<br>Pclass=%{customdata[0]}<br>Name=%{customdata[1]}<br>SibSp=%{customdata[3]}<br>Parch=%{customdata[4]}<br>Ticket=%{customdata[5]}<br>Fare=%{customdata[6]}<br>Cabin=%{customdata[7]}<br>Embarked=%{customdata[8]}<extra></extra>",
         "legendgroup": "male",
         "marker": {
          "color": "#636efa"
         },
         "name": "male",
         "offsetgroup": "male",
         "orientation": "v",
         "points": "all",
         "scalegroup": "True",
         "showlegend": true,
         "type": "violin",
         "x": [
          0,
          0,
          0,
          0,
          0,
          0,
          1,
          0,
          1,
          1,
          0,
          0,
          0,
          0,
          0,
          0,
          0,
          1,
          0,
          0,
          0,
          0,
          0,
          0,
          0,
          1,
          0,
          0,
          0,
          0,
          1,
          0,
          0,
          0,
          0,
          0,
          1,
          0,
          0,
          0,
          0,
          1,
          0,
          0,
          0,
          0,
          0,
          0,
          0,
          0,
          0,
          0,
          1,
          0,
          0,
          0,
          0,
          0,
          0,
          1,
          0,
          0,
          0,
          0,
          0,
          0,
          0,
          0,
          0,
          0,
          0,
          0,
          1,
          0,
          0,
          0,
          0,
          0,
          0,
          0,
          0,
          0,
          0,
          1,
          0,
          0,
          0,
          0,
          0,
          0,
          0,
          0,
          0,
          0,
          0,
          0,
          0,
          0,
          0,
          0,
          0,
          0,
          0,
          0,
          0,
          0,
          0,
          0,
          1,
          0,
          0,
          0,
          0,
          0,
          0,
          0,
          0,
          0,
          1,
          0,
          1,
          1,
          0,
          0,
          0,
          0,
          0,
          0,
          0,
          0,
          0,
          1,
          0,
          1,
          0,
          0,
          0,
          0,
          0,
          0,
          0,
          0,
          0,
          0,
          0,
          0,
          1,
          0,
          0,
          0,
          0,
          0,
          0,
          0,
          0,
          1,
          0,
          1,
          0,
          0,
          0,
          0,
          1,
          0,
          0,
          1,
          0,
          1,
          0,
          0,
          0,
          0,
          1,
          1,
          0,
          0,
          0,
          0,
          0,
          0,
          0,
          0,
          0,
          0,
          0,
          0,
          0,
          0,
          1,
          0,
          0,
          0,
          0,
          0,
          0,
          0,
          0,
          0,
          0,
          0,
          0,
          0,
          0,
          0,
          1,
          0,
          0,
          0,
          0,
          0,
          0,
          0,
          0,
          0,
          0,
          1,
          1,
          0,
          0,
          0,
          0,
          1,
          0,
          0,
          0,
          0,
          0,
          0,
          0,
          0,
          1,
          0,
          0,
          0,
          0,
          0,
          0,
          0,
          1,
          1,
          0,
          0,
          0,
          0,
          0,
          0,
          1,
          1,
          1,
          0,
          0,
          0,
          1,
          0,
          1,
          0,
          0,
          1,
          0,
          0,
          0,
          0,
          0,
          0,
          0,
          0,
          0,
          0,
          0,
          0,
          0,
          0,
          0,
          0,
          1,
          0,
          0,
          0,
          0,
          0,
          0,
          0,
          0,
          0,
          0,
          0,
          0,
          1,
          0,
          1,
          1,
          0,
          1,
          0,
          0,
          0,
          0,
          0,
          0,
          0,
          0,
          0,
          0,
          0,
          0,
          0,
          0,
          0,
          1,
          0,
          0,
          1,
          0,
          1,
          0,
          0,
          1,
          0,
          0,
          0,
          0,
          0,
          0,
          0,
          0,
          0,
          1,
          1,
          1,
          0,
          1,
          0,
          0,
          0,
          0,
          1,
          0,
          0,
          0,
          0,
          0,
          0,
          0,
          0,
          1,
          0,
          0,
          0,
          1,
          0,
          0,
          1,
          0,
          0,
          0,
          0,
          0,
          0,
          1,
          1,
          0,
          0,
          0,
          0,
          0,
          0,
          1,
          0,
          1,
          0,
          0,
          0,
          0,
          0,
          1,
          1,
          0,
          1,
          0,
          0,
          0,
          0,
          0,
          0,
          0,
          1,
          0,
          0,
          0,
          1,
          0,
          0,
          0,
          0,
          0,
          0,
          1,
          0,
          0,
          0,
          1,
          1,
          0,
          0,
          0,
          0,
          0,
          1,
          1,
          0,
          0,
          0,
          0,
          0,
          0,
          1,
          0,
          0,
          0,
          1,
          1,
          0,
          1,
          0,
          0,
          0,
          0,
          0,
          0,
          0,
          0,
          1,
          0,
          0,
          0,
          0,
          0,
          0,
          1,
          0,
          0,
          1,
          0,
          0,
          1,
          0,
          0,
          0,
          0,
          0,
          0,
          0,
          0,
          0,
          0,
          1,
          0,
          0,
          0,
          0,
          0,
          0,
          0,
          0,
          0,
          0,
          0,
          0,
          0,
          0,
          0,
          0,
          0,
          0,
          0,
          0,
          1,
          0,
          0,
          0,
          0,
          0,
          0,
          0,
          0,
          0,
          0,
          1,
          0,
          0,
          0,
          1,
          0,
          0,
          0,
          0,
          0,
          1,
          1,
          0,
          0,
          0,
          0,
          0,
          0,
          0,
          0,
          1,
          0,
          0,
          0,
          0,
          0,
          0,
          0,
          0,
          0,
          0,
          0,
          0,
          0,
          0,
          0,
          0,
          1,
          0
         ],
         "x0": " ",
         "xaxis": "x",
         "y": [
          22,
          35,
          28,
          54,
          20,
          39,
          28,
          35,
          34,
          28,
          28,
          19,
          28,
          40,
          66,
          28,
          42,
          28,
          21,
          28,
          28,
          28,
          28,
          21,
          65,
          28,
          28.5,
          22,
          45,
          28,
          28,
          19,
          26,
          32,
          21,
          26,
          32,
          25,
          28,
          28,
          22,
          29,
          28,
          28,
          24,
          29,
          20,
          46,
          26,
          59,
          28,
          71,
          23,
          34,
          28,
          21,
          33,
          37,
          28,
          28,
          38,
          47,
          22,
          21,
          70.5,
          29,
          24,
          21,
          28,
          32.5,
          54,
          28,
          24,
          45,
          33,
          20,
          25,
          23,
          37,
          24,
          19,
          18,
          19,
          27,
          36.5,
          42,
          51,
          55.5,
          40.5,
          28,
          51,
          30,
          28,
          28,
          44,
          26,
          17,
          28,
          28,
          61,
          21,
          56,
          18,
          28,
          30,
          36,
          28,
          28,
          45,
          40,
          36,
          19,
          28,
          42,
          28,
          28,
          34,
          45.5,
          18,
          32,
          26,
          40,
          24,
          22,
          30,
          28,
          42,
          30,
          27,
          51,
          28,
          38,
          22,
          19,
          20.5,
          18,
          29,
          59,
          24,
          44,
          19,
          33,
          29,
          22,
          30,
          44,
          37,
          54,
          28,
          62,
          30,
          28,
          52,
          40,
          36,
          25,
          28,
          25,
          37,
          28,
          65,
          28,
          19,
          28,
          33,
          30,
          22,
          42,
          36,
          24,
          28,
          23.5,
          28,
          28,
          19,
          28,
          30,
          28,
          43,
          54,
          22,
          27,
          28,
          61,
          45.5,
          38,
          28,
          29,
          45,
          45,
          28,
          25,
          36,
          42,
          23,
          28,
          25,
          28,
          28,
          40,
          29,
          35,
          28,
          30,
          25,
          18,
          19,
          22,
          27,
          20,
          19,
          32,
          28,
          18,
          28,
          36,
          21,
          28,
          22,
          46,
          23,
          39,
          26,
          28,
          34,
          51,
          21,
          28,
          28,
          28,
          44,
          30,
          28,
          21,
          29,
          18,
          28,
          28,
          32,
          28,
          17,
          50,
          64,
          31,
          20,
          25,
          28,
          34,
          52,
          36,
          28,
          30,
          49,
          28,
          29,
          65,
          28,
          48,
          34,
          47,
          48,
          28,
          38,
          28,
          56,
          28,
          28,
          38,
          28,
          34,
          29,
          22,
          28,
          50,
          25,
          58,
          30,
          28,
          21,
          55,
          71,
          21,
          28,
          28,
          24,
          17,
          18,
          28,
          28,
          26,
          29,
          28,
          36,
          24,
          47,
          28,
          32,
          22,
          28,
          28,
          40.5,
          28,
          39,
          23,
          28,
          17,
          45,
          28,
          32,
          50,
          64,
          28,
          33,
          17,
          27,
          28,
          22,
          62,
          28,
          28,
          40,
          28,
          28,
          24,
          19,
          28,
          32,
          62,
          36,
          19,
          32,
          54,
          36,
          28,
          47,
          60,
          22,
          28,
          35,
          47,
          37,
          36,
          49,
          28,
          49,
          28,
          28,
          44,
          35,
          36,
          30,
          27,
          28,
          28,
          35,
          34,
          26,
          27,
          42,
          20,
          21,
          21,
          61,
          57,
          26,
          28,
          80,
          51,
          32,
          28,
          32,
          31,
          28,
          20,
          28,
          48,
          19,
          56,
          28,
          28,
          21,
          24,
          28,
          23,
          58,
          50,
          40,
          47,
          36,
          20,
          32,
          25,
          28,
          43,
          31,
          70,
          31,
          28,
          18,
          24.5,
          36,
          27,
          20,
          60,
          25,
          19,
          18,
          31,
          28,
          25,
          60,
          52,
          44,
          49,
          42,
          35,
          25,
          26,
          39,
          42,
          28,
          28,
          48,
          29,
          52,
          19,
          28,
          33,
          17,
          34,
          50,
          27,
          20,
          25,
          28,
          23,
          23,
          28.5,
          35,
          28,
          28,
          28,
          36,
          24,
          31,
          70,
          19,
          31,
          33,
          23,
          28,
          18,
          34,
          28,
          41,
          20,
          28,
          28,
          32,
          24,
          48,
          28,
          18,
          28,
          28,
          29,
          28,
          25,
          25,
          46,
          28,
          28,
          25,
          39,
          30,
          34,
          27,
          31,
          39,
          39,
          26,
          39,
          35,
          30.5,
          28,
          31,
          43,
          27,
          38,
          28,
          28,
          28,
          28,
          23,
          18,
          21,
          28,
          32,
          28,
          20,
          34.5,
          17,
          42,
          28,
          35,
          28,
          74,
          51,
          28,
          41,
          21,
          24,
          31,
          28,
          26,
          33,
          47,
          20,
          19,
          28,
          33,
          28,
          25,
          27,
          26,
          32
         ],
         "y0": " ",
         "yaxis": "y"
        },
        {
         "alignmentgroup": "True",
         "box": {
          "visible": true
         },
         "customdata": [
          [
           1,
           "Cumings, Mrs. John Bradley (Florence Briggs Thayer)",
           "female",
           1,
           0,
           "PC 17599",
           71.2833,
           "C85",
           "C"
          ],
          [
           3,
           "Heikkinen, Miss. Laina",
           "female",
           0,
           0,
           "STON/O2. 3101282",
           7.925,
           "C123",
           "S"
          ],
          [
           1,
           "Futrelle, Mrs. Jacques Heath (Lily May Peel)",
           "female",
           1,
           0,
           "113803",
           53.1,
           "C123",
           "S"
          ],
          [
           3,
           "Johnson, Mrs. Oscar W (Elisabeth Vilhelmina Berg)",
           "female",
           0,
           2,
           "347742",
           11.1333,
           "G6",
           "S"
          ],
          [
           1,
           "Bonnell, Miss. Elizabeth",
           "female",
           0,
           0,
           "113783",
           26.55,
           "C103",
           "S"
          ],
          [
           2,
           "Hewlett, Mrs. (Mary D Kingcome) ",
           "female",
           0,
           0,
           "248706",
           16,
           "D56",
           "S"
          ],
          [
           3,
           "Vander Planke, Mrs. Julius (Emelia Maria Vandemoortele)",
           "female",
           1,
           0,
           "345763",
           18,
           "D56",
           "S"
          ],
          [
           3,
           "Masselmani, Mrs. Fatima",
           "female",
           0,
           0,
           "2649",
           7.225,
           "D56",
           "C"
          ],
          [
           3,
           "Asplund, Mrs. Carl Oscar (Selma Augusta Emilia Johansson)",
           "female",
           1,
           5,
           "347077",
           31.3875,
           "C23 C25 C27",
           "S"
          ],
          [
           3,
           "O'Dwyer, Miss. Ellen \"Nellie\"",
           "female",
           0,
           0,
           "330959",
           7.8792,
           "B78",
           "Q"
          ],
          [
           1,
           "Spencer, Mrs. William Augustus (Marie Eugenie)",
           "female",
           1,
           0,
           "PC 17569",
           146.5208,
           "B78",
           "C"
          ],
          [
           3,
           "Glynn, Miss. Mary Agatha",
           "female",
           0,
           0,
           "335677",
           7.75,
           "D33",
           "Q"
          ],
          [
           3,
           "Vander Planke, Miss. Augusta Maria",
           "female",
           2,
           0,
           "345764",
           18,
           "D33",
           "S"
          ],
          [
           3,
           "Ahlin, Mrs. Johan (Johanna Persdotter Larsson)",
           "female",
           1,
           0,
           "7546",
           9.475,
           "D33",
           "S"
          ],
          [
           2,
           "Turpin, Mrs. William John Robert (Dorothy Ann Wonnacott)",
           "female",
           1,
           0,
           "11668",
           21,
           "D33",
           "S"
          ],
          [
           3,
           "Devaney, Miss. Margaret Delia",
           "female",
           0,
           0,
           "330958",
           7.8792,
           "D33",
           "Q"
          ],
          [
           3,
           "O'Driscoll, Miss. Bridget",
           "female",
           0,
           0,
           "14311",
           7.75,
           "D33",
           "Q"
          ],
          [
           3,
           "Arnold-Franchi, Mrs. Josef (Josefine Franchi)",
           "female",
           1,
           0,
           "349237",
           17.8,
           "D33",
           "S"
          ],
          [
           1,
           "Harper, Mrs. Henry Sleeper (Myna Haxtun)",
           "female",
           1,
           0,
           "PC 17572",
           76.7292,
           "D33",
           "C"
          ],
          [
           2,
           "Faunthorpe, Mrs. Lizzie (Elizabeth Anne Wilkinson)",
           "female",
           1,
           0,
           "2926",
           26,
           "B30",
           "S"
          ],
          [
           2,
           "Rugg, Miss. Emily",
           "female",
           0,
           0,
           "C.A. 31026",
           10.5,
           "B28",
           "S"
          ],
          [
           1,
           "Icard, Miss. Amelie",
           "female",
           0,
           0,
           "113572",
           80,
           "B28",
           null
          ],
          [
           2,
           "Nye, Mrs. (Elizabeth Ramell)",
           "female",
           0,
           0,
           "C.A. 29395",
           10.5,
           "F33",
           "S"
          ],
          [
           3,
           "Andersson, Miss. Erna Alexandra",
           "female",
           4,
           2,
           "3101281",
           7.925,
           "F G73",
           "S"
          ],
          [
           3,
           "Dowdell, Miss. Elizabeth",
           "female",
           0,
           0,
           "364516",
           12.475,
           "C23 C25 C27",
           "S"
          ],
          [
           3,
           "McDermott, Miss. Brigdet Delia",
           "female",
           0,
           0,
           "330932",
           7.7875,
           "C23 C25 C27",
           "Q"
          ],
          [
           2,
           "Ilett, Miss. Bertha",
           "female",
           0,
           0,
           "SO/C 14885",
           10.5,
           "C23 C25 C27",
           "S"
          ],
          [
           3,
           "Backstrom, Mrs. Karl Alfred (Maria Mathilda Gustafsson)",
           "female",
           3,
           0,
           "3101278",
           15.85,
           "C23 C25 C27",
           "S"
          ],
          [
           1,
           "Fortune, Miss. Mabel Helen",
           "female",
           3,
           2,
           "19950",
           263,
           "C23 C25 C27",
           "S"
          ],
          [
           2,
           "Doling, Mrs. John T (Ada Julia Bone)",
           "female",
           0,
           1,
           "231919",
           23,
           "D26",
           "S"
          ],
          [
           3,
           "Petranec, Miss. Matilda",
           "female",
           0,
           0,
           "349245",
           7.8958,
           "D26",
           "S"
          ],
          [
           3,
           "Salkjelsvik, Miss. Anna Kristine",
           "female",
           0,
           0,
           "343120",
           7.65,
           "C110",
           "S"
          ],
          [
           3,
           "Moran, Miss. Bertha",
           "female",
           1,
           0,
           "371110",
           24.15,
           "C110",
           "Q"
          ],
          [
           3,
           "Jussila, Miss. Katriina",
           "female",
           1,
           0,
           "4136",
           9.825,
           "B58 B60",
           "S"
          ],
          [
           3,
           "Attalah, Miss. Malake",
           "female",
           0,
           0,
           "2627",
           14.4583,
           "B58 B60",
           "C"
          ],
          [
           2,
           "Webber, Miss. Susan",
           "female",
           0,
           0,
           "27267",
           13,
           "E101",
           "S"
          ],
          [
           3,
           "Peter, Miss. Anna",
           "female",
           1,
           1,
           "2668",
           22.3583,
           "F E69",
           "C"
          ],
          [
           3,
           "Robins, Mrs. Alexander A (Grace Charity Laury)",
           "female",
           1,
           0,
           "A/5. 3337",
           14.5,
           "D47",
           "S"
          ],
          [
           2,
           "Weisz, Mrs. Leopold (Mathilde Francoise Pede)",
           "female",
           1,
           0,
           "228414",
           26,
           "D47",
           "S"
          ],
          [
           1,
           "Newsom, Miss. Helen Monypeny",
           "female",
           0,
           2,
           "11752",
           26.2833,
           "D47",
           "S"
          ],
          [
           3,
           "Boulos, Mrs. Joseph (Sultana)",
           "female",
           0,
           2,
           "2678",
           15.2458,
           "F2",
           "C"
          ],
          [
           3,
           "Nysten, Miss. Anna Sofia",
           "female",
           0,
           0,
           "347081",
           7.75,
           "F2",
           "S"
          ],
          [
           3,
           "Hakkarainen, Mrs. Pekka Pietari (Elin Matilda Dolck)",
           "female",
           1,
           0,
           "STON/O2. 3101279",
           15.85,
           "F2",
           "S"
          ],
          [
           1,
           "Pears, Mrs. Thomas (Edith Wearne)",
           "female",
           1,
           0,
           "113776",
           66.6,
           "C2",
           "S"
          ],
          [
           2,
           "Watt, Mrs. James (Elizabeth \"Bessie\" Inglis Milne)",
           "female",
           0,
           0,
           "C.A. 33595",
           15.75,
           "E33",
           "S"
          ],
          [
           1,
           "Chibnall, Mrs. (Edith Martha Bowerman)",
           "female",
           0,
           1,
           "113505",
           55,
           "E33",
           "S"
          ],
          [
           3,
           "Skoog, Mrs. William (Anna Bernhardina Karlsson)",
           "female",
           1,
           4,
           "347088",
           27.9,
           "B19",
           "S"
          ],
          [
           1,
           "Isham, Miss. Ann Elizabeth",
           "female",
           0,
           0,
           "PC 17595",
           28.7125,
           "C49",
           "C"
          ],
          [
           3,
           "Sage, Miss. Constance Gladys",
           "female",
           8,
           2,
           "CA. 2343",
           69.55,
           "F4",
           "S"
          ],
          [
           3,
           "O'Brien, Mrs. Thomas (Johanna \"Hannah\" Godfrey)",
           "female",
           1,
           0,
           "370365",
           15.5,
           "F2",
           "Q"
          ],
          [
           2,
           "Pinsky, Mrs. (Rosa)",
           "female",
           0,
           0,
           "234604",
           13,
           "F2",
           "S"
          ],
          [
           3,
           "Andersen-Jensen, Miss. Carla Christine Nielsine",
           "female",
           1,
           0,
           "350046",
           7.8542,
           "F2",
           "S"
          ],
          [
           1,
           "Brown, Mrs. James Joseph (Margaret Tobin)",
           "female",
           0,
           0,
           "PC 17610",
           27.7208,
           "B4",
           "C"
          ],
          [
           1,
           "Lurette, Miss. Elise",
           "female",
           0,
           0,
           "PC 17569",
           146.5208,
           "B80",
           "C"
          ],
          [
           3,
           "Madigan, Miss. Margaret \"Maggie\"",
           "female",
           0,
           0,
           "370370",
           7.75,
           "G6",
           "Q"
          ],
          [
           2,
           "Yrois, Miss. Henriette (\"Mrs Harbeck\")",
           "female",
           0,
           0,
           "248747",
           13,
           "G6",
           "S"
          ],
          [
           2,
           "Cameron, Miss. Clear Annie",
           "female",
           0,
           0,
           "F.C.C. 13528",
           21,
           "D36",
           "S"
          ],
          [
           1,
           "Newell, Miss. Madeleine",
           "female",
           1,
           0,
           "35273",
           113.275,
           "D36",
           "C"
          ],
          [
           3,
           "Honkanen, Miss. Eliina",
           "female",
           0,
           0,
           "STON/O2. 3101283",
           7.925,
           "D15",
           "S"
          ],
          [
           1,
           "Bazzani, Miss. Albina",
           "female",
           0,
           0,
           "11813",
           76.2917,
           "D15",
           "C"
          ],
          [
           3,
           "Lefebre, Miss. Mathilde",
           "female",
           3,
           1,
           "4133",
           25.4667,
           "C83",
           "S"
          ],
          [
           1,
           "Harris, Mrs. Henry Birkhardt (Irene Wallach)",
           "female",
           1,
           0,
           "36973",
           83.475,
           "C83",
           "S"
          ],
          [
           3,
           "Harknett, Miss. Alice Phoebe",
           "female",
           0,
           0,
           "W./C. 6609",
           7.55,
           "C78",
           "S"
          ],
          [
           3,
           "Zabour, Miss. Thamine",
           "female",
           1,
           0,
           "2665",
           14.4542,
           "C78",
           "C"
          ],
          [
           3,
           "Murphy, Miss. Katherine \"Kate\"",
           "female",
           1,
           0,
           "367230",
           15.5,
           "C78",
           "Q"
          ],
          [
           3,
           "Lindahl, Miss. Agda Thorilda Viktoria",
           "female",
           0,
           0,
           "347071",
           7.775,
           "D35",
           "S"
          ],
          [
           2,
           "Hamalainen, Mrs. William (Anna)",
           "female",
           0,
           2,
           "250649",
           14.5,
           "D35",
           "S"
          ],
          [
           3,
           "Strom, Mrs. Wilhelm (Elna Matilda Persson)",
           "female",
           1,
           1,
           "347054",
           10.4625,
           "G6",
           "S"
          ],
          [
           3,
           "Rosblom, Mrs. Viktor (Helena Wilhelmina)",
           "female",
           0,
           2,
           "370129",
           20.2125,
           "B77",
           "S"
          ],
          [
           3,
           "Touma, Mrs. Darwis (Hanne Youssef Razi)",
           "female",
           0,
           2,
           "2650",
           15.2458,
           "B77",
           "C"
          ],
          [
           1,
           "Thorne, Mrs. Gertrude Maybelle",
           "female",
           0,
           0,
           "PC 17585",
           79.2,
           "B77",
           "C"
          ],
          [
           1,
           "Cherry, Miss. Gladys",
           "female",
           0,
           0,
           "110152",
           86.5,
           "B77",
           "S"
          ],
          [
           1,
           "Ward, Miss. Anna",
           "female",
           0,
           0,
           "PC 17755",
           512.3292,
           "E67",
           "C"
          ],
          [
           2,
           "Parrish, Mrs. (Lutie Davis)",
           "female",
           0,
           1,
           "230433",
           26,
           "E67",
           "S"
          ],
          [
           3,
           "Henry, Miss. Delia",
           "female",
           0,
           0,
           "382649",
           7.75,
           "C125",
           "Q"
          ],
          [
           1,
           "Graham, Mrs. William Thompson (Edith Junkins)",
           "female",
           0,
           1,
           "PC 17582",
           153.4625,
           "C125",
           "S"
          ],
          [
           1,
           "Bissette, Miss. Amelia",
           "female",
           0,
           0,
           "PC 17760",
           135.6333,
           "C99",
           "S"
          ],
          [
           2,
           "Mellinger, Mrs. (Elizabeth Anne Maidment)",
           "female",
           0,
           1,
           "250644",
           19.5,
           "C118",
           "S"
          ],
          [
           3,
           "Healy, Miss. Hanora \"Nora\"",
           "female",
           0,
           0,
           "370375",
           7.75,
           "D7",
           "Q"
          ],
          [
           1,
           "Andrews, Miss. Kornelia Theodosia",
           "female",
           1,
           0,
           "13502",
           77.9583,
           "D7",
           "S"
          ],
          [
           3,
           "Lindblom, Miss. Augusta Charlotta",
           "female",
           0,
           0,
           "347073",
           7.75,
           "A19",
           "S"
          ],
          [
           3,
           "Abbott, Mrs. Stanton (Rosa Hunt)",
           "female",
           1,
           1,
           "C.A. 2673",
           20.25,
           "A19",
           "S"
          ],
          [
           3,
           "Connolly, Miss. Kate",
           "female",
           0,
           0,
           "370373",
           7.75,
           "B49",
           "Q"
          ],
          [
           1,
           "Barber, Miss. Ellen \"Nellie\"",
           "female",
           0,
           0,
           "19877",
           78.85,
           "B49",
           "S"
          ],
          [
           1,
           "Bishop, Mrs. Dickinson H (Helen Walton)",
           "female",
           1,
           0,
           "11967",
           91.0792,
           "B49",
           "C"
          ],
          [
           3,
           "Haas, Miss. Aloisia",
           "female",
           0,
           0,
           "349236",
           8.85,
           "C22 C26",
           "S"
          ],
          [
           1,
           "Baxter, Mrs. James (Helene DeLaudeniere Chaput)",
           "female",
           0,
           1,
           "PC 17558",
           247.5208,
           "B58 B60",
           "C"
          ],
          [
           3,
           "Kelly, Miss. Anna Katherine \"Annie Kate\"",
           "female",
           0,
           0,
           "9234",
           7.75,
           "E101",
           "Q"
          ],
          [
           2,
           "Keane, Miss. Nora A",
           "female",
           0,
           0,
           "226593",
           12.35,
           "E101",
           "Q"
          ],
          [
           1,
           "Fleming, Miss. Margaret",
           "female",
           0,
           0,
           "17421",
           110.8833,
           "C65",
           "C"
          ],
          [
           1,
           "Penasco y Castellana, Mrs. Victor de Satode (Maria Josefa Perez de Soto y Vallejo)",
           "female",
           1,
           0,
           "PC 17758",
           108.9,
           "C65",
           "C"
          ],
          [
           1,
           "Francatelli, Miss. Laura Mabel",
           "female",
           0,
           0,
           "PC 17485",
           56.9292,
           "E36",
           "C"
          ],
          [
           1,
           "Hays, Miss. Margaret Bechstein",
           "female",
           0,
           0,
           "11767",
           83.1583,
           "C54",
           "C"
          ],
          [
           1,
           "Ryerson, Miss. Emily Borie",
           "female",
           2,
           2,
           "PC 17608",
           262.375,
           "B57 B59 B63 B66",
           "C"
          ],
          [
           2,
           "Lahtinen, Mrs. William (Anna Sylfven)",
           "female",
           1,
           1,
           "250651",
           26,
           "C7",
           "S"
          ],
          [
           3,
           "Nilsson, Miss. Helmina Josefina",
           "female",
           0,
           0,
           "347470",
           7.8542,
           "C7",
           "S"
          ],
          [
           2,
           "Kantor, Mrs. Sinai (Miriam Sternin)",
           "female",
           1,
           0,
           "244367",
           26,
           "C7",
           "S"
          ],
          [
           1,
           "Wick, Miss. Mary Natalie",
           "female",
           0,
           2,
           "36928",
           164.8667,
           "C7",
           "S"
          ],
          [
           1,
           "Spedden, Mrs. Frederic Oakley (Margaretta Corning Stone)",
           "female",
           1,
           1,
           "16966",
           134.5,
           "E34",
           "C"
          ],
          [
           2,
           "Slayter, Miss. Hilda Mary",
           "female",
           0,
           0,
           "234818",
           12.35,
           "C32",
           "Q"
          ],
          [
           2,
           "Caldwell, Mrs. Albert Francis (Sylvia Mae Harbaugh)",
           "female",
           1,
           1,
           "248738",
           29,
           "C32",
           "S"
          ],
          [
           1,
           "Young, Miss. Marie Grice",
           "female",
           0,
           0,
           "PC 17760",
           135.6333,
           "C32",
           "C"
          ],
          [
           2,
           "Ball, Mrs. (Ada E Hall)",
           "female",
           0,
           0,
           "28551",
           13,
           "D",
           "S"
          ],
          [
           3,
           "Goldsmith, Mrs. Frank John (Emily Alice Brown)",
           "female",
           1,
           1,
           "363291",
           20.525,
           "B18",
           "S"
          ],
          [
           3,
           "McCoy, Miss. Agnes",
           "female",
           2,
           0,
           "367226",
           23.25,
           "C124",
           "Q"
          ],
          [
           1,
           "Frauenthal, Mrs. Henry William (Clara Heinsheimer)",
           "female",
           1,
           0,
           "PC 17611",
           133.65,
           "C2",
           "S"
          ],
          [
           1,
           "Burns, Miss. Elizabeth Margaret",
           "female",
           0,
           0,
           "16966",
           134.5,
           "E40",
           "C"
          ],
          [
           1,
           "Fortune, Miss. Alice Elizabeth",
           "female",
           3,
           2,
           "19950",
           263,
           "C23 C25 C27",
           "S"
          ],
          [
           2,
           "Brown, Miss. Amelia \"Mildred\"",
           "female",
           0,
           0,
           "248733",
           13,
           "F33",
           "S"
          ],
          [
           2,
           "Smith, Miss. Marion Elsie",
           "female",
           0,
           0,
           "31418",
           13,
           "C128",
           "S"
          ],
          [
           3,
           "Davison, Mrs. Thomas Henry (Mary E Finck)",
           "female",
           1,
           0,
           "386525",
           16.1,
           "C128",
           "S"
          ],
          [
           1,
           "Bowerman, Miss. Elsie Edith",
           "female",
           0,
           1,
           "113505",
           55,
           "E33",
           "S"
          ],
          [
           2,
           "Funk, Miss. Annie Clemmer",
           "female",
           0,
           0,
           "237671",
           13,
           "D37",
           "S"
          ],
          [
           3,
           "McGovern, Miss. Mary",
           "female",
           0,
           0,
           "330931",
           7.8792,
           "D37",
           "Q"
          ],
          [
           3,
           "Mockler, Miss. Helen Mary \"Ellie\"",
           "female",
           0,
           0,
           "330980",
           7.8792,
           "D37",
           "Q"
          ],
          [
           3,
           "Barbara, Mrs. (Catherine David)",
           "female",
           0,
           1,
           "2691",
           14.4542,
           "D37",
           "C"
          ],
          [
           1,
           "Warren, Mrs. Frank Manley (Anna Sophia Atkinson)",
           "female",
           1,
           0,
           "110813",
           75.25,
           "D37",
           "C"
          ],
          [
           3,
           "Moussa, Mrs. (Mantoura Boulos)",
           "female",
           0,
           0,
           "2626",
           7.2292,
           "B35",
           "C"
          ],
          [
           3,
           "Jermyn, Miss. Annie",
           "female",
           0,
           0,
           "14313",
           7.75,
           "B35",
           "Q"
          ],
          [
           1,
           "Aubart, Mme. Leontine Pauline",
           "female",
           0,
           0,
           "PC 17477",
           69.3,
           "B35",
           "C"
          ],
          [
           1,
           "Meyer, Mrs. Edgar Joseph (Leila Saks)",
           "female",
           1,
           0,
           "PC 17604",
           82.1708,
           "C82",
           "C"
          ],
          [
           3,
           "Landergren, Miss. Aurora Adelia",
           "female",
           0,
           0,
           "C 7077",
           7.25,
           "C82",
           "S"
          ],
          [
           1,
           "Bidois, Miss. Rosalie",
           "female",
           0,
           0,
           "PC 17757",
           227.525,
           "B96 B98",
           "C"
          ],
          [
           1,
           "Holverson, Mrs. Alexander Oskar (Mary Aline Towner)",
           "female",
           1,
           0,
           "113789",
           52,
           "B96 B98",
           "S"
          ],
          [
           2,
           "Buss, Miss. Kate",
           "female",
           0,
           0,
           "27849",
           13,
           "B96 B98",
           "S"
          ],
          [
           2,
           "Lehmann, Miss. Bertha",
           "female",
           0,
           0,
           "SC 1748",
           12,
           "B96 B98",
           "C"
          ],
          [
           1,
           "Newell, Miss. Marjorie",
           "female",
           1,
           0,
           "35273",
           113.275,
           "D36",
           "C"
          ],
          [
           3,
           "Sandstrom, Mrs. Hjalmar (Agnes Charlotta Bengtsson)",
           "female",
           0,
           2,
           "PP 9549",
           16.7,
           "G6",
           "S"
          ],
          [
           3,
           "Olsson, Miss. Elina",
           "female",
           0,
           0,
           "350407",
           7.8542,
           "C78",
           "S"
          ],
          [
           2,
           "Trout, Mrs. William H (Jessie L)",
           "female",
           0,
           0,
           "240929",
           12.65,
           "C78",
           "S"
          ],
          [
           3,
           "Jussila, Miss. Mari Aina",
           "female",
           1,
           0,
           "4137",
           9.825,
           "C78",
           "S"
          ],
          [
           3,
           "Oreskovic, Miss. Marija",
           "female",
           0,
           0,
           "315096",
           8.6625,
           "C78",
           "S"
          ],
          [
           3,
           "Lefebre, Miss. Ida",
           "female",
           3,
           1,
           "4133",
           25.4667,
           "C78",
           "S"
          ],
          [
           1,
           "Minahan, Miss. Daisy E",
           "female",
           1,
           0,
           "19928",
           90,
           "C78",
           "Q"
          ],
          [
           3,
           "Meek, Mrs. Thomas (Annie Louise Rowley)",
           "female",
           0,
           0,
           "343095",
           8.05,
           "E10",
           "S"
          ],
          [
           2,
           "Drew, Mrs. James Vivian (Lulu Thorne Christian)",
           "female",
           1,
           1,
           "28220",
           32.5,
           "E10",
           "S"
          ],
          [
           2,
           "Silven, Miss. Lyyli Karoliina",
           "female",
           0,
           2,
           "250652",
           13,
           "E10",
           "S"
          ],
          [
           3,
           "Danbom, Mrs. Ernst Gilbert (Anna Sigrid Maria Brogren)",
           "female",
           1,
           1,
           "347080",
           14.4,
           "E10",
           "S"
          ],
          [
           2,
           "Clarke, Mrs. Charles V (Ada Maria Winfield)",
           "female",
           1,
           0,
           "2003",
           26,
           "E10",
           "S"
          ],
          [
           2,
           "Phillips, Miss. Kate Florence (\"Mrs Kate Louise Phillips Marshall\")",
           "female",
           0,
           0,
           "250655",
           26,
           "E10",
           "S"
          ],
          [
           3,
           "Thorneycroft, Mrs. Percival (Florence Kate White)",
           "female",
           1,
           0,
           "376564",
           16.1,
           "E44",
           "S"
          ],
          [
           2,
           "Louch, Mrs. Charles Alexander (Alice Adelaide Slow)",
           "female",
           1,
           0,
           "SC/AH 3085",
           26,
           "E44",
           "S"
          ],
          [
           3,
           "Ford, Miss. Doolina Margaret \"Daisy\"",
           "female",
           2,
           2,
           "W./C. 6608",
           34.375,
           "C23 C25 C27",
           "S"
          ],
          [
           2,
           "Richards, Mrs. Sidney (Emily Hocking)",
           "female",
           2,
           3,
           "29106",
           18.75,
           "C23 C25 C27",
           "S"
          ],
          [
           2,
           "Hart, Mrs. Benjamin (Esther Ada Bloomfield)",
           "female",
           1,
           1,
           "F.C.C. 13529",
           26.25,
           "A34",
           "S"
          ],
          [
           2,
           "Reynaldo, Ms. Encarnacion",
           "female",
           0,
           0,
           "230434",
           13,
           "A34",
           "S"
          ],
          [
           1,
           "Kenyon, Mrs. Frederick R (Marion)",
           "female",
           1,
           0,
           "17464",
           51.8625,
           "D21",
           "S"
          ],
          [
           2,
           "Toomey, Miss. Ellen",
           "female",
           0,
           0,
           "F.C.C. 13531",
           10.5,
           "E12",
           "S"
          ],
          [
           2,
           "West, Mrs. Edwy Arthur (Ada Mary Worth)",
           "female",
           1,
           2,
           "C.A. 34651",
           27.75,
           "D",
           "S"
          ],
          [
           2,
           "Jerwan, Mrs. Amin S (Marie Marthe Thuillard)",
           "female",
           0,
           0,
           "SC/AH Basle 541",
           13.7917,
           "D",
           "C"
          ],
          [
           3,
           "Strandberg, Miss. Ida Sofia",
           "female",
           0,
           0,
           "7553",
           9.8375,
           "A14",
           "S"
          ],
          [
           3,
           "Turkula, Mrs. (Hedwig)",
           "female",
           0,
           0,
           "4134",
           9.5875,
           "B49",
           "S"
          ],
          [
           3,
           "Lefebre, Miss. Jeannie",
           "female",
           3,
           1,
           "4133",
           25.4667,
           "C93",
           "S"
          ],
          [
           1,
           "Hoyt, Mrs. Frederick Maxfield (Jane Anne Forby)",
           "female",
           1,
           0,
           "19943",
           90,
           "C93",
           "S"
          ],
          [
           1,
           "Eustis, Miss. Elizabeth Mussey",
           "female",
           1,
           0,
           "36947",
           78.2667,
           "D20",
           "C"
          ],
          [
           1,
           "Allison, Mrs. Hudson J C (Bessie Waldo Daniels)",
           "female",
           1,
           2,
           "113781",
           151.55,
           "C22 C26",
           "S"
          ],
          [
           3,
           "Canavan, Miss. Mary",
           "female",
           0,
           0,
           "364846",
           7.75,
           "B79",
           "Q"
          ],
          [
           3,
           "O'Sullivan, Miss. Bridget Mary",
           "female",
           0,
           0,
           "330909",
           7.6292,
           "B79",
           "Q"
          ],
          [
           3,
           "Laitinen, Miss. Kristina Sofia",
           "female",
           0,
           0,
           "4135",
           9.5875,
           "B79",
           "S"
          ],
          [
           2,
           "Quick, Mrs. Frederick Charles (Jane Richards)",
           "female",
           0,
           2,
           "26360",
           26,
           "E25",
           "S"
          ],
          [
           1,
           "Rothschild, Mrs. Martin (Elizabeth L. Barrett)",
           "female",
           1,
           0,
           "PC 17603",
           59.4,
           "D46",
           "C"
          ],
          [
           2,
           "Lemore, Mrs. (Amelia Milley)",
           "female",
           0,
           0,
           "C.A. 34260",
           10.5,
           "F33",
           "S"
          ],
          [
           2,
           "Angle, Mrs. William A (Florence \"Mary\" Agnes Hughes)",
           "female",
           1,
           0,
           "226875",
           26,
           "B73",
           "S"
          ],
          [
           1,
           "Perreault, Miss. Anne",
           "female",
           0,
           0,
           "12749",
           93.5,
           "B73",
           "S"
          ],
          [
           1,
           "Hippach, Mrs. Louis Albert (Ida Sophia Fischer)",
           "female",
           0,
           1,
           "111361",
           57.9792,
           "B18",
           "C"
          ],
          [
           2,
           "Ridsdale, Miss. Lucy",
           "female",
           0,
           0,
           "W./C. 14258",
           10.5,
           "C95",
           "S"
          ],
          [
           3,
           "Peter, Mrs. Catherine (Catherine Rizk)",
           "female",
           0,
           2,
           "2668",
           22.3583,
           "B38",
           "C"
          ],
          [
           3,
           "Cacic, Miss. Marija",
           "female",
           0,
           0,
           "315084",
           8.6625,
           "B38",
           "S"
          ],
          [
           1,
           "LeRoy, Miss. Bertha",
           "female",
           0,
           0,
           "PC 17761",
           106.425,
           "B39",
           "C"
          ],
          [
           1,
           "Frolicher, Miss. Hedwig Margaritha",
           "female",
           0,
           2,
           "13568",
           49.5,
           "B39",
           "C"
          ],
          [
           1,
           "Crosby, Miss. Harriet R",
           "female",
           0,
           2,
           "WE/P 5735",
           71,
           "B22",
           "S"
          ],
          [
           2,
           "Beane, Mrs. Edward (Ethel Clarke)",
           "female",
           1,
           0,
           "2908",
           26,
           "C70",
           "S"
          ],
          [
           3,
           "Ohman, Miss. Velin",
           "female",
           0,
           0,
           "347085",
           7.775,
           "A16",
           "S"
          ],
          [
           1,
           "Duff Gordon, Lady. (Lucille Christiana Sutherland) (\"Mrs Morgan\")",
           "female",
           1,
           0,
           "11755",
           39.6,
           "A16",
           "C"
          ],
          [
           1,
           "Taussig, Mrs. Emil (Tillie Mandelbaum)",
           "female",
           1,
           1,
           "110413",
           79.65,
           "E67",
           "S"
          ],
          [
           3,
           "de Messemaeker, Mrs. Guillaume Joseph (Emma)",
           "female",
           1,
           0,
           "345572",
           17.4,
           "C101",
           "S"
          ],
          [
           3,
           "Meanwell, Miss. (Marion Ogden)",
           "female",
           0,
           0,
           "SOTON/O.Q. 392087",
           8.05,
           "C101",
           "S"
          ],
          [
           3,
           "Palsson, Mrs. Nils (Alma Cornelia Berglund)",
           "female",
           0,
           4,
           "349909",
           21.075,
           "C101",
           "S"
          ],
          [
           1,
           "Appleton, Mrs. Edward Dale (Charlotte Lamson)",
           "female",
           2,
           0,
           "11769",
           51.4792,
           "C101",
           "S"
          ],
          [
           3,
           "Kelly, Miss. Mary",
           "female",
           0,
           0,
           "14312",
           7.75,
           "E44",
           "Q"
          ],
          [
           2,
           "Garside, Miss. Ethel",
           "female",
           0,
           0,
           "243880",
           13,
           "E44",
           "S"
          ],
          [
           1,
           "Silvey, Mrs. William Baird (Alice Munger)",
           "female",
           1,
           0,
           "13507",
           55.9,
           "E44",
           "S"
          ],
          [
           3,
           "Caram, Mrs. Joseph (Maria Elias)",
           "female",
           1,
           0,
           "2689",
           14.4583,
           "C68",
           "C"
          ],
          [
           2,
           "Christy, Miss. Julie Rachel",
           "female",
           1,
           1,
           "237789",
           30,
           "C68",
           "S"
          ],
          [
           1,
           "Thayer, Mrs. John Borland (Marian Longstreth Morris)",
           "female",
           1,
           1,
           "17421",
           110.8833,
           "C68",
           "C"
          ],
          [
           1,
           "Taussig, Miss. Ruth",
           "female",
           0,
           2,
           "110413",
           79.65,
           "E68",
           "S"
          ],
          [
           1,
           "Stephenson, Mrs. Walter Bertram (Martha Eustis)",
           "female",
           1,
           0,
           "36947",
           78.2667,
           "D20",
           "C"
          ],
          [
           3,
           "Bourke, Miss. Mary",
           "female",
           0,
           2,
           "364848",
           7.75,
           "A20",
           "Q"
          ],
          [
           2,
           "Leitch, Miss. Jessie Wills",
           "female",
           0,
           0,
           "248727",
           33,
           "A20",
           "S"
          ],
          [
           2,
           "Jacobsohn, Mrs. Sidney Samuel (Amy Frances Christy)",
           "female",
           2,
           1,
           "243847",
           27,
           "C125",
           "S"
          ],
          [
           2,
           "Laroche, Mrs. Joseph (Juliette Marie Louise Lafargue)",
           "female",
           1,
           2,
           "SC/Paris 2123",
           41.5792,
           "C125",
           "C"
          ],
          [
           1,
           "Shutes, Miss. Elizabeth W",
           "female",
           0,
           0,
           "PC 17582",
           153.4625,
           "C125",
           "S"
          ],
          [
           3,
           "Andersson, Mrs. Anders Johan (Alfrida Konstantia Brogren)",
           "female",
           1,
           5,
           "347082",
           31.275,
           "F4",
           "S"
          ],
          [
           3,
           "Murphy, Miss. Margaret Jane",
           "female",
           1,
           0,
           "367230",
           15.5,
           "F4",
           "Q"
          ],
          [
           2,
           "Herman, Miss. Alice",
           "female",
           1,
           2,
           "220845",
           65,
           "F4",
           "S"
          ],
          [
           3,
           "Lobb, Mrs. William Arthur (Cordelia K Stanlick)",
           "female",
           1,
           0,
           "A/5. 3336",
           16.1,
           "F4",
           "S"
          ],
          [
           1,
           "Longley, Miss. Gretchen Fiske",
           "female",
           0,
           0,
           "13502",
           77.9583,
           "D9",
           "S"
          ],
          [
           2,
           "Davis, Miss. Mary",
           "female",
           0,
           0,
           "237668",
           13,
           "B35",
           "S"
          ],
          [
           3,
           "Panula, Mrs. Juha (Maria Emilia Ojala)",
           "female",
           0,
           5,
           "3101295",
           39.6875,
           "B35",
           "S"
          ],
          [
           1,
           "Sagesser, Mlle. Emma",
           "female",
           0,
           0,
           "PC 17477",
           69.3,
           "B35",
           "C"
          ],
          [
           3,
           "Stanley, Miss. Amy Zillah Elsie",
           "female",
           0,
           0,
           "CA. 2314",
           7.55,
           "D48",
           "S"
          ],
          [
           2,
           "Doling, Miss. Elsie",
           "female",
           0,
           1,
           "231919",
           23,
           "D48",
           "S"
          ],
          [
           3,
           "O'Leary, Miss. Hanora \"Norah\"",
           "female",
           0,
           0,
           "330919",
           7.8292,
           "D48",
           "Q"
          ],
          [
           3,
           "Hegarty, Miss. Hanora \"Nora\"",
           "female",
           0,
           0,
           "365226",
           6.75,
           "D48",
           "Q"
          ],
          [
           3,
           "Bourke, Mrs. John (Catherine)",
           "female",
           1,
           1,
           "364849",
           15.5,
           "D48",
           "Q"
          ],
          [
           1,
           "Taylor, Mrs. Elmer Zebley (Juliet Cummins Wright)",
           "female",
           1,
           0,
           "19996",
           52,
           "C126",
           "S"
          ],
          [
           2,
           "Brown, Mrs. Thomas William Solomon (Elizabeth Catherine Ford)",
           "female",
           1,
           1,
           "29750",
           39,
           "B71",
           "S"
          ],
          [
           3,
           "Turja, Miss. Anna Sofia",
           "female",
           0,
           0,
           "4138",
           9.8417,
           "B51 B53 B55",
           "S"
          ],
          [
           3,
           "Goodwin, Mrs. Frederick (Augusta Tyler)",
           "female",
           1,
           6,
           "CA 2144",
           46.9,
           "B51 B53 B55",
           "S"
          ],
          [
           3,
           "Peters, Miss. Katie",
           "female",
           0,
           0,
           "330935",
           8.1375,
           "D49",
           "Q"
          ],
          [
           3,
           "Mullens, Miss. Katherine \"Katie\"",
           "female",
           0,
           0,
           "35852",
           7.7333,
           "C68",
           "Q"
          ],
          [
           1,
           "Astor, Mrs. John Jacob (Madeleine Talmadge Force)",
           "female",
           1,
           0,
           "PC 17757",
           227.525,
           "C62 C64",
           "C"
          ],
          [
           3,
           "Barbara, Miss. Saiide",
           "female",
           0,
           1,
           "2691",
           14.4542,
           "E24",
           "C"
          ],
          [
           2,
           "Kelly, Mrs. Florence \"Fannie\"",
           "female",
           0,
           0,
           "223596",
           13.5,
           "E24",
           "S"
          ],
          [
           1,
           "Cleaver, Miss. Alice",
           "female",
           0,
           0,
           "113781",
           151.55,
           "C90",
           "S"
          ],
          [
           1,
           "Mayne, Mlle. Berthe Antonine (\"Mrs de Villiers\")",
           "female",
           0,
           0,
           "PC 17482",
           49.5042,
           "C90",
           "C"
          ],
          [
           1,
           "Endres, Miss. Caroline Louise",
           "female",
           0,
           0,
           "PC 17757",
           227.525,
           "C45",
           "C"
          ],
          [
           2,
           "Troutt, Miss. Edwina Celia \"Winnie\"",
           "female",
           0,
           0,
           "34218",
           10.5,
           "E101",
           "S"
          ],
          [
           2,
           "Renouf, Mrs. Peter Henry (Lillian Jefferys)",
           "female",
           3,
           0,
           "31027",
           21,
           "B5",
           "S"
          ],
          [
           3,
           "Mannion, Miss. Margareth",
           "female",
           0,
           0,
           "36866",
           7.7375,
           "B5",
           "Q"
          ],
          [
           3,
           "Ilmakangas, Miss. Pieta Sofia",
           "female",
           1,
           0,
           "STON/O2. 3101271",
           7.925,
           "B5",
           "S"
          ],
          [
           1,
           "Allen, Miss. Elisabeth Walton",
           "female",
           0,
           0,
           "24160",
           211.3375,
           "B5",
           "S"
          ],
          [
           3,
           "Ford, Mrs. Edward (Margaret Ann Watson)",
           "female",
           1,
           3,
           "W./C. 6608",
           34.375,
           "B101",
           "S"
          ],
          [
           1,
           "Ryerson, Miss. Susan Parker \"Suzette\"",
           "female",
           2,
           2,
           "PC 17608",
           262.375,
           "B57 B59 B63 B66",
           "C"
          ],
          [
           2,
           "Sinkkonen, Miss. Anna",
           "female",
           0,
           0,
           "250648",
           13,
           "D30",
           "S"
          ],
          [
           2,
           "Herman, Mrs. Samuel (Jane Laver)",
           "female",
           1,
           2,
           "220845",
           65,
           "B77",
           "S"
          ],
          [
           1,
           "Rothes, the Countess. of (Lucy Noel Martha Dyer-Edwards)",
           "female",
           0,
           0,
           "110152",
           86.5,
           "B77",
           "S"
          ],
          [
           1,
           "Carter, Mrs. William Ernest (Lucile Polk)",
           "female",
           1,
           2,
           "113760",
           120,
           "B96 B98",
           "S"
          ],
          [
           1,
           "Hogeboom, Mrs. John C (Anna Andrews)",
           "female",
           1,
           0,
           "13502",
           77.9583,
           "D11",
           "S"
          ],
          [
           3,
           "Mangan, Miss. Mary",
           "female",
           0,
           0,
           "364850",
           7.75,
           "E77",
           "Q"
          ],
          [
           2,
           "Mack, Mrs. (Mary)",
           "female",
           0,
           0,
           "S.O./P.P. 3",
           10.5,
           "E77",
           "S"
          ],
          [
           2,
           "Hocking, Mrs. Elizabeth (Eliza Needs)",
           "female",
           1,
           3,
           "29105",
           23,
           "F38",
           "S"
          ],
          [
           1,
           "Robert, Mrs. Edward Scott (Elisabeth Walton McMillan)",
           "female",
           0,
           1,
           "24160",
           211.3375,
           "B3",
           "S"
          ],
          [
           1,
           "Dick, Mrs. Albert Adrian (Vera Gillespie)",
           "female",
           1,
           0,
           "17474",
           57,
           "B20",
           "S"
          ],
          [
           3,
           "Sjoblom, Miss. Anna Sofia",
           "female",
           0,
           0,
           "3101265",
           7.4958,
           "B82 B84",
           "S"
          ],
          [
           3,
           "Sage, Miss. Stella Anna",
           "female",
           8,
           2,
           "CA. 2343",
           69.55,
           "D17",
           "S"
          ],
          [
           1,
           "Leader, Dr. Alice (Farnham)",
           "female",
           0,
           0,
           "17465",
           25.9292,
           "D17",
           "S"
          ],
          [
           3,
           "Osman, Mrs. Mara",
           "female",
           0,
           0,
           "349244",
           8.6833,
           "B96 B98",
           "S"
          ],
          [
           3,
           "Van Impe, Mrs. Jean Baptiste (Rosalie Paula Govaert)",
           "female",
           1,
           1,
           "345773",
           24.15,
           "B96 B98",
           "S"
          ],
          [
           2,
           "Collyer, Mrs. Harvey (Charlotte Annie Tate)",
           "female",
           1,
           1,
           "C.A. 31921",
           26.25,
           "B96 B98",
           "S"
          ],
          [
           3,
           "Pettersson, Miss. Ellen Natalia",
           "female",
           0,
           0,
           "347087",
           7.775,
           "E8",
           "S"
          ],
          [
           1,
           "Chambers, Mrs. Norman Campbell (Bertha Griggs)",
           "female",
           1,
           0,
           "113806",
           53.1,
           "E8",
           "S"
          ],
          [
           3,
           "Heininen, Miss. Wendla Maria",
           "female",
           0,
           0,
           "STON/O2. 3101290",
           7.925,
           "B69",
           "S"
          ],
          [
           1,
           "Hays, Mrs. Charles Melville (Clara Jennings Gregg)",
           "female",
           1,
           1,
           "12749",
           93.5,
           "B69",
           "S"
          ],
          [
           3,
           "Moor, Mrs. (Beila)",
           "female",
           0,
           1,
           "392096",
           12.475,
           "E121",
           "S"
          ],
          [
           1,
           "Stone, Mrs. George Nelson (Martha Evelyn)",
           "female",
           0,
           0,
           "113572",
           80,
           "B28",
           null
          ],
          [
           1,
           "Compton, Miss. Sara Rebecca",
           "female",
           1,
           1,
           "PC 17756",
           83.1583,
           "E49",
           "C"
          ],
          [
           1,
           "Serepeca, Miss. Augusta",
           "female",
           0,
           0,
           "113798",
           31,
           "C92",
           "C"
          ],
          [
           1,
           "Goldenberg, Mrs. Samuel L (Edwiga Grabowska)",
           "female",
           1,
           0,
           "17453",
           89.1042,
           "C92",
           "C"
          ],
          [
           2,
           "Carter, Mrs. Ernest Courtenay (Lilian Hughes)",
           "female",
           1,
           0,
           "244252",
           26,
           "E17",
           "S"
          ],
          [
           3,
           "Aks, Mrs. Sam (Leah Rosen)",
           "female",
           0,
           1,
           "392091",
           9.35,
           "E17",
           "S"
          ],
          [
           1,
           "Wick, Mrs. George Dennick (Mary Hitchcock)",
           "female",
           1,
           1,
           "36928",
           164.8667,
           "E17",
           "S"
          ],
          [
           3,
           "Baclini, Mrs. Solomon (Latifa Qurban)",
           "female",
           0,
           3,
           "2666",
           19.2583,
           "D17",
           "C"
          ],
          [
           1,
           "Swift, Mrs. Frederick Joel (Margaret Welles Barron)",
           "female",
           0,
           0,
           "17466",
           25.9292,
           "D17",
           "S"
          ],
          [
           3,
           "Sage, Miss. Dorothy Edith \"Dolly\"",
           "female",
           8,
           2,
           "CA. 2343",
           69.55,
           "A24",
           "S"
          ],
          [
           2,
           "Bystrom, Mrs. (Karolina)",
           "female",
           0,
           0,
           "236852",
           13,
           "A24",
           "S"
          ],
          [
           2,
           "Duran y More, Miss. Asuncion",
           "female",
           1,
           0,
           "SC/PARIS 2149",
           13.8583,
           "A24",
           "C"
          ],
          [
           1,
           "Beckwith, Mrs. Richard Leonard (Sallie Monypeny)",
           "female",
           1,
           1,
           "11751",
           52.5542,
           "D35",
           "S"
          ],
          [
           2,
           "Abelson, Mrs. Samuel (Hannah Wizosky)",
           "female",
           1,
           0,
           "P/PP 3381",
           24,
           "C50",
           "C"
          ],
          [
           1,
           "Potter, Mrs. Thomas Jr (Lily Alexenia Wilson)",
           "female",
           0,
           1,
           "11767",
           83.1583,
           "C50",
           "C"
          ],
          [
           2,
           "Shelley, Mrs. William (Imanita Parrish Hall)",
           "female",
           0,
           1,
           "230433",
           26,
           "B42",
           "S"
          ],
          [
           3,
           "Dahlberg, Miss. Gerda Ulrika",
           "female",
           0,
           0,
           "7552",
           10.5167,
           "B42",
           "S"
          ],
          [
           3,
           "Rice, Mrs. William (Margaret Norton)",
           "female",
           0,
           5,
           "382652",
           29.125,
           "B42",
           "Q"
          ],
          [
           1,
           "Graham, Miss. Margaret Edith",
           "female",
           0,
           0,
           "112053",
           30,
           "B42",
           "S"
          ],
          [
           3,
           "Johnston, Miss. Catherine Helen \"Carrie\"",
           "female",
           1,
           2,
           "W./C. 6607",
           23.45,
           "C148",
           "S"
          ]
         ],
         "hovertemplate": "Sex=%{customdata[2]}<br>Survived=%{x}<br>Age=%{y}<br>Pclass=%{customdata[0]}<br>Name=%{customdata[1]}<br>SibSp=%{customdata[3]}<br>Parch=%{customdata[4]}<br>Ticket=%{customdata[5]}<br>Fare=%{customdata[6]}<br>Cabin=%{customdata[7]}<br>Embarked=%{customdata[8]}<extra></extra>",
         "legendgroup": "female",
         "marker": {
          "color": "#EF553B"
         },
         "name": "female",
         "offsetgroup": "female",
         "orientation": "v",
         "points": "all",
         "scalegroup": "True",
         "showlegend": true,
         "type": "violin",
         "x": [
          1,
          1,
          1,
          1,
          1,
          1,
          0,
          1,
          1,
          1,
          1,
          1,
          0,
          0,
          0,
          1,
          1,
          0,
          1,
          1,
          1,
          1,
          1,
          1,
          1,
          1,
          1,
          1,
          1,
          1,
          0,
          1,
          1,
          0,
          0,
          1,
          1,
          0,
          1,
          1,
          0,
          1,
          1,
          1,
          1,
          1,
          0,
          0,
          0,
          1,
          1,
          1,
          1,
          1,
          1,
          0,
          1,
          1,
          1,
          1,
          0,
          1,
          0,
          0,
          1,
          0,
          1,
          0,
          0,
          1,
          1,
          1,
          1,
          1,
          0,
          1,
          1,
          1,
          1,
          1,
          0,
          1,
          1,
          1,
          1,
          0,
          1,
          1,
          1,
          1,
          1,
          1,
          1,
          1,
          0,
          1,
          1,
          1,
          1,
          1,
          1,
          1,
          1,
          1,
          1,
          1,
          1,
          1,
          1,
          1,
          1,
          1,
          0,
          1,
          1,
          0,
          1,
          1,
          1,
          1,
          1,
          1,
          1,
          1,
          1,
          1,
          1,
          1,
          0,
          1,
          0,
          0,
          0,
          1,
          0,
          1,
          1,
          0,
          1,
          1,
          1,
          1,
          0,
          1,
          1,
          1,
          1,
          1,
          1,
          1,
          0,
          1,
          0,
          1,
          1,
          0,
          0,
          0,
          0,
          1,
          1,
          1,
          1,
          1,
          1,
          1,
          1,
          0,
          1,
          1,
          1,
          1,
          1,
          1,
          1,
          1,
          0,
          0,
          1,
          1,
          1,
          1,
          0,
          1,
          1,
          1,
          1,
          0,
          1,
          1,
          1,
          1,
          0,
          1,
          1,
          0,
          1,
          1,
          0,
          1,
          1,
          1,
          1,
          0,
          0,
          1,
          1,
          1,
          0,
          0,
          1,
          1,
          0,
          1,
          1,
          1,
          1,
          1,
          1,
          1,
          0,
          1,
          0,
          1,
          1,
          1,
          1,
          1,
          1,
          0,
          0,
          1,
          1,
          1,
          1,
          0,
          1,
          1,
          0,
          1,
          0,
          1,
          0,
          1,
          1,
          1,
          1,
          1,
          1,
          0,
          1,
          1,
          1,
          1,
          0,
          1,
          1,
          1,
          1,
          1,
          1,
          0,
          0,
          1,
          0
         ],
         "x0": " ",
         "xaxis": "x",
         "y": [
          38,
          26,
          35,
          27,
          58,
          55,
          31,
          28,
          38,
          28,
          28,
          28,
          18,
          40,
          27,
          19,
          28,
          18,
          49,
          29,
          21,
          38,
          29,
          17,
          30,
          28,
          17,
          33,
          23,
          34,
          28,
          21,
          28,
          20,
          17,
          32.5,
          28,
          47,
          29,
          19,
          28,
          22,
          24,
          22,
          40,
          28,
          45,
          50,
          28,
          28,
          32,
          19,
          44,
          58,
          28,
          24,
          35,
          31,
          27,
          32,
          28,
          35,
          28,
          28,
          28,
          25,
          24,
          29,
          41,
          29,
          28,
          30,
          35,
          50,
          28,
          58,
          35,
          41,
          28,
          63,
          45,
          35,
          22,
          26,
          19,
          24,
          50,
          28,
          28,
          28,
          17,
          30,
          24,
          18,
          26,
          26,
          24,
          31,
          40,
          30,
          22,
          36,
          36,
          31,
          28,
          28,
          41,
          24,
          24,
          40,
          28,
          22,
          38,
          28,
          28,
          45,
          60,
          28,
          28,
          24,
          28,
          22,
          42,
          35,
          36,
          17,
          23,
          24,
          31,
          28,
          21,
          20,
          28,
          33,
          28,
          34,
          18,
          28,
          28,
          19,
          28,
          42,
          21,
          24,
          45,
          28,
          28,
          50,
          33,
          23,
          22,
          63,
          28,
          35,
          54,
          25,
          21,
          28,
          37,
          33,
          54,
          34,
          36,
          30,
          44,
          50,
          28,
          30,
          30,
          22,
          36,
          19,
          22,
          48,
          39,
          36,
          28,
          29,
          53,
          28,
          34,
          39,
          28,
          25,
          39,
          18,
          52,
          28,
          28,
          24,
          22,
          40,
          39,
          28,
          24,
          26,
          21,
          28,
          41,
          24,
          23,
          18,
          28,
          18,
          32,
          28,
          40,
          18,
          43,
          28,
          28,
          18,
          18,
          45,
          22,
          24,
          38,
          27,
          30,
          28,
          25,
          29,
          48,
          21,
          30,
          48,
          33,
          36,
          51,
          30.5,
          57,
          54,
          43,
          17,
          18,
          28,
          49,
          31,
          30,
          31,
          18,
          33,
          23,
          52,
          27,
          62,
          39,
          30,
          28,
          44,
          18,
          45,
          24,
          48,
          28,
          42,
          27,
          47,
          28,
          56,
          25,
          22,
          39,
          19,
          28
         ],
         "y0": " ",
         "yaxis": "y"
        },
        {
         "alignmentgroup": "True",
         "box": {
          "visible": true
         },
         "customdata": [
          [
           3,
           "Palsson, Master. Gosta Leonard",
           "child",
           3,
           1,
           "349909",
           21.075,
           "G6",
           "S"
          ],
          [
           2,
           "Nasser, Mrs. Nicholas (Adele Achem)",
           "child",
           1,
           0,
           "237736",
           30.0708,
           "G6",
           "C"
          ],
          [
           3,
           "Sandstrom, Miss. Marguerite Rut",
           "child",
           1,
           1,
           "PP 9549",
           16.7,
           "G6",
           "S"
          ],
          [
           3,
           "Vestrom, Miss. Hulda Amanda Adolfina",
           "child",
           0,
           0,
           "350406",
           7.8542,
           "D56",
           "S"
          ],
          [
           3,
           "Rice, Master. Eugene",
           "child",
           4,
           1,
           "382652",
           29.125,
           "D56",
           "Q"
          ],
          [
           3,
           "McGowan, Miss. Anna \"Annie\"",
           "child",
           0,
           0,
           "330923",
           8.0292,
           "A6",
           "Q"
          ],
          [
           3,
           "Palsson, Miss. Torborg Danira",
           "child",
           3,
           1,
           "349909",
           21.075,
           "C23 C25 C27",
           "S"
          ],
          [
           3,
           "Nicola-Yarred, Miss. Jamila",
           "child",
           1,
           0,
           "2651",
           11.2417,
           "D33",
           "C"
          ],
          [
           2,
           "Laroche, Miss. Simonne Marie Anne Andree",
           "child",
           1,
           2,
           "SC/Paris 2123",
           41.5792,
           "D33",
           "C"
          ],
          [
           3,
           "Panula, Master. Juha Niilo",
           "child",
           4,
           1,
           "3101295",
           39.6875,
           "D33",
           "S"
          ],
          [
           2,
           "West, Miss. Constance Mirium",
           "child",
           1,
           2,
           "C.A. 34651",
           27.75,
           "B28",
           "S"
          ],
          [
           3,
           "Goodwin, Master. William Frederick",
           "child",
           5,
           2,
           "CA 2144",
           46.9,
           "B28",
           "S"
          ],
          [
           3,
           "Skoog, Master. Harald",
           "child",
           3,
           2,
           "347088",
           27.9,
           "F33",
           "S"
          ],
          [
           3,
           "Goodwin, Miss. Lillian Amy",
           "child",
           5,
           2,
           "CA 2144",
           46.9,
           "F G73",
           "S"
          ],
          [
           2,
           "Caldwell, Master. Alden Gates",
           "child",
           0,
           2,
           "248738",
           29,
           "C23 C25 C27",
           "S"
          ],
          [
           3,
           "Ford, Mr. William Neal",
           "child",
           1,
           3,
           "W./C. 6608",
           34.375,
           "C23 C25 C27",
           "S"
          ],
          [
           3,
           "Zabour, Miss. Hileni",
           "child",
           1,
           0,
           "2665",
           14.4542,
           "B58 B60",
           "C"
          ],
          [
           3,
           "Andersson, Miss. Ellis Anna Maria",
           "child",
           4,
           2,
           "347082",
           31.275,
           "E101",
           "S"
          ],
          [
           3,
           "Nicola-Yarred, Master. Elias",
           "child",
           1,
           0,
           "2651",
           11.2417,
           "F E69",
           "C"
          ],
          [
           3,
           "Osen, Mr. Olaf Elon",
           "child",
           0,
           0,
           "7534",
           9.2167,
           "B86",
           "S"
          ],
          [
           3,
           "Ford, Miss. Robina Maggie \"Ruby\"",
           "child",
           2,
           2,
           "W./C. 6608",
           34.375,
           "F2",
           "S"
          ],
          [
           3,
           "Gilnagh, Miss. Katherine \"Katie\"",
           "child",
           0,
           0,
           "35851",
           7.7333,
           "E33",
           "Q"
          ],
          [
           3,
           "Panula, Master. Eino Viljami",
           "child",
           4,
           1,
           "3101295",
           39.6875,
           "E33",
           "S"
          ],
          [
           3,
           "Goldsmith, Master. Frank John William \"Frankie\"",
           "child",
           0,
           2,
           "363291",
           20.525,
           "E33",
           "S"
          ],
          [
           3,
           "Rice, Master. Arthur",
           "child",
           4,
           1,
           "382652",
           29.125,
           "A7",
           "Q"
          ],
          [
           3,
           "Johnson, Miss. Eleanor Ileen",
           "child",
           1,
           1,
           "347742",
           11.1333,
           "A7",
           "S"
          ],
          [
           3,
           "Asplund, Master. Clarence Gustaf Hugo",
           "child",
           4,
           2,
           "347077",
           31.3875,
           "F4",
           "S"
          ],
          [
           2,
           "Becker, Master. Richard F",
           "child",
           2,
           1,
           "230136",
           39,
           "F4",
           "S"
          ],
          [
           3,
           "Kink-Heilmann, Miss. Luise Gretchen",
           "child",
           0,
           2,
           "315153",
           22.025,
           "A32",
           "S"
          ],
          [
           2,
           "Navratil, Master. Michel M",
           "child",
           1,
           1,
           "230080",
           26,
           "F2",
           "S"
          ],
          [
           3,
           "Strom, Miss. Telma Matilda",
           "child",
           0,
           1,
           "347054",
           10.4625,
           "G6",
           "S"
          ],
          [
           3,
           "Carr, Miss. Helen \"Ellen\"",
           "child",
           0,
           0,
           "367231",
           7.75,
           "A31",
           "Q"
          ],
          [
           3,
           "Sunderland, Mr. Victor Francis",
           "child",
           0,
           0,
           "SOTON/OQ 392089",
           8.05,
           "C93",
           "S"
          ],
          [
           3,
           "Asplund, Miss. Lillian Gertrud",
           "child",
           4,
           2,
           "347077",
           31.3875,
           "C78",
           "S"
          ],
          [
           2,
           "Collyer, Miss. Marjorie \"Lottie\"",
           "child",
           0,
           2,
           "C.A. 31921",
           26.25,
           "C78",
           "S"
          ],
          [
           3,
           "Asplund, Master. Edvin Rojj Felix",
           "child",
           4,
           2,
           "347077",
           31.3875,
           "E67",
           "S"
          ],
          [
           3,
           "Panula, Mr. Ernesti Arvid",
           "child",
           4,
           1,
           "3101295",
           39.6875,
           "C125",
           "S"
          ],
          [
           3,
           "Rice, Master. Eric",
           "child",
           4,
           1,
           "382652",
           29.125,
           "A19",
           "Q"
          ],
          [
           3,
           "de Pelsmaeker, Mr. Alfons",
           "child",
           0,
           0,
           "345778",
           9.5,
           "A19",
           "S"
          ],
          [
           1,
           "Allison, Miss. Helen Loraine",
           "child",
           1,
           2,
           "113781",
           151.55,
           "C22 C26",
           "S"
          ],
          [
           1,
           "Allison, Master. Hudson Trevor",
           "child",
           1,
           2,
           "113781",
           151.55,
           "C22 C26",
           "S"
          ],
          [
           1,
           "Hippach, Miss. Jean Gertrude",
           "child",
           0,
           1,
           "111361",
           57.9792,
           "B18",
           "C"
          ],
          [
           3,
           "Vander Planke, Mr. Leo Edmondus",
           "child",
           2,
           0,
           "345764",
           18,
           "C2",
           "S"
          ],
          [
           2,
           "Navratil, Master. Edmond Roger",
           "child",
           1,
           1,
           "230080",
           26,
           "F2",
           "S"
          ],
          [
           3,
           "Coutts, Master. William Loch \"William\"",
           "child",
           1,
           1,
           "C.A. 37671",
           15.9,
           "C128",
           "S"
          ],
          [
           3,
           "Elias, Mr. Tannous",
           "child",
           1,
           1,
           "2695",
           7.2292,
           "E33",
           "C"
          ],
          [
           3,
           "Palsson, Miss. Stina Viola",
           "child",
           3,
           1,
           "349909",
           21.075,
           "C82",
           "S"
          ],
          [
           3,
           "Nakid, Miss. Maria (\"Mary\")",
           "child",
           0,
           2,
           "2653",
           15.7417,
           "B96 B98",
           "C"
          ],
          [
           3,
           "Goodwin, Master. Sidney Leonard",
           "child",
           5,
           2,
           "CA 2144",
           46.9,
           "B96 B98",
           "S"
          ],
          [
           2,
           "Richards, Master. William Rowe",
           "child",
           1,
           1,
           "29106",
           18.75,
           "C78",
           "S"
          ],
          [
           3,
           "Van Impe, Miss. Catharina",
           "child",
           0,
           2,
           "345773",
           24.15,
           "E10",
           "S"
          ],
          [
           1,
           "Carter, Miss. Lucile Polk",
           "child",
           1,
           2,
           "113760",
           120,
           "B96 B98",
           "S"
          ],
          [
           1,
           "Dodge, Master. Washington",
           "child",
           0,
           2,
           "33638",
           81.8583,
           "A34",
           "S"
          ],
          [
           2,
           "Mellinger, Miss. Madeleine Violet",
           "child",
           0,
           1,
           "250644",
           19.5,
           "C104",
           "S"
          ],
          [
           3,
           "Baclini, Miss. Marie Catherine",
           "child",
           2,
           1,
           "2666",
           19.2583,
           "C104",
           "C"
          ],
          [
           3,
           "Baclini, Miss. Helene Barbara",
           "child",
           2,
           1,
           "2666",
           19.2583,
           "D",
           "C"
          ],
          [
           3,
           "Hirvonen, Miss. Hildur E",
           "child",
           0,
           1,
           "3101298",
           12.2875,
           "B49",
           "S"
          ],
          [
           3,
           "Goodwin, Master. Harold Victor",
           "child",
           5,
           2,
           "CA 2144",
           46.9,
           "B49",
           "S"
          ],
          [
           3,
           "Coutts, Master. Eden Leslie \"Neville\"",
           "child",
           1,
           1,
           "C.A. 37671",
           15.9,
           "C30",
           "S"
          ],
          [
           1,
           "Maioni, Miss. Roberta",
           "child",
           0,
           0,
           "110152",
           86.5,
           "B79",
           "S"
          ],
          [
           2,
           "Quick, Miss. Phyllis May",
           "child",
           1,
           1,
           "26360",
           26,
           "B38",
           "S"
          ],
          [
           2,
           "Hart, Miss. Eva Miriam",
           "child",
           0,
           2,
           "F.C.C. 13529",
           26.25,
           "B38",
           "S"
          ],
          [
           3,
           "Andersson, Miss. Ingeborg Constanzia",
           "child",
           4,
           2,
           "347082",
           31.275,
           "C86",
           "S"
          ],
          [
           3,
           "Andersson, Miss. Sigrid Elisabeth",
           "child",
           4,
           2,
           "347082",
           31.275,
           "C86",
           "S"
          ],
          [
           2,
           "Davies, Master. John Morgan Jr",
           "child",
           1,
           1,
           "C.A. 33112",
           36.75,
           "C70",
           "S"
          ],
          [
           3,
           "Rush, Mr. Alfred George John",
           "child",
           0,
           0,
           "A/4. 20589",
           8.05,
           "E44",
           "S"
          ],
          [
           2,
           "Becker, Miss. Marion Louise",
           "child",
           2,
           1,
           "230136",
           39,
           "F4",
           "S"
          ],
          [
           3,
           "Skoog, Miss. Mabel",
           "child",
           3,
           2,
           "347088",
           27.9,
           "B35",
           "S"
          ],
          [
           3,
           "Skoog, Miss. Margit Elizabeth",
           "child",
           3,
           2,
           "347088",
           27.9,
           "D33",
           "S"
          ],
          [
           3,
           "Baclini, Miss. Eugenie",
           "child",
           2,
           1,
           "2666",
           19.2583,
           "D33",
           "C"
          ],
          [
           3,
           "Goodwin, Mr. Charles Edward",
           "child",
           5,
           2,
           "CA 2144",
           46.9,
           "B5",
           "S"
          ],
          [
           3,
           "Panula, Mr. Jaako Arnold",
           "child",
           4,
           1,
           "3101295",
           39.6875,
           "B5",
           "S"
          ],
          [
           1,
           "Madill, Miss. Georgette Alexandra",
           "child",
           0,
           1,
           "24160",
           211.3375,
           "B5",
           "S"
          ],
          [
           3,
           "Karun, Miss. Manca",
           "child",
           0,
           1,
           "349256",
           13.4167,
           "C68",
           "C"
          ],
          [
           2,
           "Harper, Miss. Annie Jessie \"Nina\"",
           "child",
           0,
           1,
           "248727",
           33,
           "E8",
           "S"
          ],
          [
           3,
           "Hassan, Mr. Houssein G N",
           "child",
           0,
           0,
           "2699",
           18.7875,
           "B101",
           "C"
          ],
          [
           3,
           "Abbott, Mr. Rossmore Edward",
           "child",
           1,
           1,
           "C.A. 2673",
           20.25,
           "D30",
           "S"
          ],
          [
           2,
           "Wells, Miss. Joan",
           "child",
           1,
           1,
           "29103",
           23,
           "E121",
           "S"
          ],
          [
           3,
           "Moor, Master. Meier",
           "child",
           0,
           1,
           "392096",
           12.475,
           "E121",
           "S"
          ],
          [
           2,
           "Hamalainen, Master. Viljo",
           "child",
           1,
           1,
           "250649",
           14.5,
           "B77",
           "S"
          ],
          [
           3,
           "Eklund, Mr. Hans Linus",
           "child",
           0,
           0,
           "347074",
           7.775,
           "D11",
           "S"
          ],
          [
           3,
           "Emanuel, Miss. Virginia Ethel",
           "child",
           0,
           0,
           "364516",
           12.475,
           "B3",
           "S"
          ],
          [
           3,
           "Ayoub, Miss. Banoura",
           "child",
           0,
           0,
           "2687",
           7.2292,
           "B20",
           "C"
          ],
          [
           3,
           "Rice, Master. George Hugh",
           "child",
           4,
           1,
           "382652",
           29.125,
           "B82 B84",
           "Q"
          ],
          [
           3,
           "Dean, Master. Bertram Vere",
           "child",
           1,
           2,
           "C.A. 2315",
           20.575,
           "B82 B84",
           "S"
          ],
          [
           2,
           "Gaskell, Mr. Alfred",
           "child",
           0,
           0,
           "239865",
           26,
           "D17",
           "S"
          ],
          [
           1,
           "Carter, Master. William Thornton II",
           "child",
           1,
           2,
           "113760",
           120,
           "B96 B98",
           "S"
          ],
          [
           3,
           "Thomas, Master. Assad Alexander",
           "child",
           0,
           1,
           "2625",
           8.5167,
           "A36",
           "C"
          ],
          [
           3,
           "Andersson, Miss. Ebba Iris Alfrida",
           "child",
           4,
           2,
           "347082",
           31.275,
           "B102",
           "S"
          ],
          [
           3,
           "Skoog, Master. Karl Thorsten",
           "child",
           3,
           2,
           "347088",
           27.9,
           "B69",
           "S"
          ],
          [
           3,
           "Panula, Master. Urho Abraham",
           "child",
           4,
           1,
           "3101295",
           39.6875,
           "B28",
           "S"
          ],
          [
           2,
           "Mallet, Master. Andre",
           "child",
           0,
           2,
           "S.C./PARIS 2079",
           37.0042,
           "B28",
           "C"
          ],
          [
           3,
           "Yasbeck, Mrs. Antoni (Selini Alexander)",
           "child",
           1,
           0,
           "2659",
           14.4542,
           "E49",
           "C"
          ],
          [
           2,
           "Richards, Master. George Sibley",
           "child",
           1,
           1,
           "29106",
           18.75,
           "E49",
           "S"
          ],
          [
           2,
           "Mudd, Mr. Thomas Charles",
           "child",
           0,
           0,
           "S.O./P.P. 3",
           10.5,
           "C92",
           "S"
          ],
          [
           3,
           "Andersson, Master. Sigvard Harald Elias",
           "child",
           4,
           2,
           "347082",
           31.275,
           "D28",
           "S"
          ],
          [
           3,
           "Boulos, Miss. Nourelain",
           "child",
           1,
           1,
           "2678",
           15.2458,
           "D28",
           "C"
          ],
          [
           1,
           "Lines, Miss. Mary Conover",
           "child",
           0,
           1,
           "PC 17592",
           39.4,
           "D28",
           "S"
          ],
          [
           3,
           "Johnson, Master. Harold Theodor",
           "child",
           1,
           1,
           "347742",
           11.1333,
           "D35",
           "S"
          ],
          [
           3,
           "Najib, Miss. Adele Kiamie \"Jane\"",
           "child",
           0,
           0,
           "2667",
           7.225,
           "C50",
           "C"
          ]
         ],
         "hovertemplate": "Sex=%{customdata[2]}<br>Survived=%{x}<br>Age=%{y}<br>Pclass=%{customdata[0]}<br>Name=%{customdata[1]}<br>SibSp=%{customdata[3]}<br>Parch=%{customdata[4]}<br>Ticket=%{customdata[5]}<br>Fare=%{customdata[6]}<br>Cabin=%{customdata[7]}<br>Embarked=%{customdata[8]}<extra></extra>",
         "legendgroup": "child",
         "marker": {
          "color": "#00cc96"
         },
         "name": "child",
         "offsetgroup": "child",
         "orientation": "v",
         "points": "all",
         "scalegroup": "True",
         "showlegend": true,
         "type": "violin",
         "x": [
          0,
          1,
          1,
          0,
          0,
          1,
          0,
          1,
          1,
          0,
          1,
          0,
          0,
          0,
          1,
          0,
          0,
          0,
          1,
          0,
          0,
          1,
          0,
          1,
          0,
          1,
          0,
          1,
          1,
          1,
          0,
          1,
          1,
          1,
          1,
          1,
          0,
          0,
          0,
          0,
          1,
          1,
          0,
          1,
          1,
          0,
          0,
          1,
          0,
          1,
          0,
          1,
          1,
          1,
          1,
          1,
          1,
          0,
          1,
          1,
          1,
          1,
          0,
          0,
          1,
          0,
          1,
          0,
          0,
          1,
          0,
          0,
          1,
          1,
          1,
          0,
          0,
          1,
          1,
          1,
          0,
          1,
          1,
          0,
          1,
          0,
          1,
          1,
          0,
          0,
          0,
          1,
          1,
          1,
          0,
          0,
          0,
          1,
          1,
          1
         ],
         "x0": " ",
         "xaxis": "x",
         "y": [
          2,
          14,
          4,
          14,
          2,
          15,
          8,
          14,
          3,
          7,
          5,
          11,
          4,
          16,
          0.83,
          16,
          14.5,
          2,
          12,
          16,
          9,
          16,
          1,
          9,
          4,
          1,
          9,
          1,
          4,
          3,
          2,
          16,
          16,
          5,
          8,
          3,
          16,
          7,
          16,
          2,
          0.92,
          16,
          16,
          2,
          3,
          15,
          3,
          1,
          1,
          3,
          10,
          14,
          4,
          13,
          5,
          0.75,
          2,
          9,
          9,
          16,
          2,
          7,
          9,
          11,
          8,
          16,
          4,
          9,
          2,
          0.75,
          14,
          14,
          15,
          4,
          6,
          11,
          16,
          4,
          6,
          0.67,
          16,
          5,
          13,
          8,
          1,
          16,
          11,
          0.42,
          6,
          10,
          2,
          1,
          15,
          0.83,
          16,
          4,
          9,
          16,
          4,
          15
         ],
         "y0": " ",
         "yaxis": "y"
        }
       ],
       "layout": {
        "legend": {
         "title": {
          "text": "Sex"
         },
         "tracegroupgap": 0
        },
        "margin": {
         "t": 60
        },
        "template": {
         "data": {
          "bar": [
           {
            "error_x": {
             "color": "#f2f5fa"
            },
            "error_y": {
             "color": "#f2f5fa"
            },
            "marker": {
             "line": {
              "color": "rgb(17,17,17)",
              "width": 0.5
             },
             "pattern": {
              "fillmode": "overlay",
              "size": 10,
              "solidity": 0.2
             }
            },
            "type": "bar"
           }
          ],
          "barpolar": [
           {
            "marker": {
             "line": {
              "color": "rgb(17,17,17)",
              "width": 0.5
             },
             "pattern": {
              "fillmode": "overlay",
              "size": 10,
              "solidity": 0.2
             }
            },
            "type": "barpolar"
           }
          ],
          "carpet": [
           {
            "aaxis": {
             "endlinecolor": "#A2B1C6",
             "gridcolor": "#506784",
             "linecolor": "#506784",
             "minorgridcolor": "#506784",
             "startlinecolor": "#A2B1C6"
            },
            "baxis": {
             "endlinecolor": "#A2B1C6",
             "gridcolor": "#506784",
             "linecolor": "#506784",
             "minorgridcolor": "#506784",
             "startlinecolor": "#A2B1C6"
            },
            "type": "carpet"
           }
          ],
          "choropleth": [
           {
            "colorbar": {
             "outlinewidth": 0,
             "ticks": ""
            },
            "type": "choropleth"
           }
          ],
          "contour": [
           {
            "colorbar": {
             "outlinewidth": 0,
             "ticks": ""
            },
            "colorscale": [
             [
              0,
              "#0d0887"
             ],
             [
              0.1111111111111111,
              "#46039f"
             ],
             [
              0.2222222222222222,
              "#7201a8"
             ],
             [
              0.3333333333333333,
              "#9c179e"
             ],
             [
              0.4444444444444444,
              "#bd3786"
             ],
             [
              0.5555555555555556,
              "#d8576b"
             ],
             [
              0.6666666666666666,
              "#ed7953"
             ],
             [
              0.7777777777777778,
              "#fb9f3a"
             ],
             [
              0.8888888888888888,
              "#fdca26"
             ],
             [
              1,
              "#f0f921"
             ]
            ],
            "type": "contour"
           }
          ],
          "contourcarpet": [
           {
            "colorbar": {
             "outlinewidth": 0,
             "ticks": ""
            },
            "type": "contourcarpet"
           }
          ],
          "heatmap": [
           {
            "colorbar": {
             "outlinewidth": 0,
             "ticks": ""
            },
            "colorscale": [
             [
              0,
              "#0d0887"
             ],
             [
              0.1111111111111111,
              "#46039f"
             ],
             [
              0.2222222222222222,
              "#7201a8"
             ],
             [
              0.3333333333333333,
              "#9c179e"
             ],
             [
              0.4444444444444444,
              "#bd3786"
             ],
             [
              0.5555555555555556,
              "#d8576b"
             ],
             [
              0.6666666666666666,
              "#ed7953"
             ],
             [
              0.7777777777777778,
              "#fb9f3a"
             ],
             [
              0.8888888888888888,
              "#fdca26"
             ],
             [
              1,
              "#f0f921"
             ]
            ],
            "type": "heatmap"
           }
          ],
          "heatmapgl": [
           {
            "colorbar": {
             "outlinewidth": 0,
             "ticks": ""
            },
            "colorscale": [
             [
              0,
              "#0d0887"
             ],
             [
              0.1111111111111111,
              "#46039f"
             ],
             [
              0.2222222222222222,
              "#7201a8"
             ],
             [
              0.3333333333333333,
              "#9c179e"
             ],
             [
              0.4444444444444444,
              "#bd3786"
             ],
             [
              0.5555555555555556,
              "#d8576b"
             ],
             [
              0.6666666666666666,
              "#ed7953"
             ],
             [
              0.7777777777777778,
              "#fb9f3a"
             ],
             [
              0.8888888888888888,
              "#fdca26"
             ],
             [
              1,
              "#f0f921"
             ]
            ],
            "type": "heatmapgl"
           }
          ],
          "histogram": [
           {
            "marker": {
             "pattern": {
              "fillmode": "overlay",
              "size": 10,
              "solidity": 0.2
             }
            },
            "type": "histogram"
           }
          ],
          "histogram2d": [
           {
            "colorbar": {
             "outlinewidth": 0,
             "ticks": ""
            },
            "colorscale": [
             [
              0,
              "#0d0887"
             ],
             [
              0.1111111111111111,
              "#46039f"
             ],
             [
              0.2222222222222222,
              "#7201a8"
             ],
             [
              0.3333333333333333,
              "#9c179e"
             ],
             [
              0.4444444444444444,
              "#bd3786"
             ],
             [
              0.5555555555555556,
              "#d8576b"
             ],
             [
              0.6666666666666666,
              "#ed7953"
             ],
             [
              0.7777777777777778,
              "#fb9f3a"
             ],
             [
              0.8888888888888888,
              "#fdca26"
             ],
             [
              1,
              "#f0f921"
             ]
            ],
            "type": "histogram2d"
           }
          ],
          "histogram2dcontour": [
           {
            "colorbar": {
             "outlinewidth": 0,
             "ticks": ""
            },
            "colorscale": [
             [
              0,
              "#0d0887"
             ],
             [
              0.1111111111111111,
              "#46039f"
             ],
             [
              0.2222222222222222,
              "#7201a8"
             ],
             [
              0.3333333333333333,
              "#9c179e"
             ],
             [
              0.4444444444444444,
              "#bd3786"
             ],
             [
              0.5555555555555556,
              "#d8576b"
             ],
             [
              0.6666666666666666,
              "#ed7953"
             ],
             [
              0.7777777777777778,
              "#fb9f3a"
             ],
             [
              0.8888888888888888,
              "#fdca26"
             ],
             [
              1,
              "#f0f921"
             ]
            ],
            "type": "histogram2dcontour"
           }
          ],
          "mesh3d": [
           {
            "colorbar": {
             "outlinewidth": 0,
             "ticks": ""
            },
            "type": "mesh3d"
           }
          ],
          "parcoords": [
           {
            "line": {
             "colorbar": {
              "outlinewidth": 0,
              "ticks": ""
             }
            },
            "type": "parcoords"
           }
          ],
          "pie": [
           {
            "automargin": true,
            "type": "pie"
           }
          ],
          "scatter": [
           {
            "marker": {
             "line": {
              "color": "#283442"
             }
            },
            "type": "scatter"
           }
          ],
          "scatter3d": [
           {
            "line": {
             "colorbar": {
              "outlinewidth": 0,
              "ticks": ""
             }
            },
            "marker": {
             "colorbar": {
              "outlinewidth": 0,
              "ticks": ""
             }
            },
            "type": "scatter3d"
           }
          ],
          "scattercarpet": [
           {
            "marker": {
             "colorbar": {
              "outlinewidth": 0,
              "ticks": ""
             }
            },
            "type": "scattercarpet"
           }
          ],
          "scattergeo": [
           {
            "marker": {
             "colorbar": {
              "outlinewidth": 0,
              "ticks": ""
             }
            },
            "type": "scattergeo"
           }
          ],
          "scattergl": [
           {
            "marker": {
             "line": {
              "color": "#283442"
             }
            },
            "type": "scattergl"
           }
          ],
          "scattermapbox": [
           {
            "marker": {
             "colorbar": {
              "outlinewidth": 0,
              "ticks": ""
             }
            },
            "type": "scattermapbox"
           }
          ],
          "scatterpolar": [
           {
            "marker": {
             "colorbar": {
              "outlinewidth": 0,
              "ticks": ""
             }
            },
            "type": "scatterpolar"
           }
          ],
          "scatterpolargl": [
           {
            "marker": {
             "colorbar": {
              "outlinewidth": 0,
              "ticks": ""
             }
            },
            "type": "scatterpolargl"
           }
          ],
          "scatterternary": [
           {
            "marker": {
             "colorbar": {
              "outlinewidth": 0,
              "ticks": ""
             }
            },
            "type": "scatterternary"
           }
          ],
          "surface": [
           {
            "colorbar": {
             "outlinewidth": 0,
             "ticks": ""
            },
            "colorscale": [
             [
              0,
              "#0d0887"
             ],
             [
              0.1111111111111111,
              "#46039f"
             ],
             [
              0.2222222222222222,
              "#7201a8"
             ],
             [
              0.3333333333333333,
              "#9c179e"
             ],
             [
              0.4444444444444444,
              "#bd3786"
             ],
             [
              0.5555555555555556,
              "#d8576b"
             ],
             [
              0.6666666666666666,
              "#ed7953"
             ],
             [
              0.7777777777777778,
              "#fb9f3a"
             ],
             [
              0.8888888888888888,
              "#fdca26"
             ],
             [
              1,
              "#f0f921"
             ]
            ],
            "type": "surface"
           }
          ],
          "table": [
           {
            "cells": {
             "fill": {
              "color": "#506784"
             },
             "line": {
              "color": "rgb(17,17,17)"
             }
            },
            "header": {
             "fill": {
              "color": "#2a3f5f"
             },
             "line": {
              "color": "rgb(17,17,17)"
             }
            },
            "type": "table"
           }
          ]
         },
         "layout": {
          "annotationdefaults": {
           "arrowcolor": "#f2f5fa",
           "arrowhead": 0,
           "arrowwidth": 1
          },
          "autotypenumbers": "strict",
          "coloraxis": {
           "colorbar": {
            "outlinewidth": 0,
            "ticks": ""
           }
          },
          "colorscale": {
           "diverging": [
            [
             0,
             "#8e0152"
            ],
            [
             0.1,
             "#c51b7d"
            ],
            [
             0.2,
             "#de77ae"
            ],
            [
             0.3,
             "#f1b6da"
            ],
            [
             0.4,
             "#fde0ef"
            ],
            [
             0.5,
             "#f7f7f7"
            ],
            [
             0.6,
             "#e6f5d0"
            ],
            [
             0.7,
             "#b8e186"
            ],
            [
             0.8,
             "#7fbc41"
            ],
            [
             0.9,
             "#4d9221"
            ],
            [
             1,
             "#276419"
            ]
           ],
           "sequential": [
            [
             0,
             "#0d0887"
            ],
            [
             0.1111111111111111,
             "#46039f"
            ],
            [
             0.2222222222222222,
             "#7201a8"
            ],
            [
             0.3333333333333333,
             "#9c179e"
            ],
            [
             0.4444444444444444,
             "#bd3786"
            ],
            [
             0.5555555555555556,
             "#d8576b"
            ],
            [
             0.6666666666666666,
             "#ed7953"
            ],
            [
             0.7777777777777778,
             "#fb9f3a"
            ],
            [
             0.8888888888888888,
             "#fdca26"
            ],
            [
             1,
             "#f0f921"
            ]
           ],
           "sequentialminus": [
            [
             0,
             "#0d0887"
            ],
            [
             0.1111111111111111,
             "#46039f"
            ],
            [
             0.2222222222222222,
             "#7201a8"
            ],
            [
             0.3333333333333333,
             "#9c179e"
            ],
            [
             0.4444444444444444,
             "#bd3786"
            ],
            [
             0.5555555555555556,
             "#d8576b"
            ],
            [
             0.6666666666666666,
             "#ed7953"
            ],
            [
             0.7777777777777778,
             "#fb9f3a"
            ],
            [
             0.8888888888888888,
             "#fdca26"
            ],
            [
             1,
             "#f0f921"
            ]
           ]
          },
          "colorway": [
           "#636efa",
           "#EF553B",
           "#00cc96",
           "#ab63fa",
           "#FFA15A",
           "#19d3f3",
           "#FF6692",
           "#B6E880",
           "#FF97FF",
           "#FECB52"
          ],
          "font": {
           "color": "#f2f5fa"
          },
          "geo": {
           "bgcolor": "rgb(17,17,17)",
           "lakecolor": "rgb(17,17,17)",
           "landcolor": "rgb(17,17,17)",
           "showlakes": true,
           "showland": true,
           "subunitcolor": "#506784"
          },
          "hoverlabel": {
           "align": "left"
          },
          "hovermode": "closest",
          "mapbox": {
           "style": "dark"
          },
          "paper_bgcolor": "rgb(17,17,17)",
          "plot_bgcolor": "rgb(17,17,17)",
          "polar": {
           "angularaxis": {
            "gridcolor": "#506784",
            "linecolor": "#506784",
            "ticks": ""
           },
           "bgcolor": "rgb(17,17,17)",
           "radialaxis": {
            "gridcolor": "#506784",
            "linecolor": "#506784",
            "ticks": ""
           }
          },
          "scene": {
           "xaxis": {
            "backgroundcolor": "rgb(17,17,17)",
            "gridcolor": "#506784",
            "gridwidth": 2,
            "linecolor": "#506784",
            "showbackground": true,
            "ticks": "",
            "zerolinecolor": "#C8D4E3"
           },
           "yaxis": {
            "backgroundcolor": "rgb(17,17,17)",
            "gridcolor": "#506784",
            "gridwidth": 2,
            "linecolor": "#506784",
            "showbackground": true,
            "ticks": "",
            "zerolinecolor": "#C8D4E3"
           },
           "zaxis": {
            "backgroundcolor": "rgb(17,17,17)",
            "gridcolor": "#506784",
            "gridwidth": 2,
            "linecolor": "#506784",
            "showbackground": true,
            "ticks": "",
            "zerolinecolor": "#C8D4E3"
           }
          },
          "shapedefaults": {
           "line": {
            "color": "#f2f5fa"
           }
          },
          "sliderdefaults": {
           "bgcolor": "#C8D4E3",
           "bordercolor": "rgb(17,17,17)",
           "borderwidth": 1,
           "tickwidth": 0
          },
          "ternary": {
           "aaxis": {
            "gridcolor": "#506784",
            "linecolor": "#506784",
            "ticks": ""
           },
           "baxis": {
            "gridcolor": "#506784",
            "linecolor": "#506784",
            "ticks": ""
           },
           "bgcolor": "rgb(17,17,17)",
           "caxis": {
            "gridcolor": "#506784",
            "linecolor": "#506784",
            "ticks": ""
           }
          },
          "title": {
           "x": 0.05
          },
          "updatemenudefaults": {
           "bgcolor": "#506784",
           "borderwidth": 0
          },
          "xaxis": {
           "automargin": true,
           "gridcolor": "#283442",
           "linecolor": "#506784",
           "ticks": "",
           "title": {
            "standoff": 15
           },
           "zerolinecolor": "#283442",
           "zerolinewidth": 2
          },
          "yaxis": {
           "automargin": true,
           "gridcolor": "#283442",
           "linecolor": "#506784",
           "ticks": "",
           "title": {
            "standoff": 15
           },
           "zerolinecolor": "#283442",
           "zerolinewidth": 2
          }
         }
        },
        "violinmode": "group",
        "xaxis": {
         "anchor": "y",
         "domain": [
          0,
          1
         ],
         "title": {
          "text": "Survived"
         }
        },
        "yaxis": {
         "anchor": "x",
         "domain": [
          0,
          1
         ],
         "title": {
          "text": "Age"
         }
        }
       }
      }
     },
     "metadata": {},
     "output_type": "display_data"
    }
   ],
   "source": [
    "fig = px.violin(df, y=\"Age\", x=\"Survived\", color=\"Sex\", box=True, points=\"all\", hover_data=df.columns, template=\"plotly_dark\")\n",
    "\n",
    "fig.show()"
   ]
  },
  {
   "cell_type": "code",
   "execution_count": null,
   "metadata": {},
   "outputs": [],
   "source": []
  }
 ],
 "metadata": {
  "kernelspec": {
   "display_name": "Python 3",
   "language": "python",
   "name": "python3"
  },
  "language_info": {
   "codemirror_mode": {
    "name": "ipython",
    "version": 3
   },
   "file_extension": ".py",
   "mimetype": "text/x-python",
   "name": "python",
   "nbconvert_exporter": "python",
   "pygments_lexer": "ipython3",
   "version": "3.11.1"
  },
  "orig_nbformat": 4,
  "vscode": {
   "interpreter": {
    "hash": "aee8b7b246df8f9039afb4144a1f6fd8d2ca17a180786b69acc140d282b71a49"
   }
  }
 },
 "nbformat": 4,
 "nbformat_minor": 2
}
